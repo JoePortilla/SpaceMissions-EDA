{
 "cells": [
  {
   "cell_type": "markdown",
   "id": "66054b8e",
   "metadata": {
    "papermill": {
     "duration": 0.027268,
     "end_time": "2023-05-22T18:41:33.258120",
     "exception": false,
     "start_time": "2023-05-22T18:41:33.230852",
     "status": "completed"
    },
    "tags": []
   },
   "source": [
    "# 0. Introducción\n",
    "\n",
    "<!-- <img src=\"https://raw.githubusercontent.com/JoePortilla/EnergyProductionCol-EDA/main/img/energyproduction_eda_cover.webp?token=GHSAT0AAAAAAB6AMADC5TFIULPHAY4XD3FUZBR77PA\" width=\"800\" alt=\"logo\" style=\"display:block;margin:auto;\"> -->\n",
    "\n",
    "- El dataset 'All Space Missions from 1957' es un conjunto de datos históricos que contiene información detallada sobre las misiones espaciales realizadas por la humanidad.\n",
    "- Este conjunto de datos incluye detalles sobre cada misión espacial, como el nombre de la misión, la agencia espacial responsable, el país de lanzamiento, la fecha de lanzamiento, y el resultado de la misión.\n",
    "- La información contiene las misiones desde el inicio de la carrera espacial hasta 2020.\n",
    "- Este conjunto de datos es ideal para para analizar y comprender la evolución de la exploración espacial a lo largo de los años, identificar las agencias y países más activos en este campo y explorar los diferentes tipos de misiones llevadas a cabo\n",
    "\n",
    "## Objetivo general\n",
    "Work in progress.\n",
    "\n",
    "## Objetivo especifico\n",
    "Este notebook se centra en explorar y visualizar el conjunto de datos.\n",
    "\n",
    "## Paquetes utilizados\n",
    "- Procesamiento de datos\n",
    "    - Pandas.\n",
    "- Procesamiento numérico.\n",
    "    - NumPy\n",
    "- Visualización de datos\n",
    "    - Seaborn\n",
    "    - Matplotlib.\n",
    "\n",
    "## Dataset\n",
    "[All Space Missions from 1957](https://www.kaggle.com/datasets/agirlcoding/all-space-missions-from-1957)\n",
    "\n",
    "## Referencias\n",
    "[Rocket Launch Manifest](https://nextspaceflight.com/launches/past/?page=1)\n",
    "\n",
    "## Instructor\n",
    "Joseph Santiago Portilla - Ingeniero Electrónico.\n",
    "- GitHub: https://github.com/JoePortilla\n",
    "- Twitter: https://twitter.com/JoePortilla\n",
    "- LinkedIn: https://www.linkedin.com/in/PortillaJoe\n",
    "- Kaggle: https://www.kaggle.com/joeportilla\n"
   ]
  },
  {
   "cell_type": "markdown",
   "id": "ab61cc7a",
   "metadata": {
    "execution": {
     "iopub.execute_input": "2023-03-31T19:32:53.120703Z",
     "iopub.status.busy": "2023-03-31T19:32:53.120274Z",
     "iopub.status.idle": "2023-03-31T19:32:53.126085Z",
     "shell.execute_reply": "2023-03-31T19:32:53.124884Z",
     "shell.execute_reply.started": "2023-03-31T19:32:53.120666Z"
    },
    "papermill": {
     "duration": 0.02768,
     "end_time": "2023-05-22T18:41:33.310736",
     "exception": false,
     "start_time": "2023-05-22T18:41:33.283056",
     "status": "completed"
    },
    "tags": []
   },
   "source": [
    "# 1. Ajustes Iniciales"
   ]
  },
  {
   "cell_type": "markdown",
   "id": "9b368c18",
   "metadata": {
    "papermill": {
     "duration": 0.024432,
     "end_time": "2023-05-22T18:41:33.360129",
     "exception": false,
     "start_time": "2023-05-22T18:41:33.335697",
     "status": "completed"
    },
    "tags": []
   },
   "source": [
    "## 1.1 Importación de Bibliotecas"
   ]
  },
  {
   "cell_type": "code",
   "execution_count": 1,
   "id": "85dbfc61",
   "metadata": {
    "_cell_guid": "b1076dfc-b9ad-4769-8c92-a6c4dae69d19",
    "_uuid": "8f2839f25d086af736a60e9eeb907d3b93b6e0e5",
    "execution": {
     "iopub.execute_input": "2023-05-22T18:41:33.411064Z",
     "iopub.status.busy": "2023-05-22T18:41:33.410123Z",
     "iopub.status.idle": "2023-05-22T18:41:34.993429Z",
     "shell.execute_reply": "2023-05-22T18:41:34.991785Z"
    },
    "papermill": {
     "duration": 1.614277,
     "end_time": "2023-05-22T18:41:34.998121",
     "exception": false,
     "start_time": "2023-05-22T18:41:33.383844",
     "status": "completed"
    },
    "tags": []
   },
   "outputs": [],
   "source": [
    "import numpy as np\n",
    "import pandas as pd\n",
    "import seaborn as sns\n",
    "import matplotlib.pyplot as plt"
   ]
  },
  {
   "cell_type": "markdown",
   "id": "2295cc5c",
   "metadata": {
    "papermill": {
     "duration": 0.024169,
     "end_time": "2023-05-22T18:41:35.047109",
     "exception": false,
     "start_time": "2023-05-22T18:41:35.022940",
     "status": "completed"
    },
    "tags": []
   },
   "source": [
    "## 1.2. Definición de estilo de gráficas"
   ]
  },
  {
   "cell_type": "code",
   "execution_count": 2,
   "id": "a26cc267",
   "metadata": {
    "execution": {
     "iopub.execute_input": "2023-05-22T18:41:35.100051Z",
     "iopub.status.busy": "2023-05-22T18:41:35.099473Z",
     "iopub.status.idle": "2023-05-22T18:41:35.106940Z",
     "shell.execute_reply": "2023-05-22T18:41:35.104805Z"
    },
    "papermill": {
     "duration": 0.038816,
     "end_time": "2023-05-22T18:41:35.110327",
     "exception": false,
     "start_time": "2023-05-22T18:41:35.071511",
     "status": "completed"
    },
    "tags": []
   },
   "outputs": [],
   "source": [
    "# https://matplotlib.org/stable/gallery/style_sheets/style_sheets_reference.html\n",
    "plt.style.use(\"seaborn-whitegrid\")"
   ]
  },
  {
   "cell_type": "markdown",
   "id": "b374f952",
   "metadata": {
    "papermill": {
     "duration": 0.024565,
     "end_time": "2023-05-22T18:41:35.159863",
     "exception": false,
     "start_time": "2023-05-22T18:41:35.135298",
     "status": "completed"
    },
    "tags": []
   },
   "source": [
    "# 2. Carga de Dataset y Revisión inicial"
   ]
  },
  {
   "cell_type": "markdown",
   "id": "e7f86a9d",
   "metadata": {
    "papermill": {
     "duration": 0.02354,
     "end_time": "2023-05-22T18:41:35.209461",
     "exception": false,
     "start_time": "2023-05-22T18:41:35.185921",
     "status": "completed"
    },
    "tags": []
   },
   "source": [
    "## 2.1. Lectura de CSV"
   ]
  },
  {
   "cell_type": "code",
   "execution_count": 3,
   "id": "47c52136",
   "metadata": {
    "execution": {
     "iopub.execute_input": "2023-05-22T18:41:35.264704Z",
     "iopub.status.busy": "2023-05-22T18:41:35.264113Z",
     "iopub.status.idle": "2023-05-22T18:41:35.333571Z",
     "shell.execute_reply": "2023-05-22T18:41:35.332290Z"
    },
    "papermill": {
     "duration": 0.101575,
     "end_time": "2023-05-22T18:41:35.336866",
     "exception": false,
     "start_time": "2023-05-22T18:41:35.235291",
     "status": "completed"
    },
    "tags": []
   },
   "outputs": [],
   "source": [
    "df0 = pd.read_csv('/kaggle/input/all-space-missions-from-1957/Space_Corrected.csv')"
   ]
  },
  {
   "cell_type": "markdown",
   "id": "046f342e",
   "metadata": {
    "papermill": {
     "duration": 0.023512,
     "end_time": "2023-05-22T18:41:35.384838",
     "exception": false,
     "start_time": "2023-05-22T18:41:35.361326",
     "status": "completed"
    },
    "tags": []
   },
   "source": [
    "## 2.2. Exploración inicial del dataframe"
   ]
  },
  {
   "cell_type": "markdown",
   "id": "ebcc976a",
   "metadata": {
    "papermill": {
     "duration": 0.024011,
     "end_time": "2023-05-22T18:41:35.435219",
     "exception": false,
     "start_time": "2023-05-22T18:41:35.411208",
     "status": "completed"
    },
    "tags": []
   },
   "source": [
    "### Info. general del dataset"
   ]
  },
  {
   "cell_type": "markdown",
   "id": "35c52d07",
   "metadata": {
    "papermill": {
     "duration": 0.023288,
     "end_time": "2023-05-22T18:41:35.483684",
     "exception": false,
     "start_time": "2023-05-22T18:41:35.460396",
     "status": "completed"
    },
    "tags": []
   },
   "source": [
    "El conjunto de datos contiene las siguientes variables:\n",
    "\n",
    "- `Company Name`: Nombre de la compañia\n",
    "- `Location`: Ubicación del lanzamiento\n",
    "- `Datum`: Fecha y hora del lanzamiento\n",
    "- `Detail`: Nombre del cohete y su payload\n",
    "- `Status Rocket`: Estado del cohete\n",
    "- `Rocket`: Costo de la misión [millones de USD]\n",
    "- `Status Mission`: Estado de la misión"
   ]
  },
  {
   "cell_type": "code",
   "execution_count": 4,
   "id": "8c7736ec",
   "metadata": {
    "execution": {
     "iopub.execute_input": "2023-05-22T18:41:35.540184Z",
     "iopub.status.busy": "2023-05-22T18:41:35.538556Z",
     "iopub.status.idle": "2023-05-22T18:41:35.550062Z",
     "shell.execute_reply": "2023-05-22T18:41:35.548432Z"
    },
    "papermill": {
     "duration": 0.045729,
     "end_time": "2023-05-22T18:41:35.553223",
     "exception": false,
     "start_time": "2023-05-22T18:41:35.507494",
     "status": "completed"
    },
    "tags": []
   },
   "outputs": [
    {
     "data": {
      "text/plain": [
       "Index(['Unnamed: 0', 'Unnamed: 0.1', 'Company Name', 'Location', 'Datum',\n",
       "       'Detail', 'Status Rocket', ' Rocket', 'Status Mission'],\n",
       "      dtype='object')"
      ]
     },
     "execution_count": 4,
     "metadata": {},
     "output_type": "execute_result"
    }
   ],
   "source": [
    "df0.columns"
   ]
  },
  {
   "cell_type": "code",
   "execution_count": 5,
   "id": "5d6d790d",
   "metadata": {
    "execution": {
     "iopub.execute_input": "2023-05-22T18:41:35.605959Z",
     "iopub.status.busy": "2023-05-22T18:41:35.605402Z",
     "iopub.status.idle": "2023-05-22T18:41:35.644114Z",
     "shell.execute_reply": "2023-05-22T18:41:35.642867Z"
    },
    "papermill": {
     "duration": 0.068992,
     "end_time": "2023-05-22T18:41:35.647193",
     "exception": false,
     "start_time": "2023-05-22T18:41:35.578201",
     "status": "completed"
    },
    "tags": []
   },
   "outputs": [
    {
     "data": {
      "text/html": [
       "<div>\n",
       "<style scoped>\n",
       "    .dataframe tbody tr th:only-of-type {\n",
       "        vertical-align: middle;\n",
       "    }\n",
       "\n",
       "    .dataframe tbody tr th {\n",
       "        vertical-align: top;\n",
       "    }\n",
       "\n",
       "    .dataframe thead th {\n",
       "        text-align: right;\n",
       "    }\n",
       "</style>\n",
       "<table border=\"1\" class=\"dataframe\">\n",
       "  <thead>\n",
       "    <tr style=\"text-align: right;\">\n",
       "      <th></th>\n",
       "      <th>Unnamed: 0</th>\n",
       "      <th>Unnamed: 0.1</th>\n",
       "      <th>Company Name</th>\n",
       "      <th>Location</th>\n",
       "      <th>Datum</th>\n",
       "      <th>Detail</th>\n",
       "      <th>Status Rocket</th>\n",
       "      <th>Rocket</th>\n",
       "      <th>Status Mission</th>\n",
       "    </tr>\n",
       "  </thead>\n",
       "  <tbody>\n",
       "    <tr>\n",
       "      <th>0</th>\n",
       "      <td>0</td>\n",
       "      <td>0</td>\n",
       "      <td>SpaceX</td>\n",
       "      <td>LC-39A, Kennedy Space Center, Florida, USA</td>\n",
       "      <td>Fri Aug 07, 2020 05:12 UTC</td>\n",
       "      <td>Falcon 9 Block 5 | Starlink V1 L9 &amp; BlackSky</td>\n",
       "      <td>StatusActive</td>\n",
       "      <td>50.0</td>\n",
       "      <td>Success</td>\n",
       "    </tr>\n",
       "    <tr>\n",
       "      <th>1</th>\n",
       "      <td>1</td>\n",
       "      <td>1</td>\n",
       "      <td>CASC</td>\n",
       "      <td>Site 9401 (SLS-2), Jiuquan Satellite Launch Ce...</td>\n",
       "      <td>Thu Aug 06, 2020 04:01 UTC</td>\n",
       "      <td>Long March 2D | Gaofen-9 04 &amp; Q-SAT</td>\n",
       "      <td>StatusActive</td>\n",
       "      <td>29.75</td>\n",
       "      <td>Success</td>\n",
       "    </tr>\n",
       "    <tr>\n",
       "      <th>2</th>\n",
       "      <td>2</td>\n",
       "      <td>2</td>\n",
       "      <td>SpaceX</td>\n",
       "      <td>Pad A, Boca Chica, Texas, USA</td>\n",
       "      <td>Tue Aug 04, 2020 23:57 UTC</td>\n",
       "      <td>Starship Prototype | 150 Meter Hop</td>\n",
       "      <td>StatusActive</td>\n",
       "      <td>NaN</td>\n",
       "      <td>Success</td>\n",
       "    </tr>\n",
       "    <tr>\n",
       "      <th>3</th>\n",
       "      <td>3</td>\n",
       "      <td>3</td>\n",
       "      <td>Roscosmos</td>\n",
       "      <td>Site 200/39, Baikonur Cosmodrome, Kazakhstan</td>\n",
       "      <td>Thu Jul 30, 2020 21:25 UTC</td>\n",
       "      <td>Proton-M/Briz-M | Ekspress-80 &amp; Ekspress-103</td>\n",
       "      <td>StatusActive</td>\n",
       "      <td>65.0</td>\n",
       "      <td>Success</td>\n",
       "    </tr>\n",
       "    <tr>\n",
       "      <th>4</th>\n",
       "      <td>4</td>\n",
       "      <td>4</td>\n",
       "      <td>ULA</td>\n",
       "      <td>SLC-41, Cape Canaveral AFS, Florida, USA</td>\n",
       "      <td>Thu Jul 30, 2020 11:50 UTC</td>\n",
       "      <td>Atlas V 541 | Perseverance</td>\n",
       "      <td>StatusActive</td>\n",
       "      <td>145.0</td>\n",
       "      <td>Success</td>\n",
       "    </tr>\n",
       "  </tbody>\n",
       "</table>\n",
       "</div>"
      ],
      "text/plain": [
       "   Unnamed: 0  Unnamed: 0.1 Company Name  \\\n",
       "0           0             0       SpaceX   \n",
       "1           1             1         CASC   \n",
       "2           2             2       SpaceX   \n",
       "3           3             3    Roscosmos   \n",
       "4           4             4          ULA   \n",
       "\n",
       "                                            Location  \\\n",
       "0         LC-39A, Kennedy Space Center, Florida, USA   \n",
       "1  Site 9401 (SLS-2), Jiuquan Satellite Launch Ce...   \n",
       "2                      Pad A, Boca Chica, Texas, USA   \n",
       "3       Site 200/39, Baikonur Cosmodrome, Kazakhstan   \n",
       "4           SLC-41, Cape Canaveral AFS, Florida, USA   \n",
       "\n",
       "                        Datum                                        Detail  \\\n",
       "0  Fri Aug 07, 2020 05:12 UTC  Falcon 9 Block 5 | Starlink V1 L9 & BlackSky   \n",
       "1  Thu Aug 06, 2020 04:01 UTC           Long March 2D | Gaofen-9 04 & Q-SAT   \n",
       "2  Tue Aug 04, 2020 23:57 UTC            Starship Prototype | 150 Meter Hop   \n",
       "3  Thu Jul 30, 2020 21:25 UTC  Proton-M/Briz-M | Ekspress-80 & Ekspress-103   \n",
       "4  Thu Jul 30, 2020 11:50 UTC                    Atlas V 541 | Perseverance   \n",
       "\n",
       "  Status Rocket  Rocket Status Mission  \n",
       "0  StatusActive   50.0         Success  \n",
       "1  StatusActive  29.75         Success  \n",
       "2  StatusActive     NaN        Success  \n",
       "3  StatusActive   65.0         Success  \n",
       "4  StatusActive  145.0         Success  "
      ]
     },
     "execution_count": 5,
     "metadata": {},
     "output_type": "execute_result"
    }
   ],
   "source": [
    "df0.head()"
   ]
  },
  {
   "cell_type": "code",
   "execution_count": 6,
   "id": "4f0ae64a",
   "metadata": {
    "execution": {
     "iopub.execute_input": "2023-05-22T18:41:35.699381Z",
     "iopub.status.busy": "2023-05-22T18:41:35.698536Z",
     "iopub.status.idle": "2023-05-22T18:41:35.734583Z",
     "shell.execute_reply": "2023-05-22T18:41:35.732537Z"
    },
    "papermill": {
     "duration": 0.066295,
     "end_time": "2023-05-22T18:41:35.737852",
     "exception": false,
     "start_time": "2023-05-22T18:41:35.671557",
     "status": "completed"
    },
    "tags": []
   },
   "outputs": [
    {
     "name": "stdout",
     "output_type": "stream",
     "text": [
      "<class 'pandas.core.frame.DataFrame'>\n",
      "RangeIndex: 4324 entries, 0 to 4323\n",
      "Data columns (total 9 columns):\n",
      " #   Column          Non-Null Count  Dtype \n",
      "---  ------          --------------  ----- \n",
      " 0   Unnamed: 0      4324 non-null   int64 \n",
      " 1   Unnamed: 0.1    4324 non-null   int64 \n",
      " 2   Company Name    4324 non-null   object\n",
      " 3   Location        4324 non-null   object\n",
      " 4   Datum           4324 non-null   object\n",
      " 5   Detail          4324 non-null   object\n",
      " 6   Status Rocket   4324 non-null   object\n",
      " 7    Rocket         964 non-null    object\n",
      " 8   Status Mission  4324 non-null   object\n",
      "dtypes: int64(2), object(7)\n",
      "memory usage: 304.2+ KB\n"
     ]
    }
   ],
   "source": [
    "df0.info()"
   ]
  },
  {
   "cell_type": "markdown",
   "id": "f0998da7",
   "metadata": {
    "papermill": {
     "duration": 0.024044,
     "end_time": "2023-05-22T18:41:35.787189",
     "exception": false,
     "start_time": "2023-05-22T18:41:35.763145",
     "status": "completed"
    },
    "tags": []
   },
   "source": [
    "### Dimensión del datafrane"
   ]
  },
  {
   "cell_type": "code",
   "execution_count": 7,
   "id": "284d72d7",
   "metadata": {
    "execution": {
     "iopub.execute_input": "2023-05-22T18:41:35.839438Z",
     "iopub.status.busy": "2023-05-22T18:41:35.838572Z",
     "iopub.status.idle": "2023-05-22T18:41:35.846025Z",
     "shell.execute_reply": "2023-05-22T18:41:35.844879Z"
    },
    "papermill": {
     "duration": 0.036561,
     "end_time": "2023-05-22T18:41:35.848831",
     "exception": false,
     "start_time": "2023-05-22T18:41:35.812270",
     "status": "completed"
    },
    "tags": []
   },
   "outputs": [
    {
     "data": {
      "text/plain": [
       "(4324, 9)"
      ]
     },
     "execution_count": 7,
     "metadata": {},
     "output_type": "execute_result"
    }
   ],
   "source": [
    "df0.shape"
   ]
  },
  {
   "cell_type": "markdown",
   "id": "30c89390",
   "metadata": {
    "papermill": {
     "duration": 0.024073,
     "end_time": "2023-05-22T18:41:35.897731",
     "exception": false,
     "start_time": "2023-05-22T18:41:35.873658",
     "status": "completed"
    },
    "tags": []
   },
   "source": [
    "# 3. Preprocesamiento"
   ]
  },
  {
   "cell_type": "code",
   "execution_count": 8,
   "id": "1a5a210b",
   "metadata": {
    "execution": {
     "iopub.execute_input": "2023-05-22T18:41:35.949646Z",
     "iopub.status.busy": "2023-05-22T18:41:35.948348Z",
     "iopub.status.idle": "2023-05-22T18:41:35.955101Z",
     "shell.execute_reply": "2023-05-22T18:41:35.953636Z"
    },
    "papermill": {
     "duration": 0.036163,
     "end_time": "2023-05-22T18:41:35.958240",
     "exception": false,
     "start_time": "2023-05-22T18:41:35.922077",
     "status": "completed"
    },
    "tags": []
   },
   "outputs": [],
   "source": [
    "df = df0.copy()"
   ]
  },
  {
   "cell_type": "markdown",
   "id": "f89abac2",
   "metadata": {
    "papermill": {
     "duration": 0.024599,
     "end_time": "2023-05-22T18:41:36.008424",
     "exception": false,
     "start_time": "2023-05-22T18:41:35.983825",
     "status": "completed"
    },
    "tags": []
   },
   "source": [
    "## 3.1. Feature selection"
   ]
  },
  {
   "cell_type": "code",
   "execution_count": 9,
   "id": "478c413b",
   "metadata": {
    "execution": {
     "iopub.execute_input": "2023-05-22T18:41:36.065263Z",
     "iopub.status.busy": "2023-05-22T18:41:36.064406Z",
     "iopub.status.idle": "2023-05-22T18:41:36.072284Z",
     "shell.execute_reply": "2023-05-22T18:41:36.071076Z"
    },
    "papermill": {
     "duration": 0.0395,
     "end_time": "2023-05-22T18:41:36.075590",
     "exception": false,
     "start_time": "2023-05-22T18:41:36.036090",
     "status": "completed"
    },
    "tags": []
   },
   "outputs": [],
   "source": [
    "filt = ['Unnamed: 0', 'Unnamed: 0.1']\n",
    "df.drop(filt, axis=1, inplace=True)"
   ]
  },
  {
   "cell_type": "code",
   "execution_count": 10,
   "id": "d9106deb",
   "metadata": {
    "execution": {
     "iopub.execute_input": "2023-05-22T18:41:36.129486Z",
     "iopub.status.busy": "2023-05-22T18:41:36.128938Z",
     "iopub.status.idle": "2023-05-22T18:41:36.148370Z",
     "shell.execute_reply": "2023-05-22T18:41:36.146741Z"
    },
    "papermill": {
     "duration": 0.051189,
     "end_time": "2023-05-22T18:41:36.152198",
     "exception": false,
     "start_time": "2023-05-22T18:41:36.101009",
     "status": "completed"
    },
    "tags": []
   },
   "outputs": [
    {
     "data": {
      "text/html": [
       "<div>\n",
       "<style scoped>\n",
       "    .dataframe tbody tr th:only-of-type {\n",
       "        vertical-align: middle;\n",
       "    }\n",
       "\n",
       "    .dataframe tbody tr th {\n",
       "        vertical-align: top;\n",
       "    }\n",
       "\n",
       "    .dataframe thead th {\n",
       "        text-align: right;\n",
       "    }\n",
       "</style>\n",
       "<table border=\"1\" class=\"dataframe\">\n",
       "  <thead>\n",
       "    <tr style=\"text-align: right;\">\n",
       "      <th></th>\n",
       "      <th>Company Name</th>\n",
       "      <th>Location</th>\n",
       "      <th>Datum</th>\n",
       "      <th>Detail</th>\n",
       "      <th>Status Rocket</th>\n",
       "      <th>Rocket</th>\n",
       "      <th>Status Mission</th>\n",
       "    </tr>\n",
       "  </thead>\n",
       "  <tbody>\n",
       "    <tr>\n",
       "      <th>0</th>\n",
       "      <td>SpaceX</td>\n",
       "      <td>LC-39A, Kennedy Space Center, Florida, USA</td>\n",
       "      <td>Fri Aug 07, 2020 05:12 UTC</td>\n",
       "      <td>Falcon 9 Block 5 | Starlink V1 L9 &amp; BlackSky</td>\n",
       "      <td>StatusActive</td>\n",
       "      <td>50.0</td>\n",
       "      <td>Success</td>\n",
       "    </tr>\n",
       "    <tr>\n",
       "      <th>1</th>\n",
       "      <td>CASC</td>\n",
       "      <td>Site 9401 (SLS-2), Jiuquan Satellite Launch Ce...</td>\n",
       "      <td>Thu Aug 06, 2020 04:01 UTC</td>\n",
       "      <td>Long March 2D | Gaofen-9 04 &amp; Q-SAT</td>\n",
       "      <td>StatusActive</td>\n",
       "      <td>29.75</td>\n",
       "      <td>Success</td>\n",
       "    </tr>\n",
       "    <tr>\n",
       "      <th>2</th>\n",
       "      <td>SpaceX</td>\n",
       "      <td>Pad A, Boca Chica, Texas, USA</td>\n",
       "      <td>Tue Aug 04, 2020 23:57 UTC</td>\n",
       "      <td>Starship Prototype | 150 Meter Hop</td>\n",
       "      <td>StatusActive</td>\n",
       "      <td>NaN</td>\n",
       "      <td>Success</td>\n",
       "    </tr>\n",
       "    <tr>\n",
       "      <th>3</th>\n",
       "      <td>Roscosmos</td>\n",
       "      <td>Site 200/39, Baikonur Cosmodrome, Kazakhstan</td>\n",
       "      <td>Thu Jul 30, 2020 21:25 UTC</td>\n",
       "      <td>Proton-M/Briz-M | Ekspress-80 &amp; Ekspress-103</td>\n",
       "      <td>StatusActive</td>\n",
       "      <td>65.0</td>\n",
       "      <td>Success</td>\n",
       "    </tr>\n",
       "    <tr>\n",
       "      <th>4</th>\n",
       "      <td>ULA</td>\n",
       "      <td>SLC-41, Cape Canaveral AFS, Florida, USA</td>\n",
       "      <td>Thu Jul 30, 2020 11:50 UTC</td>\n",
       "      <td>Atlas V 541 | Perseverance</td>\n",
       "      <td>StatusActive</td>\n",
       "      <td>145.0</td>\n",
       "      <td>Success</td>\n",
       "    </tr>\n",
       "  </tbody>\n",
       "</table>\n",
       "</div>"
      ],
      "text/plain": [
       "  Company Name                                           Location  \\\n",
       "0       SpaceX         LC-39A, Kennedy Space Center, Florida, USA   \n",
       "1         CASC  Site 9401 (SLS-2), Jiuquan Satellite Launch Ce...   \n",
       "2       SpaceX                      Pad A, Boca Chica, Texas, USA   \n",
       "3    Roscosmos       Site 200/39, Baikonur Cosmodrome, Kazakhstan   \n",
       "4          ULA           SLC-41, Cape Canaveral AFS, Florida, USA   \n",
       "\n",
       "                        Datum                                        Detail  \\\n",
       "0  Fri Aug 07, 2020 05:12 UTC  Falcon 9 Block 5 | Starlink V1 L9 & BlackSky   \n",
       "1  Thu Aug 06, 2020 04:01 UTC           Long March 2D | Gaofen-9 04 & Q-SAT   \n",
       "2  Tue Aug 04, 2020 23:57 UTC            Starship Prototype | 150 Meter Hop   \n",
       "3  Thu Jul 30, 2020 21:25 UTC  Proton-M/Briz-M | Ekspress-80 & Ekspress-103   \n",
       "4  Thu Jul 30, 2020 11:50 UTC                    Atlas V 541 | Perseverance   \n",
       "\n",
       "  Status Rocket  Rocket Status Mission  \n",
       "0  StatusActive   50.0         Success  \n",
       "1  StatusActive  29.75         Success  \n",
       "2  StatusActive     NaN        Success  \n",
       "3  StatusActive   65.0         Success  \n",
       "4  StatusActive  145.0         Success  "
      ]
     },
     "execution_count": 10,
     "metadata": {},
     "output_type": "execute_result"
    }
   ],
   "source": [
    "df.head()"
   ]
  },
  {
   "cell_type": "markdown",
   "id": "117d1501",
   "metadata": {
    "papermill": {
     "duration": 0.024759,
     "end_time": "2023-05-22T18:41:36.201993",
     "exception": false,
     "start_time": "2023-05-22T18:41:36.177234",
     "status": "completed"
    },
    "tags": []
   },
   "source": [
    "## 3.2. Column renaming"
   ]
  },
  {
   "cell_type": "code",
   "execution_count": 11,
   "id": "df02353d",
   "metadata": {
    "execution": {
     "iopub.execute_input": "2023-05-22T18:41:36.254740Z",
     "iopub.status.busy": "2023-05-22T18:41:36.253396Z",
     "iopub.status.idle": "2023-05-22T18:41:36.262179Z",
     "shell.execute_reply": "2023-05-22T18:41:36.260857Z"
    },
    "papermill": {
     "duration": 0.038423,
     "end_time": "2023-05-22T18:41:36.265163",
     "exception": false,
     "start_time": "2023-05-22T18:41:36.226740",
     "status": "completed"
    },
    "tags": []
   },
   "outputs": [],
   "source": [
    "df.rename(columns={'Company Name':'company',\n",
    "                   'Location':'launch_facility',\n",
    "                   'Datum':'date',\n",
    "                   'Detail':'detail',\n",
    "                   'Status Rocket':'rocket_status',\n",
    "                   ' Rocket':'cost',\n",
    "                   'Status Mission':'mission_status'},\n",
    "          inplace=True)"
   ]
  },
  {
   "cell_type": "markdown",
   "id": "5f87b3d2",
   "metadata": {
    "papermill": {
     "duration": 0.024962,
     "end_time": "2023-05-22T18:41:36.315120",
     "exception": false,
     "start_time": "2023-05-22T18:41:36.290158",
     "status": "completed"
    },
    "tags": []
   },
   "source": [
    "## 3.3. Data filtering"
   ]
  },
  {
   "cell_type": "markdown",
   "id": "2ff0d44b",
   "metadata": {
    "papermill": {
     "duration": 0.025352,
     "end_time": "2023-05-22T18:41:36.365223",
     "exception": false,
     "start_time": "2023-05-22T18:41:36.339871",
     "status": "completed"
    },
    "tags": []
   },
   "source": [
    "-"
   ]
  },
  {
   "cell_type": "markdown",
   "id": "6db2bd3b",
   "metadata": {
    "papermill": {
     "duration": 0.024749,
     "end_time": "2023-05-22T18:41:36.416201",
     "exception": false,
     "start_time": "2023-05-22T18:41:36.391452",
     "status": "completed"
    },
    "tags": []
   },
   "source": [
    "## 3.4. Feature conversion"
   ]
  },
  {
   "cell_type": "markdown",
   "id": "67479b55",
   "metadata": {
    "papermill": {
     "duration": 0.025629,
     "end_time": "2023-05-22T18:41:36.467813",
     "exception": false,
     "start_time": "2023-05-22T18:41:36.442184",
     "status": "completed"
    },
    "tags": []
   },
   "source": [
    "### 3.4.1. Fecha"
   ]
  },
  {
   "cell_type": "markdown",
   "id": "b61b51a2",
   "metadata": {
    "papermill": {
     "duration": 0.02594,
     "end_time": "2023-05-22T18:41:36.520017",
     "exception": false,
     "start_time": "2023-05-22T18:41:36.494077",
     "status": "completed"
    },
    "tags": []
   },
   "source": [
    "Eliminar los caracteres ' UTC' de los registros de fecha"
   ]
  },
  {
   "cell_type": "code",
   "execution_count": 12,
   "id": "4b20b936",
   "metadata": {
    "execution": {
     "iopub.execute_input": "2023-05-22T18:41:36.573713Z",
     "iopub.status.busy": "2023-05-22T18:41:36.573222Z",
     "iopub.status.idle": "2023-05-22T18:41:36.588076Z",
     "shell.execute_reply": "2023-05-22T18:41:36.586476Z"
    },
    "papermill": {
     "duration": 0.046308,
     "end_time": "2023-05-22T18:41:36.591312",
     "exception": false,
     "start_time": "2023-05-22T18:41:36.545004",
     "status": "completed"
    },
    "tags": []
   },
   "outputs": [],
   "source": [
    "df['date'] = df['date'].str.replace(' UTC', '')"
   ]
  },
  {
   "cell_type": "markdown",
   "id": "aebea93c",
   "metadata": {
    "papermill": {
     "duration": 0.024948,
     "end_time": "2023-05-22T18:41:36.642974",
     "exception": false,
     "start_time": "2023-05-22T18:41:36.618026",
     "status": "completed"
    },
    "tags": []
   },
   "source": [
    "Debido a que hay formatos combinados en los registros de fecha se crea una función para poder convertirlos a tipo `datetime`"
   ]
  },
  {
   "cell_type": "code",
   "execution_count": 13,
   "id": "92bb5996",
   "metadata": {
    "execution": {
     "iopub.execute_input": "2023-05-22T18:41:36.696633Z",
     "iopub.status.busy": "2023-05-22T18:41:36.695647Z",
     "iopub.status.idle": "2023-05-22T18:41:36.702871Z",
     "shell.execute_reply": "2023-05-22T18:41:36.701099Z"
    },
    "papermill": {
     "duration": 0.03874,
     "end_time": "2023-05-22T18:41:36.706574",
     "exception": false,
     "start_time": "2023-05-22T18:41:36.667834",
     "status": "completed"
    },
    "tags": []
   },
   "outputs": [],
   "source": [
    "def date_formator(date):\n",
    "    if ':' in date:\n",
    "        return pd.to_datetime(date, format='%a %b %d, %Y %H:%M')\n",
    "    else:\n",
    "        return pd.to_datetime(date, format='%a %b %d, %Y')"
   ]
  },
  {
   "cell_type": "markdown",
   "id": "d0a97a3a",
   "metadata": {
    "papermill": {
     "duration": 0.024831,
     "end_time": "2023-05-22T18:41:36.758323",
     "exception": false,
     "start_time": "2023-05-22T18:41:36.733492",
     "status": "completed"
    },
    "tags": []
   },
   "source": [
    "Convertir columna `date` a tipo datetime"
   ]
  },
  {
   "cell_type": "code",
   "execution_count": 14,
   "id": "5017d096",
   "metadata": {
    "execution": {
     "iopub.execute_input": "2023-05-22T18:41:36.814708Z",
     "iopub.status.busy": "2023-05-22T18:41:36.812366Z",
     "iopub.status.idle": "2023-05-22T18:41:37.478279Z",
     "shell.execute_reply": "2023-05-22T18:41:37.476726Z"
    },
    "papermill": {
     "duration": 0.697502,
     "end_time": "2023-05-22T18:41:37.482171",
     "exception": false,
     "start_time": "2023-05-22T18:41:36.784669",
     "status": "completed"
    },
    "tags": []
   },
   "outputs": [],
   "source": [
    "df['date'] = df['date'].apply(date_formator)"
   ]
  },
  {
   "cell_type": "markdown",
   "id": "a65420fe",
   "metadata": {
    "papermill": {
     "duration": 0.025474,
     "end_time": "2023-05-22T18:41:37.533374",
     "exception": false,
     "start_time": "2023-05-22T18:41:37.507900",
     "status": "completed"
    },
    "tags": []
   },
   "source": [
    "### 3.4.2. Costo"
   ]
  },
  {
   "cell_type": "markdown",
   "id": "76ec9526",
   "metadata": {
    "papermill": {
     "duration": 0.024737,
     "end_time": "2023-05-22T18:41:37.583860",
     "exception": false,
     "start_time": "2023-05-22T18:41:37.559123",
     "status": "completed"
    },
    "tags": []
   },
   "source": [
    "Convertir los registros de costo a tipo `float`. Para evitar inconvenientes en la conversión se elimina el caracter `,` que representa los millares en el costo."
   ]
  },
  {
   "cell_type": "code",
   "execution_count": 15,
   "id": "47d407d6",
   "metadata": {
    "execution": {
     "iopub.execute_input": "2023-05-22T18:41:37.639136Z",
     "iopub.status.busy": "2023-05-22T18:41:37.638563Z",
     "iopub.status.idle": "2023-05-22T18:41:37.650717Z",
     "shell.execute_reply": "2023-05-22T18:41:37.649042Z"
    },
    "papermill": {
     "duration": 0.044492,
     "end_time": "2023-05-22T18:41:37.654171",
     "exception": false,
     "start_time": "2023-05-22T18:41:37.609679",
     "status": "completed"
    },
    "tags": []
   },
   "outputs": [],
   "source": [
    "df['cost'] = df['cost'].str.replace(',', '')\n",
    "df['cost'] = df['cost'].astype(float)"
   ]
  },
  {
   "cell_type": "markdown",
   "id": "e0c34f53",
   "metadata": {
    "papermill": {
     "duration": 0.02459,
     "end_time": "2023-05-22T18:41:37.704276",
     "exception": false,
     "start_time": "2023-05-22T18:41:37.679686",
     "status": "completed"
    },
    "tags": []
   },
   "source": [
    "## 3.5. Feature construction"
   ]
  },
  {
   "cell_type": "markdown",
   "id": "7f52cdb7",
   "metadata": {
    "papermill": {
     "duration": 0.0245,
     "end_time": "2023-05-22T18:41:37.755342",
     "exception": false,
     "start_time": "2023-05-22T18:41:37.730842",
     "status": "completed"
    },
    "tags": []
   },
   "source": [
    "### 3.5.1. Año y mes"
   ]
  },
  {
   "cell_type": "markdown",
   "id": "2d528bbc",
   "metadata": {
    "papermill": {
     "duration": 0.026734,
     "end_time": "2023-05-22T18:41:37.808288",
     "exception": false,
     "start_time": "2023-05-22T18:41:37.781554",
     "status": "completed"
    },
    "tags": []
   },
   "source": [
    "Crear columna de año y mes"
   ]
  },
  {
   "cell_type": "code",
   "execution_count": 16,
   "id": "30bd16c2",
   "metadata": {
    "execution": {
     "iopub.execute_input": "2023-05-22T18:41:37.861784Z",
     "iopub.status.busy": "2023-05-22T18:41:37.860741Z",
     "iopub.status.idle": "2023-05-22T18:41:37.870687Z",
     "shell.execute_reply": "2023-05-22T18:41:37.869571Z"
    },
    "papermill": {
     "duration": 0.040188,
     "end_time": "2023-05-22T18:41:37.873869",
     "exception": false,
     "start_time": "2023-05-22T18:41:37.833681",
     "status": "completed"
    },
    "tags": []
   },
   "outputs": [],
   "source": [
    "df['year'] = df['date'].dt.year\n",
    "df['month'] = df['date'].dt.month"
   ]
  },
  {
   "cell_type": "markdown",
   "id": "e94e2ebe",
   "metadata": {
    "papermill": {
     "duration": 0.025602,
     "end_time": "2023-05-22T18:41:37.924919",
     "exception": false,
     "start_time": "2023-05-22T18:41:37.899317",
     "status": "completed"
    },
    "tags": []
   },
   "source": [
    "### 3.5.2. Ubicación lanzamiento"
   ]
  },
  {
   "cell_type": "markdown",
   "id": "7d62ed14",
   "metadata": {
    "papermill": {
     "duration": 0.024561,
     "end_time": "2023-05-22T18:41:37.974523",
     "exception": false,
     "start_time": "2023-05-22T18:41:37.949962",
     "status": "completed"
    },
    "tags": []
   },
   "source": [
    "Crear columna con la ubicación del lanzamiento, a partir del centro de lanzamiento"
   ]
  },
  {
   "cell_type": "code",
   "execution_count": 17,
   "id": "664d8531",
   "metadata": {
    "execution": {
     "iopub.execute_input": "2023-05-22T18:41:38.027284Z",
     "iopub.status.busy": "2023-05-22T18:41:38.026732Z",
     "iopub.status.idle": "2023-05-22T18:41:38.049297Z",
     "shell.execute_reply": "2023-05-22T18:41:38.047706Z"
    },
    "papermill": {
     "duration": 0.053329,
     "end_time": "2023-05-22T18:41:38.052830",
     "exception": false,
     "start_time": "2023-05-22T18:41:37.999501",
     "status": "completed"
    },
    "tags": []
   },
   "outputs": [],
   "source": [
    "df['launch_location'] = df['launch_facility'].str.split(', ').str[-1]"
   ]
  },
  {
   "cell_type": "markdown",
   "id": "ae0d7d7f",
   "metadata": {
    "papermill": {
     "duration": 0.02452,
     "end_time": "2023-05-22T18:41:38.102115",
     "exception": false,
     "start_time": "2023-05-22T18:41:38.077595",
     "status": "completed"
    },
    "tags": []
   },
   "source": [
    "### 3.5.3. Cohete y payload"
   ]
  },
  {
   "cell_type": "markdown",
   "id": "3fd8bc40",
   "metadata": {
    "papermill": {
     "duration": 0.026159,
     "end_time": "2023-05-22T18:41:38.153644",
     "exception": false,
     "start_time": "2023-05-22T18:41:38.127485",
     "status": "completed"
    },
    "tags": []
   },
   "source": [
    "Dividir la columna `detail` en dos. Una para el nombre del cohete `rocket` y otra para la carga `payload` que lleva."
   ]
  },
  {
   "cell_type": "code",
   "execution_count": 18,
   "id": "7cc2af64",
   "metadata": {
    "execution": {
     "iopub.execute_input": "2023-05-22T18:41:38.208785Z",
     "iopub.status.busy": "2023-05-22T18:41:38.208227Z",
     "iopub.status.idle": "2023-05-22T18:41:38.235285Z",
     "shell.execute_reply": "2023-05-22T18:41:38.233745Z"
    },
    "papermill": {
     "duration": 0.058271,
     "end_time": "2023-05-22T18:41:38.239065",
     "exception": false,
     "start_time": "2023-05-22T18:41:38.180794",
     "status": "completed"
    },
    "tags": []
   },
   "outputs": [],
   "source": [
    "df[['rocket', 'payload']] = df['detail'].str.split('|', expand=True)\n",
    "df.drop('detail', axis=1, inplace=True)"
   ]
  },
  {
   "cell_type": "markdown",
   "id": "0b87fe0a",
   "metadata": {
    "papermill": {
     "duration": 0.024612,
     "end_time": "2023-05-22T18:41:38.289554",
     "exception": false,
     "start_time": "2023-05-22T18:41:38.264942",
     "status": "completed"
    },
    "tags": []
   },
   "source": [
    "## 3.6. Value renaming"
   ]
  },
  {
   "cell_type": "markdown",
   "id": "8b67a9ea",
   "metadata": {
    "papermill": {
     "duration": 0.024413,
     "end_time": "2023-05-22T18:41:38.338946",
     "exception": false,
     "start_time": "2023-05-22T18:41:38.314533",
     "status": "completed"
    },
    "tags": []
   },
   "source": [
    "Renombrar los sitios de lanzamiento, a su ubicación en el respectivos País"
   ]
  },
  {
   "cell_type": "code",
   "execution_count": 19,
   "id": "1f398e4a",
   "metadata": {
    "execution": {
     "iopub.execute_input": "2023-05-22T18:41:38.391794Z",
     "iopub.status.busy": "2023-05-22T18:41:38.390789Z",
     "iopub.status.idle": "2023-05-22T18:41:38.402093Z",
     "shell.execute_reply": "2023-05-22T18:41:38.400876Z"
    },
    "papermill": {
     "duration": 0.041755,
     "end_time": "2023-05-22T18:41:38.405405",
     "exception": false,
     "start_time": "2023-05-22T18:41:38.363650",
     "status": "completed"
    },
    "tags": []
   },
   "outputs": [],
   "source": [
    "countries_dict = {\n",
    "    'New Mexico' : 'USA',\n",
    "    \"Yellow Sea\": 'China',\n",
    "    \"Shahrud Missile Test Site\": \"Iran\",\n",
    "    \"Pacific Missile Range Facility\": 'USA',\n",
    "    \"Barents Sea\": 'Russia',\n",
    "    \"Gran Canaria\": 'USA'\n",
    "}\n",
    "\n",
    "df['launch_location'] = df['launch_location'].replace(countries_dict)"
   ]
  },
  {
   "cell_type": "markdown",
   "id": "f277b57b",
   "metadata": {
    "papermill": {
     "duration": 0.024477,
     "end_time": "2023-05-22T18:41:38.455157",
     "exception": false,
     "start_time": "2023-05-22T18:41:38.430680",
     "status": "completed"
    },
    "tags": []
   },
   "source": [
    "## 3.7. Data reordering"
   ]
  },
  {
   "cell_type": "code",
   "execution_count": 20,
   "id": "fc65a036",
   "metadata": {
    "execution": {
     "iopub.execute_input": "2023-05-22T18:41:38.508777Z",
     "iopub.status.busy": "2023-05-22T18:41:38.507802Z",
     "iopub.status.idle": "2023-05-22T18:41:38.517752Z",
     "shell.execute_reply": "2023-05-22T18:41:38.516129Z"
    },
    "papermill": {
     "duration": 0.041389,
     "end_time": "2023-05-22T18:41:38.521645",
     "exception": false,
     "start_time": "2023-05-22T18:41:38.480256",
     "status": "completed"
    },
    "tags": []
   },
   "outputs": [],
   "source": [
    "df = df.sort_values('date')\n",
    "df = df.reset_index(drop=True)"
   ]
  },
  {
   "cell_type": "markdown",
   "id": "e517b72c",
   "metadata": {
    "papermill": {
     "duration": 0.02491,
     "end_time": "2023-05-22T18:41:38.573513",
     "exception": false,
     "start_time": "2023-05-22T18:41:38.548603",
     "status": "completed"
    },
    "tags": []
   },
   "source": [
    "## 3.8. Dataframe preprocesado"
   ]
  },
  {
   "cell_type": "code",
   "execution_count": 21,
   "id": "037af965",
   "metadata": {
    "execution": {
     "iopub.execute_input": "2023-05-22T18:41:38.629044Z",
     "iopub.status.busy": "2023-05-22T18:41:38.627951Z",
     "iopub.status.idle": "2023-05-22T18:41:38.649836Z",
     "shell.execute_reply": "2023-05-22T18:41:38.647992Z"
    },
    "papermill": {
     "duration": 0.054997,
     "end_time": "2023-05-22T18:41:38.653456",
     "exception": false,
     "start_time": "2023-05-22T18:41:38.598459",
     "status": "completed"
    },
    "tags": []
   },
   "outputs": [
    {
     "data": {
      "text/html": [
       "<div>\n",
       "<style scoped>\n",
       "    .dataframe tbody tr th:only-of-type {\n",
       "        vertical-align: middle;\n",
       "    }\n",
       "\n",
       "    .dataframe tbody tr th {\n",
       "        vertical-align: top;\n",
       "    }\n",
       "\n",
       "    .dataframe thead th {\n",
       "        text-align: right;\n",
       "    }\n",
       "</style>\n",
       "<table border=\"1\" class=\"dataframe\">\n",
       "  <thead>\n",
       "    <tr style=\"text-align: right;\">\n",
       "      <th></th>\n",
       "      <th>company</th>\n",
       "      <th>launch_facility</th>\n",
       "      <th>date</th>\n",
       "      <th>rocket_status</th>\n",
       "      <th>cost</th>\n",
       "      <th>mission_status</th>\n",
       "      <th>year</th>\n",
       "      <th>month</th>\n",
       "      <th>launch_location</th>\n",
       "      <th>rocket</th>\n",
       "      <th>payload</th>\n",
       "    </tr>\n",
       "  </thead>\n",
       "  <tbody>\n",
       "    <tr>\n",
       "      <th>0</th>\n",
       "      <td>RVSN USSR</td>\n",
       "      <td>Site 1/5, Baikonur Cosmodrome, Kazakhstan</td>\n",
       "      <td>1957-10-04 19:28:00</td>\n",
       "      <td>StatusRetired</td>\n",
       "      <td>NaN</td>\n",
       "      <td>Success</td>\n",
       "      <td>1957</td>\n",
       "      <td>10</td>\n",
       "      <td>Kazakhstan</td>\n",
       "      <td>Sputnik 8K71PS</td>\n",
       "      <td>Sputnik-1</td>\n",
       "    </tr>\n",
       "    <tr>\n",
       "      <th>1</th>\n",
       "      <td>RVSN USSR</td>\n",
       "      <td>Site 1/5, Baikonur Cosmodrome, Kazakhstan</td>\n",
       "      <td>1957-11-03 02:30:00</td>\n",
       "      <td>StatusRetired</td>\n",
       "      <td>NaN</td>\n",
       "      <td>Success</td>\n",
       "      <td>1957</td>\n",
       "      <td>11</td>\n",
       "      <td>Kazakhstan</td>\n",
       "      <td>Sputnik 8K71PS</td>\n",
       "      <td>Sputnik-2</td>\n",
       "    </tr>\n",
       "    <tr>\n",
       "      <th>2</th>\n",
       "      <td>US Navy</td>\n",
       "      <td>LC-18A, Cape Canaveral AFS, Florida, USA</td>\n",
       "      <td>1957-12-06 16:44:00</td>\n",
       "      <td>StatusRetired</td>\n",
       "      <td>NaN</td>\n",
       "      <td>Failure</td>\n",
       "      <td>1957</td>\n",
       "      <td>12</td>\n",
       "      <td>USA</td>\n",
       "      <td>Vanguard</td>\n",
       "      <td>Vanguard TV3</td>\n",
       "    </tr>\n",
       "  </tbody>\n",
       "</table>\n",
       "</div>"
      ],
      "text/plain": [
       "     company                            launch_facility                date  \\\n",
       "0  RVSN USSR  Site 1/5, Baikonur Cosmodrome, Kazakhstan 1957-10-04 19:28:00   \n",
       "1  RVSN USSR  Site 1/5, Baikonur Cosmodrome, Kazakhstan 1957-11-03 02:30:00   \n",
       "2    US Navy   LC-18A, Cape Canaveral AFS, Florida, USA 1957-12-06 16:44:00   \n",
       "\n",
       "   rocket_status  cost mission_status  year  month launch_location  \\\n",
       "0  StatusRetired   NaN        Success  1957     10      Kazakhstan   \n",
       "1  StatusRetired   NaN        Success  1957     11      Kazakhstan   \n",
       "2  StatusRetired   NaN        Failure  1957     12             USA   \n",
       "\n",
       "            rocket        payload  \n",
       "0  Sputnik 8K71PS       Sputnik-1  \n",
       "1  Sputnik 8K71PS       Sputnik-2  \n",
       "2        Vanguard    Vanguard TV3  "
      ]
     },
     "execution_count": 21,
     "metadata": {},
     "output_type": "execute_result"
    }
   ],
   "source": [
    "df.head(3)"
   ]
  },
  {
   "cell_type": "code",
   "execution_count": 22,
   "id": "2cfb2070",
   "metadata": {
    "execution": {
     "iopub.execute_input": "2023-05-22T18:41:38.707403Z",
     "iopub.status.busy": "2023-05-22T18:41:38.705926Z",
     "iopub.status.idle": "2023-05-22T18:41:38.728335Z",
     "shell.execute_reply": "2023-05-22T18:41:38.726701Z"
    },
    "papermill": {
     "duration": 0.052563,
     "end_time": "2023-05-22T18:41:38.731432",
     "exception": false,
     "start_time": "2023-05-22T18:41:38.678869",
     "status": "completed"
    },
    "tags": []
   },
   "outputs": [
    {
     "data": {
      "text/html": [
       "<div>\n",
       "<style scoped>\n",
       "    .dataframe tbody tr th:only-of-type {\n",
       "        vertical-align: middle;\n",
       "    }\n",
       "\n",
       "    .dataframe tbody tr th {\n",
       "        vertical-align: top;\n",
       "    }\n",
       "\n",
       "    .dataframe thead th {\n",
       "        text-align: right;\n",
       "    }\n",
       "</style>\n",
       "<table border=\"1\" class=\"dataframe\">\n",
       "  <thead>\n",
       "    <tr style=\"text-align: right;\">\n",
       "      <th></th>\n",
       "      <th>company</th>\n",
       "      <th>launch_facility</th>\n",
       "      <th>date</th>\n",
       "      <th>rocket_status</th>\n",
       "      <th>cost</th>\n",
       "      <th>mission_status</th>\n",
       "      <th>year</th>\n",
       "      <th>month</th>\n",
       "      <th>launch_location</th>\n",
       "      <th>rocket</th>\n",
       "      <th>payload</th>\n",
       "    </tr>\n",
       "  </thead>\n",
       "  <tbody>\n",
       "    <tr>\n",
       "      <th>4321</th>\n",
       "      <td>SpaceX</td>\n",
       "      <td>Pad A, Boca Chica, Texas, USA</td>\n",
       "      <td>2020-08-04 23:57:00</td>\n",
       "      <td>StatusActive</td>\n",
       "      <td>NaN</td>\n",
       "      <td>Success</td>\n",
       "      <td>2020</td>\n",
       "      <td>8</td>\n",
       "      <td>USA</td>\n",
       "      <td>Starship Prototype</td>\n",
       "      <td>150 Meter Hop</td>\n",
       "    </tr>\n",
       "    <tr>\n",
       "      <th>4322</th>\n",
       "      <td>CASC</td>\n",
       "      <td>Site 9401 (SLS-2), Jiuquan Satellite Launch Ce...</td>\n",
       "      <td>2020-08-06 04:01:00</td>\n",
       "      <td>StatusActive</td>\n",
       "      <td>29.75</td>\n",
       "      <td>Success</td>\n",
       "      <td>2020</td>\n",
       "      <td>8</td>\n",
       "      <td>China</td>\n",
       "      <td>Long March 2D</td>\n",
       "      <td>Gaofen-9 04 &amp; Q-SAT</td>\n",
       "    </tr>\n",
       "    <tr>\n",
       "      <th>4323</th>\n",
       "      <td>SpaceX</td>\n",
       "      <td>LC-39A, Kennedy Space Center, Florida, USA</td>\n",
       "      <td>2020-08-07 05:12:00</td>\n",
       "      <td>StatusActive</td>\n",
       "      <td>50.00</td>\n",
       "      <td>Success</td>\n",
       "      <td>2020</td>\n",
       "      <td>8</td>\n",
       "      <td>USA</td>\n",
       "      <td>Falcon 9 Block 5</td>\n",
       "      <td>Starlink V1 L9 &amp; BlackSky</td>\n",
       "    </tr>\n",
       "  </tbody>\n",
       "</table>\n",
       "</div>"
      ],
      "text/plain": [
       "     company                                    launch_facility  \\\n",
       "4321  SpaceX                      Pad A, Boca Chica, Texas, USA   \n",
       "4322    CASC  Site 9401 (SLS-2), Jiuquan Satellite Launch Ce...   \n",
       "4323  SpaceX         LC-39A, Kennedy Space Center, Florida, USA   \n",
       "\n",
       "                    date rocket_status   cost mission_status  year  month  \\\n",
       "4321 2020-08-04 23:57:00  StatusActive    NaN        Success  2020      8   \n",
       "4322 2020-08-06 04:01:00  StatusActive  29.75        Success  2020      8   \n",
       "4323 2020-08-07 05:12:00  StatusActive  50.00        Success  2020      8   \n",
       "\n",
       "     launch_location               rocket                     payload  \n",
       "4321             USA  Starship Prototype                150 Meter Hop  \n",
       "4322           China       Long March 2D          Gaofen-9 04 & Q-SAT  \n",
       "4323             USA    Falcon 9 Block 5    Starlink V1 L9 & BlackSky  "
      ]
     },
     "execution_count": 22,
     "metadata": {},
     "output_type": "execute_result"
    }
   ],
   "source": [
    "df.tail(3)"
   ]
  },
  {
   "cell_type": "code",
   "execution_count": 23,
   "id": "0d48cefe",
   "metadata": {
    "execution": {
     "iopub.execute_input": "2023-05-22T18:41:38.789232Z",
     "iopub.status.busy": "2023-05-22T18:41:38.788684Z",
     "iopub.status.idle": "2023-05-22T18:41:38.798975Z",
     "shell.execute_reply": "2023-05-22T18:41:38.797143Z"
    },
    "papermill": {
     "duration": 0.043411,
     "end_time": "2023-05-22T18:41:38.802374",
     "exception": false,
     "start_time": "2023-05-22T18:41:38.758963",
     "status": "completed"
    },
    "tags": []
   },
   "outputs": [
    {
     "data": {
      "text/plain": [
       "(4324, 11)"
      ]
     },
     "execution_count": 23,
     "metadata": {},
     "output_type": "execute_result"
    }
   ],
   "source": [
    "df.shape"
   ]
  },
  {
   "cell_type": "code",
   "execution_count": 24,
   "id": "5f920a74",
   "metadata": {
    "execution": {
     "iopub.execute_input": "2023-05-22T18:41:38.860643Z",
     "iopub.status.busy": "2023-05-22T18:41:38.859375Z",
     "iopub.status.idle": "2023-05-22T18:41:38.882644Z",
     "shell.execute_reply": "2023-05-22T18:41:38.881080Z"
    },
    "papermill": {
     "duration": 0.055303,
     "end_time": "2023-05-22T18:41:38.885902",
     "exception": false,
     "start_time": "2023-05-22T18:41:38.830599",
     "status": "completed"
    },
    "tags": []
   },
   "outputs": [
    {
     "name": "stdout",
     "output_type": "stream",
     "text": [
      "<class 'pandas.core.frame.DataFrame'>\n",
      "RangeIndex: 4324 entries, 0 to 4323\n",
      "Data columns (total 11 columns):\n",
      " #   Column           Non-Null Count  Dtype         \n",
      "---  ------           --------------  -----         \n",
      " 0   company          4324 non-null   object        \n",
      " 1   launch_facility  4324 non-null   object        \n",
      " 2   date             4324 non-null   datetime64[ns]\n",
      " 3   rocket_status    4324 non-null   object        \n",
      " 4   cost             964 non-null    float64       \n",
      " 5   mission_status   4324 non-null   object        \n",
      " 6   year             4324 non-null   int64         \n",
      " 7   month            4324 non-null   int64         \n",
      " 8   launch_location  4324 non-null   object        \n",
      " 9   rocket           4324 non-null   object        \n",
      " 10  payload          4324 non-null   object        \n",
      "dtypes: datetime64[ns](1), float64(1), int64(2), object(7)\n",
      "memory usage: 371.7+ KB\n"
     ]
    }
   ],
   "source": [
    "df.info()"
   ]
  },
  {
   "cell_type": "markdown",
   "id": "26d295d0",
   "metadata": {
    "papermill": {
     "duration": 0.025637,
     "end_time": "2023-05-22T18:41:38.937936",
     "exception": false,
     "start_time": "2023-05-22T18:41:38.912299",
     "status": "completed"
    },
    "tags": []
   },
   "source": [
    "Comprobación de valores faltantes"
   ]
  },
  {
   "cell_type": "code",
   "execution_count": 25,
   "id": "a7b3c400",
   "metadata": {
    "execution": {
     "iopub.execute_input": "2023-05-22T18:41:38.992314Z",
     "iopub.status.busy": "2023-05-22T18:41:38.991440Z",
     "iopub.status.idle": "2023-05-22T18:41:39.010627Z",
     "shell.execute_reply": "2023-05-22T18:41:39.009011Z"
    },
    "papermill": {
     "duration": 0.050073,
     "end_time": "2023-05-22T18:41:39.013822",
     "exception": false,
     "start_time": "2023-05-22T18:41:38.963749",
     "status": "completed"
    },
    "tags": []
   },
   "outputs": [
    {
     "data": {
      "text/plain": [
       "company               0\n",
       "launch_facility       0\n",
       "date                  0\n",
       "rocket_status         0\n",
       "cost               3360\n",
       "mission_status        0\n",
       "year                  0\n",
       "month                 0\n",
       "launch_location       0\n",
       "rocket                0\n",
       "payload               0\n",
       "dtype: int64"
      ]
     },
     "execution_count": 25,
     "metadata": {},
     "output_type": "execute_result"
    }
   ],
   "source": [
    "df.isnull().sum(axis=0)"
   ]
  },
  {
   "cell_type": "code",
   "execution_count": 26,
   "id": "2506bf28",
   "metadata": {
    "execution": {
     "iopub.execute_input": "2023-05-22T18:41:39.071138Z",
     "iopub.status.busy": "2023-05-22T18:41:39.070072Z",
     "iopub.status.idle": "2023-05-22T18:41:39.080574Z",
     "shell.execute_reply": "2023-05-22T18:41:39.079071Z"
    },
    "papermill": {
     "duration": 0.041969,
     "end_time": "2023-05-22T18:41:39.083860",
     "exception": false,
     "start_time": "2023-05-22T18:41:39.041891",
     "status": "completed"
    },
    "tags": []
   },
   "outputs": [
    {
     "data": {
      "text/plain": [
       "array(['RVSN USSR', 'US Navy', 'AMBA', 'US Air Force', 'NASA',\n",
       "       'General Dynamics', 'Martin Marietta', \"Arm??e de l'Air\", 'UT',\n",
       "       'ASI', 'OKB-586', 'CECLES', 'Yuzhmash', 'CASC', 'CNES',\n",
       "       'Roscosmos', 'ISAS', 'RAE', 'MHI', 'ISRO', 'ESA', 'Arianespace',\n",
       "       'IAI', 'Boeing', 'Douglas', 'Northrop', 'Lockheed', 'VKS RF',\n",
       "       'MITT', 'ILS', 'EER', 'AEB', 'SRC', 'KCST', 'Sea Launch',\n",
       "       'Kosmotras', 'Eurockot', 'CASIC', 'Starsem', 'SpaceX', 'ULA',\n",
       "       'Land Launch', 'ISA', 'KARI', 'JAXA', 'Khrunichev', 'Blue Origin',\n",
       "       'Sandia', 'ExPace', 'Rocket Lab', 'Exos', 'Landspace', 'OneSpace',\n",
       "       'i-Space', 'IRGC', 'Virgin Orbit'], dtype=object)"
      ]
     },
     "execution_count": 26,
     "metadata": {},
     "output_type": "execute_result"
    }
   ],
   "source": [
    "df['company'].unique()"
   ]
  },
  {
   "cell_type": "code",
   "execution_count": 27,
   "id": "9d3ac06f",
   "metadata": {
    "execution": {
     "iopub.execute_input": "2023-05-22T18:41:39.139939Z",
     "iopub.status.busy": "2023-05-22T18:41:39.139021Z",
     "iopub.status.idle": "2023-05-22T18:41:39.150061Z",
     "shell.execute_reply": "2023-05-22T18:41:39.147737Z"
    },
    "papermill": {
     "duration": 0.043429,
     "end_time": "2023-05-22T18:41:39.153536",
     "exception": false,
     "start_time": "2023-05-22T18:41:39.110107",
     "status": "completed"
    },
    "tags": []
   },
   "outputs": [
    {
     "data": {
      "text/plain": [
       "array(['Kazakhstan', 'USA', 'Russia', 'France', 'Japan', 'Kenya',\n",
       "       'Australia', 'China', 'India', 'Israel', 'Brazil', 'North Korea',\n",
       "       'Pacific Ocean', 'Iran', 'South Korea', 'New Zealand'],\n",
       "      dtype=object)"
      ]
     },
     "execution_count": 27,
     "metadata": {},
     "output_type": "execute_result"
    }
   ],
   "source": [
    "df['launch_location'].unique()"
   ]
  },
  {
   "cell_type": "markdown",
   "id": "95b047fd",
   "metadata": {
    "papermill": {
     "duration": 0.026054,
     "end_time": "2023-05-22T18:41:39.207134",
     "exception": false,
     "start_time": "2023-05-22T18:41:39.181080",
     "status": "completed"
    },
    "tags": []
   },
   "source": [
    "# 4. Análisis de cohetes"
   ]
  },
  {
   "cell_type": "code",
   "execution_count": 28,
   "id": "86d5a1f5",
   "metadata": {
    "_kg_hide-input": true,
    "execution": {
     "iopub.execute_input": "2023-05-22T18:41:39.264566Z",
     "iopub.status.busy": "2023-05-22T18:41:39.264007Z",
     "iopub.status.idle": "2023-05-22T18:41:39.283328Z",
     "shell.execute_reply": "2023-05-22T18:41:39.282255Z"
    },
    "jupyter": {
     "source_hidden": true
    },
    "papermill": {
     "duration": 0.051787,
     "end_time": "2023-05-22T18:41:39.286734",
     "exception": false,
     "start_time": "2023-05-22T18:41:39.234947",
     "status": "completed"
    },
    "tags": []
   },
   "outputs": [
    {
     "data": {
      "text/html": [
       "<div>\n",
       "<style scoped>\n",
       "    .dataframe tbody tr th:only-of-type {\n",
       "        vertical-align: middle;\n",
       "    }\n",
       "\n",
       "    .dataframe tbody tr th {\n",
       "        vertical-align: top;\n",
       "    }\n",
       "\n",
       "    .dataframe thead th {\n",
       "        text-align: right;\n",
       "    }\n",
       "</style>\n",
       "<table border=\"1\" class=\"dataframe\">\n",
       "  <thead>\n",
       "    <tr style=\"text-align: right;\">\n",
       "      <th></th>\n",
       "      <th>rocket_status</th>\n",
       "      <th>conteo</th>\n",
       "    </tr>\n",
       "  </thead>\n",
       "  <tbody>\n",
       "    <tr>\n",
       "      <th>0</th>\n",
       "      <td>StatusActive</td>\n",
       "      <td>790</td>\n",
       "    </tr>\n",
       "    <tr>\n",
       "      <th>1</th>\n",
       "      <td>StatusRetired</td>\n",
       "      <td>3534</td>\n",
       "    </tr>\n",
       "  </tbody>\n",
       "</table>\n",
       "</div>"
      ],
      "text/plain": [
       "   rocket_status  conteo\n",
       "0   StatusActive     790\n",
       "1  StatusRetired    3534"
      ]
     },
     "execution_count": 28,
     "metadata": {},
     "output_type": "execute_result"
    }
   ],
   "source": [
    "# df['rocket_status'].value_counts()\n",
    "ds = df.groupby('rocket_status').size()\n",
    "ds = ds.reset_index(name='conteo')\n",
    "ds"
   ]
  },
  {
   "cell_type": "code",
   "execution_count": 29,
   "id": "0b42f5f5",
   "metadata": {
    "_kg_hide-input": true,
    "execution": {
     "iopub.execute_input": "2023-05-22T18:41:39.344704Z",
     "iopub.status.busy": "2023-05-22T18:41:39.344123Z",
     "iopub.status.idle": "2023-05-22T18:41:39.639526Z",
     "shell.execute_reply": "2023-05-22T18:41:39.637446Z"
    },
    "jupyter": {
     "source_hidden": true
    },
    "papermill": {
     "duration": 0.331672,
     "end_time": "2023-05-22T18:41:39.646184",
     "exception": false,
     "start_time": "2023-05-22T18:41:39.314512",
     "status": "completed"
    },
    "tags": []
   },
   "outputs": [
    {
     "data": {
      "image/png": "[encoded data removed]",
      "text/plain": [
       "<Figure size 400x400 with 1 Axes>"
      ]
     },
     "metadata": {},
     "output_type": "display_data"
    }
   ],
   "source": [
    "fig, ax = plt.subplots(figsize=(4, 4))\n",
    "fig.suptitle('Estado de los Cohetes')\n",
    "\n",
    "ax.pie(x=ds['conteo'], labels=ds['rocket_status'], autopct='%.1f%%', startangle=90, colors=sns.color_palette(\"pastel\"))\n",
    "\n",
    "plt.tight_layout()"
   ]
  },
  {
   "cell_type": "markdown",
   "id": "7446a06c",
   "metadata": {
    "papermill": {
     "duration": 0.029213,
     "end_time": "2023-05-22T18:41:39.716492",
     "exception": false,
     "start_time": "2023-05-22T18:41:39.687279",
     "status": "completed"
    },
    "tags": []
   },
   "source": [
    "# 5. Análisis de misiones"
   ]
  },
  {
   "cell_type": "markdown",
   "id": "be387575",
   "metadata": {
    "papermill": {
     "duration": 0.029867,
     "end_time": "2023-05-22T18:41:39.775576",
     "exception": false,
     "start_time": "2023-05-22T18:41:39.745709",
     "status": "completed"
    },
    "tags": []
   },
   "source": [
    "## Evolución del número de misiones"
   ]
  },
  {
   "cell_type": "code",
   "execution_count": 30,
   "id": "2c532fc6",
   "metadata": {
    "_kg_hide-input": true,
    "execution": {
     "iopub.execute_input": "2023-05-22T18:41:39.834032Z",
     "iopub.status.busy": "2023-05-22T18:41:39.833070Z",
     "iopub.status.idle": "2023-05-22T18:41:39.850287Z",
     "shell.execute_reply": "2023-05-22T18:41:39.848711Z"
    },
    "jupyter": {
     "source_hidden": true
    },
    "papermill": {
     "duration": 0.050194,
     "end_time": "2023-05-22T18:41:39.853450",
     "exception": false,
     "start_time": "2023-05-22T18:41:39.803256",
     "status": "completed"
    },
    "tags": []
   },
   "outputs": [
    {
     "data": {
      "text/html": [
       "<div>\n",
       "<style scoped>\n",
       "    .dataframe tbody tr th:only-of-type {\n",
       "        vertical-align: middle;\n",
       "    }\n",
       "\n",
       "    .dataframe tbody tr th {\n",
       "        vertical-align: top;\n",
       "    }\n",
       "\n",
       "    .dataframe thead th {\n",
       "        text-align: right;\n",
       "    }\n",
       "</style>\n",
       "<table border=\"1\" class=\"dataframe\">\n",
       "  <thead>\n",
       "    <tr style=\"text-align: right;\">\n",
       "      <th></th>\n",
       "      <th>year</th>\n",
       "      <th>conteo</th>\n",
       "    </tr>\n",
       "  </thead>\n",
       "  <tbody>\n",
       "    <tr>\n",
       "      <th>0</th>\n",
       "      <td>1957</td>\n",
       "      <td>3</td>\n",
       "    </tr>\n",
       "    <tr>\n",
       "      <th>1</th>\n",
       "      <td>1958</td>\n",
       "      <td>28</td>\n",
       "    </tr>\n",
       "    <tr>\n",
       "      <th>2</th>\n",
       "      <td>1959</td>\n",
       "      <td>20</td>\n",
       "    </tr>\n",
       "    <tr>\n",
       "      <th>3</th>\n",
       "      <td>1960</td>\n",
       "      <td>39</td>\n",
       "    </tr>\n",
       "    <tr>\n",
       "      <th>4</th>\n",
       "      <td>1961</td>\n",
       "      <td>52</td>\n",
       "    </tr>\n",
       "  </tbody>\n",
       "</table>\n",
       "</div>"
      ],
      "text/plain": [
       "   year  conteo\n",
       "0  1957       3\n",
       "1  1958      28\n",
       "2  1959      20\n",
       "3  1960      39\n",
       "4  1961      52"
      ]
     },
     "execution_count": 30,
     "metadata": {},
     "output_type": "execute_result"
    }
   ],
   "source": [
    "ds = df.groupby('year').size()\n",
    "ds = ds.reset_index(name='conteo')\n",
    "ds.head()"
   ]
  },
  {
   "cell_type": "code",
   "execution_count": 31,
   "id": "367ec34c",
   "metadata": {
    "_kg_hide-input": true,
    "execution": {
     "iopub.execute_input": "2023-05-22T18:41:39.913969Z",
     "iopub.status.busy": "2023-05-22T18:41:39.913384Z",
     "iopub.status.idle": "2023-05-22T18:41:40.300769Z",
     "shell.execute_reply": "2023-05-22T18:41:40.299240Z"
    },
    "jupyter": {
     "source_hidden": true
    },
    "papermill": {
     "duration": 0.423207,
     "end_time": "2023-05-22T18:41:40.304121",
     "exception": false,
     "start_time": "2023-05-22T18:41:39.880914",
     "status": "completed"
    },
    "tags": []
   },
   "outputs": [
    {
     "data": {
      "image/png": "[encoded data removed]",
      "text/plain": [
       "<Figure size 1000x400 with 1 Axes>"
      ]
     },
     "metadata": {},
     "output_type": "display_data"
    }
   ],
   "source": [
    "fig, ax = plt.subplots(figsize=(10, 4))\n",
    "fig.suptitle('Evolución del número de misiones por año')\n",
    "\n",
    "sns.lineplot(data=ds, x='year', y='conteo')\n",
    "ax.set_xlabel('Año')\n",
    "ax.set_ylabel('Número de misiones')\n",
    "ax.set_xlim(1957, 2020)\n",
    "\n",
    "plt.tight_layout()"
   ]
  },
  {
   "cell_type": "markdown",
   "id": "21d3e471",
   "metadata": {
    "papermill": {
     "duration": 0.029988,
     "end_time": "2023-05-22T18:41:40.363093",
     "exception": false,
     "start_time": "2023-05-22T18:41:40.333105",
     "status": "completed"
    },
    "tags": []
   },
   "source": [
    "## Número de misiones por compañia"
   ]
  },
  {
   "cell_type": "code",
   "execution_count": 32,
   "id": "0d081db5",
   "metadata": {
    "execution": {
     "iopub.execute_input": "2023-05-22T18:41:40.423584Z",
     "iopub.status.busy": "2023-05-22T18:41:40.423084Z",
     "iopub.status.idle": "2023-05-22T18:41:40.436133Z",
     "shell.execute_reply": "2023-05-22T18:41:40.435065Z"
    },
    "jupyter": {
     "source_hidden": true
    },
    "papermill": {
     "duration": 0.045823,
     "end_time": "2023-05-22T18:41:40.438860",
     "exception": false,
     "start_time": "2023-05-22T18:41:40.393037",
     "status": "completed"
    },
    "tags": []
   },
   "outputs": [
    {
     "data": {
      "text/plain": [
       "company\n",
       "RVSN USSR           1777\n",
       "Arianespace          279\n",
       "General Dynamics     251\n",
       "CASC                 251\n",
       "NASA                 203\n",
       "VKS RF               201\n",
       "US Air Force         161\n",
       "ULA                  140\n",
       "Boeing               136\n",
       "Martin Marietta      114\n",
       "SpaceX               100\n",
       "MHI                   84\n",
       "Northrop              83\n",
       "Lockheed              79\n",
       "ISRO                  76\n",
       "Roscosmos             55\n",
       "ILS                   46\n",
       "Sea Launch            36\n",
       "ISAS                  30\n",
       "Kosmotras             22\n",
       "dtype: int64"
      ]
     },
     "execution_count": 32,
     "metadata": {},
     "output_type": "execute_result"
    }
   ],
   "source": [
    "ds = df.groupby('company').size().sort_values(ascending=False)\n",
    "ds.head(20)"
   ]
  },
  {
   "cell_type": "code",
   "execution_count": 33,
   "id": "41b7b2b7",
   "metadata": {
    "_kg_hide-input": true,
    "execution": {
     "iopub.execute_input": "2023-05-22T18:41:40.502369Z",
     "iopub.status.busy": "2023-05-22T18:41:40.500883Z",
     "iopub.status.idle": "2023-05-22T18:41:40.910050Z",
     "shell.execute_reply": "2023-05-22T18:41:40.908781Z"
    },
    "jupyter": {
     "source_hidden": true
    },
    "papermill": {
     "duration": 0.443802,
     "end_time": "2023-05-22T18:41:40.913107",
     "exception": false,
     "start_time": "2023-05-22T18:41:40.469305",
     "status": "completed"
    },
    "tags": []
   },
   "outputs": [
    {
     "data": {
      "image/png": "[encoded data removed]",
      "text/plain": [
       "<Figure size 800x500 with 1 Axes>"
      ]
     },
     "metadata": {},
     "output_type": "display_data"
    }
   ],
   "source": [
    "fig, ax = plt.subplots(figsize=(8, 5))\n",
    "fig.suptitle('Número de misiones por compañia')\n",
    "\n",
    "sns.countplot(data=df, y='company', ax=ax, order=ds.iloc[:20].index)\n",
    "ax.set_xlabel('Número de misiones')\n",
    "ax.set_ylabel('Compañia')\n",
    "\n",
    "plt.tight_layout()"
   ]
  },
  {
   "cell_type": "markdown",
   "id": "c1f1731b",
   "metadata": {
    "execution": {
     "iopub.execute_input": "2023-05-13T12:00:54.529407Z",
     "iopub.status.busy": "2023-05-13T12:00:54.528902Z",
     "iopub.status.idle": "2023-05-13T12:00:54.535414Z",
     "shell.execute_reply": "2023-05-13T12:00:54.534044Z",
     "shell.execute_reply.started": "2023-05-13T12:00:54.529361Z"
    },
    "papermill": {
     "duration": 0.030217,
     "end_time": "2023-05-22T18:41:40.972914",
     "exception": false,
     "start_time": "2023-05-22T18:41:40.942697",
     "status": "completed"
    },
    "tags": []
   },
   "source": [
    "## Estado de las misiones"
   ]
  },
  {
   "cell_type": "code",
   "execution_count": 34,
   "id": "872e2737",
   "metadata": {
    "_kg_hide-input": true,
    "execution": {
     "iopub.execute_input": "2023-05-22T18:41:41.034562Z",
     "iopub.status.busy": "2023-05-22T18:41:41.033593Z",
     "iopub.status.idle": "2023-05-22T18:41:41.053061Z",
     "shell.execute_reply": "2023-05-22T18:41:41.051551Z"
    },
    "jupyter": {
     "source_hidden": true
    },
    "papermill": {
     "duration": 0.053687,
     "end_time": "2023-05-22T18:41:41.056074",
     "exception": false,
     "start_time": "2023-05-22T18:41:41.002387",
     "status": "completed"
    },
    "tags": []
   },
   "outputs": [
    {
     "data": {
      "text/html": [
       "<div>\n",
       "<style scoped>\n",
       "    .dataframe tbody tr th:only-of-type {\n",
       "        vertical-align: middle;\n",
       "    }\n",
       "\n",
       "    .dataframe tbody tr th {\n",
       "        vertical-align: top;\n",
       "    }\n",
       "\n",
       "    .dataframe thead th {\n",
       "        text-align: right;\n",
       "    }\n",
       "</style>\n",
       "<table border=\"1\" class=\"dataframe\">\n",
       "  <thead>\n",
       "    <tr style=\"text-align: right;\">\n",
       "      <th></th>\n",
       "      <th>mission_status</th>\n",
       "      <th>conteo</th>\n",
       "    </tr>\n",
       "  </thead>\n",
       "  <tbody>\n",
       "    <tr>\n",
       "      <th>0</th>\n",
       "      <td>Failure</td>\n",
       "      <td>339</td>\n",
       "    </tr>\n",
       "    <tr>\n",
       "      <th>1</th>\n",
       "      <td>Partial Failure</td>\n",
       "      <td>102</td>\n",
       "    </tr>\n",
       "    <tr>\n",
       "      <th>2</th>\n",
       "      <td>Prelaunch Failure</td>\n",
       "      <td>4</td>\n",
       "    </tr>\n",
       "    <tr>\n",
       "      <th>3</th>\n",
       "      <td>Success</td>\n",
       "      <td>3879</td>\n",
       "    </tr>\n",
       "  </tbody>\n",
       "</table>\n",
       "</div>"
      ],
      "text/plain": [
       "      mission_status  conteo\n",
       "0            Failure     339\n",
       "1    Partial Failure     102\n",
       "2  Prelaunch Failure       4\n",
       "3            Success    3879"
      ]
     },
     "execution_count": 34,
     "metadata": {},
     "output_type": "execute_result"
    }
   ],
   "source": [
    "ds = df.groupby('mission_status').size()\n",
    "ds = ds.reset_index(name='conteo')\n",
    "ds"
   ]
  },
  {
   "cell_type": "code",
   "execution_count": 35,
   "id": "374a7628",
   "metadata": {
    "execution": {
     "iopub.execute_input": "2023-05-22T18:41:41.118369Z",
     "iopub.status.busy": "2023-05-22T18:41:41.117400Z",
     "iopub.status.idle": "2023-05-22T18:41:41.342838Z",
     "shell.execute_reply": "2023-05-22T18:41:41.340809Z"
    },
    "jupyter": {
     "source_hidden": true
    },
    "papermill": {
     "duration": 0.261303,
     "end_time": "2023-05-22T18:41:41.347066",
     "exception": false,
     "start_time": "2023-05-22T18:41:41.085763",
     "status": "completed"
    },
    "tags": []
   },
   "outputs": [
    {
     "data": {
      "image/png": "[encoded data removed]",
      "text/plain": [
       "<Figure size 600x400 with 1 Axes>"
      ]
     },
     "metadata": {},
     "output_type": "display_data"
    }
   ],
   "source": [
    "fig, ax = plt.subplots(figsize=(6, 4))\n",
    "fig.suptitle('Estado de las misiones')\n",
    "\n",
    "sns.countplot(data=df, x='mission_status', ax=ax)\n",
    "ax.set_xlabel('Estado de la misión')\n",
    "ax.set_ylabel('Conteo')\n",
    "\n",
    "plt.tight_layout()"
   ]
  },
  {
   "cell_type": "markdown",
   "id": "97e69a03",
   "metadata": {
    "papermill": {
     "duration": 0.030301,
     "end_time": "2023-05-22T18:41:41.409435",
     "exception": false,
     "start_time": "2023-05-22T18:41:41.379134",
     "status": "completed"
    },
    "tags": []
   },
   "source": [
    "## Misiones por compañia categorizadas por el estado de la misión"
   ]
  },
  {
   "cell_type": "code",
   "execution_count": 36,
   "id": "9e9305d8",
   "metadata": {
    "_kg_hide-input": true,
    "execution": {
     "iopub.execute_input": "2023-05-22T18:41:41.473709Z",
     "iopub.status.busy": "2023-05-22T18:41:41.473102Z",
     "iopub.status.idle": "2023-05-22T18:41:41.484217Z",
     "shell.execute_reply": "2023-05-22T18:41:41.482731Z"
    },
    "jupyter": {
     "source_hidden": true
    },
    "papermill": {
     "duration": 0.047621,
     "end_time": "2023-05-22T18:41:41.487065",
     "exception": false,
     "start_time": "2023-05-22T18:41:41.439444",
     "status": "completed"
    },
    "tags": []
   },
   "outputs": [],
   "source": [
    "filt = df['mission_status'] =='Success'\n",
    "df_su = df[filt]"
   ]
  },
  {
   "cell_type": "code",
   "execution_count": 37,
   "id": "05fe6aa6",
   "metadata": {
    "_kg_hide-input": true,
    "execution": {
     "iopub.execute_input": "2023-05-22T18:41:41.551686Z",
     "iopub.status.busy": "2023-05-22T18:41:41.550695Z",
     "iopub.status.idle": "2023-05-22T18:41:41.564271Z",
     "shell.execute_reply": "2023-05-22T18:41:41.562050Z"
    },
    "jupyter": {
     "source_hidden": true
    },
    "papermill": {
     "duration": 0.050744,
     "end_time": "2023-05-22T18:41:41.568165",
     "exception": false,
     "start_time": "2023-05-22T18:41:41.517421",
     "status": "completed"
    },
    "tags": []
   },
   "outputs": [
    {
     "data": {
      "text/plain": [
       "company\n",
       "RVSN USSR           1614\n",
       "Arianespace          269\n",
       "CASC                 231\n",
       "General Dynamics     203\n",
       "VKS RF               188\n",
       "NASA                 186\n",
       "ULA                  139\n",
       "Boeing               131\n",
       "US Air Force         129\n",
       "Martin Marietta      100\n",
       "SpaceX                94\n",
       "MHI                   80\n",
       "Northrop              74\n",
       "Lockheed              74\n",
       "ISRO                  63\n",
       "Roscosmos             51\n",
       "ILS                   45\n",
       "Sea Launch            33\n",
       "ISAS                  26\n",
       "Kosmotras             21\n",
       "dtype: int64"
      ]
     },
     "execution_count": 37,
     "metadata": {},
     "output_type": "execute_result"
    }
   ],
   "source": [
    "ds = df_su.groupby('company').size().sort_values(ascending=False)\n",
    "ds.head(20)"
   ]
  },
  {
   "cell_type": "code",
   "execution_count": 38,
   "id": "a47c8cbf",
   "metadata": {
    "_kg_hide-input": true,
    "execution": {
     "iopub.execute_input": "2023-05-22T18:41:41.633682Z",
     "iopub.status.busy": "2023-05-22T18:41:41.632344Z",
     "iopub.status.idle": "2023-05-22T18:41:42.185915Z",
     "shell.execute_reply": "2023-05-22T18:41:42.183752Z"
    },
    "jupyter": {
     "source_hidden": true
    },
    "papermill": {
     "duration": 0.589598,
     "end_time": "2023-05-22T18:41:42.189560",
     "exception": false,
     "start_time": "2023-05-22T18:41:41.599962",
     "status": "completed"
    },
    "tags": []
   },
   "outputs": [
    {
     "data": {
      "image/png": "[encoded data removed]",
      "text/plain": [
       "<Figure size 1300x500 with 1 Axes>"
      ]
     },
     "metadata": {},
     "output_type": "display_data"
    }
   ],
   "source": [
    "fig, ax = plt.subplots(figsize=(13, 5))\n",
    "fig.suptitle('Número de misiones por compañia en función del estado de la misión')\n",
    "\n",
    "sns.countplot(data=df, x='company', ax=ax, hue='mission_status', order=ds.iloc[:10].index)\n",
    "ax.set_xlabel('Número de misiones')\n",
    "ax.set_ylabel('Compañia')\n",
    "\n",
    "plt.tight_layout()"
   ]
  },
  {
   "cell_type": "markdown",
   "id": "afd831b5",
   "metadata": {
    "papermill": {
     "duration": 0.030817,
     "end_time": "2023-05-22T18:41:42.252926",
     "exception": false,
     "start_time": "2023-05-22T18:41:42.222109",
     "status": "completed"
    },
    "tags": []
   },
   "source": [
    "# 6. Análisis de Costo"
   ]
  },
  {
   "cell_type": "code",
   "execution_count": 39,
   "id": "51801ce6",
   "metadata": {
    "_kg_hide-input": true,
    "execution": {
     "iopub.execute_input": "2023-05-22T18:41:42.321851Z",
     "iopub.status.busy": "2023-05-22T18:41:42.321300Z",
     "iopub.status.idle": "2023-05-22T18:41:42.338635Z",
     "shell.execute_reply": "2023-05-22T18:41:42.337523Z"
    },
    "jupyter": {
     "source_hidden": true
    },
    "papermill": {
     "duration": 0.056334,
     "end_time": "2023-05-22T18:41:42.341649",
     "exception": false,
     "start_time": "2023-05-22T18:41:42.285315",
     "status": "completed"
    },
    "tags": []
   },
   "outputs": [
    {
     "data": {
      "text/plain": [
       "company\n",
       "NASA               76280.00\n",
       "Arianespace        16345.00\n",
       "ULA                14798.00\n",
       "RVSN USSR          10000.00\n",
       "CASC                6340.26\n",
       "SpaceX              5444.00\n",
       "Northrop            3930.00\n",
       "MHI                 3532.50\n",
       "ISRO                2177.00\n",
       "US Air Force        1550.92\n",
       "VKS RF              1548.90\n",
       "ILS                 1320.00\n",
       "Boeing              1241.00\n",
       "Roscosmos           1187.50\n",
       "Martin Marietta      721.40\n",
       "Kosmotras            638.00\n",
       "Eurockot             543.40\n",
       "Lockheed             280.00\n",
       "JAXA                 168.00\n",
       "Rocket Lab            97.50\n",
       "Name: cost, dtype: float64"
      ]
     },
     "execution_count": 39,
     "metadata": {},
     "output_type": "execute_result"
    }
   ],
   "source": [
    "ds = df.groupby('company').sum()['cost'].sort_values(ascending=False)\n",
    "ds.head(20)"
   ]
  },
  {
   "cell_type": "code",
   "execution_count": 40,
   "id": "4319588e",
   "metadata": {
    "_kg_hide-input": true,
    "execution": {
     "iopub.execute_input": "2023-05-22T18:41:42.410552Z",
     "iopub.status.busy": "2023-05-22T18:41:42.409592Z",
     "iopub.status.idle": "2023-05-22T18:41:42.865254Z",
     "shell.execute_reply": "2023-05-22T18:41:42.862842Z"
    },
    "jupyter": {
     "source_hidden": true
    },
    "papermill": {
     "duration": 0.497012,
     "end_time": "2023-05-22T18:41:42.870693",
     "exception": false,
     "start_time": "2023-05-22T18:41:42.373681",
     "status": "completed"
    },
    "tags": []
   },
   "outputs": [
    {
     "data": {
      "image/png": "[encoded data removed]",
      "text/plain": [
       "<Figure size 800x500 with 1 Axes>"
      ]
     },
     "metadata": {},
     "output_type": "display_data"
    }
   ],
   "source": [
    "fig, ax = plt.subplots(figsize=(8, 5))\n",
    "fig.suptitle('Total de dinero invertido por cada compañia')\n",
    "sns.barplot(data=df, y='company', x='cost', ax=ax, estimator='sum',errorbar=None, order=ds.iloc[:20].index)\n",
    "ax.set_xlabel('Dinero invertido [Millones de USD]')\n",
    "ax.set_ylabel('Compañia')\n",
    "\n",
    "plt.tight_layout()"
   ]
  },
  {
   "cell_type": "markdown",
   "id": "833a308c",
   "metadata": {
    "execution": {
     "iopub.execute_input": "2023-05-22T18:23:27.891880Z",
     "iopub.status.busy": "2023-05-22T18:23:27.891344Z",
     "iopub.status.idle": "2023-05-22T18:23:27.898195Z",
     "shell.execute_reply": "2023-05-22T18:23:27.896501Z",
     "shell.execute_reply.started": "2023-05-22T18:23:27.891835Z"
    },
    "papermill": {
     "duration": 0.034187,
     "end_time": "2023-05-22T18:41:42.939354",
     "exception": false,
     "start_time": "2023-05-22T18:41:42.905167",
     "status": "completed"
    },
    "tags": []
   },
   "source": [
    "# 7. Ubicaciones"
   ]
  },
  {
   "cell_type": "markdown",
   "id": "5d32b8f3",
   "metadata": {
    "papermill": {
     "duration": 0.037009,
     "end_time": "2023-05-22T18:41:43.010581",
     "exception": false,
     "start_time": "2023-05-22T18:41:42.973572",
     "status": "completed"
    },
    "tags": []
   },
   "source": [
    "- Work in progress"
   ]
  },
  {
   "cell_type": "markdown",
   "id": "7df49cdc",
   "metadata": {
    "papermill": {
     "duration": 0.031965,
     "end_time": "2023-05-22T18:41:43.074948",
     "exception": false,
     "start_time": "2023-05-22T18:41:43.042983",
     "status": "completed"
    },
    "tags": []
   },
   "source": [
    "# X. Conclusiones EDA"
   ]
  },
  {
   "cell_type": "markdown",
   "id": "e8890590",
   "metadata": {
    "papermill": {
     "duration": 0.036573,
     "end_time": "2023-05-22T18:41:43.147740",
     "exception": false,
     "start_time": "2023-05-22T18:41:43.111167",
     "status": "completed"
    },
    "tags": []
   },
   "source": [
    "- Work in progress\n",
    "-  "
   ]
  }
 ],
 "metadata": {
  "kernelspec": {
   "display_name": "Python 3",
   "language": "python",
   "name": "python3"
  },
  "language_info": {
   "codemirror_mode": {
    "name": "ipython",
    "version": 3
   },
   "file_extension": ".py",
   "mimetype": "text/x-python",
   "name": "python",
   "nbconvert_exporter": "python",
   "pygments_lexer": "ipython3",
   "version": "3.7.12"
  },
  "papermill": {
   "default_parameters": {},
   "duration": 28.178084,
   "end_time": "2023-05-22T18:41:44.409958",
   "environment_variables": {},
   "exception": null,
   "input_path": "__notebook__.ipynb",
   "output_path": "__notebook__.ipynb",
   "parameters": {},
   "start_time": "2023-05-22T18:41:16.231874",
   "version": "2.4.0"
  }
 },
 "nbformat": 4,
 "nbformat_minor": 5
}
