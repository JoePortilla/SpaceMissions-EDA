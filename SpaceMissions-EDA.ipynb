{
 "cells": [
  {
   "cell_type": "markdown",
   "id": "d13e1068",
   "metadata": {
    "papermill": {
     "duration": 0.015545,
     "end_time": "2023-05-11T12:58:44.932641",
     "exception": false,
     "start_time": "2023-05-11T12:58:44.917096",
     "status": "completed"
    },
    "tags": []
   },
   "source": [
    "# 0. Introducción\n",
    "\n",
    "<!-- <img src=\"https://raw.githubusercontent.com/JoePortilla/EnergyProductionCol-EDA/main/img/energyproduction_eda_cover.webp?token=GHSAT0AAAAAAB6AMADC5TFIULPHAY4XD3FUZBR77PA\" width=\"800\" alt=\"logo\" style=\"display:block;margin:auto;\"> -->\n",
    "\n",
    "\n",
    "\n",
    "## Objetivo general\n",
    "Work in progress.\n",
    "\n",
    "## Objetivo especifico\n",
    "Este notebook se centra en explorar y visualizar el conjunto de datos.\n",
    "\n",
    "## Paquetes utilizados\n",
    "- Procesamiento de datos\n",
    "    - Pandas.\n",
    "- Procesamiento numérico.\n",
    "    - NumPy\n",
    "- Visualización de datos\n",
    "    - Seaborn\n",
    "    - Matplotlib.\n",
    "\n",
    "## Dataset\n",
    "\n",
    "## Referencias\n",
    "\n",
    "## Instructor\n",
    "Joseph Santiago Portilla - Ingeniero Electrónico.\n",
    "- GitHub: https://github.com/JoePortilla\n",
    "- Twitter: https://twitter.com/JoePortilla\n",
    "- LinkedIn: https://www.linkedin.com/in/PortillaJoe\n",
    "- Kaggle: https://www.kaggle.com/joeportilla\n"
   ]
  },
  {
   "cell_type": "markdown",
   "id": "a0d4eca3",
   "metadata": {
    "execution": {
     "iopub.execute_input": "2023-03-31T19:32:53.120703Z",
     "iopub.status.busy": "2023-03-31T19:32:53.120274Z",
     "iopub.status.idle": "2023-03-31T19:32:53.126085Z",
     "shell.execute_reply": "2023-03-31T19:32:53.124884Z",
     "shell.execute_reply.started": "2023-03-31T19:32:53.120666Z"
    },
    "papermill": {
     "duration": 0.01437,
     "end_time": "2023-05-11T12:58:44.962107",
     "exception": false,
     "start_time": "2023-05-11T12:58:44.947737",
     "status": "completed"
    },
    "tags": []
   },
   "source": [
    "# 1. Ajustes Iniciales"
   ]
  },
  {
   "cell_type": "markdown",
   "id": "79d45e9f",
   "metadata": {
    "papermill": {
     "duration": 0.014079,
     "end_time": "2023-05-11T12:58:44.991502",
     "exception": false,
     "start_time": "2023-05-11T12:58:44.977423",
     "status": "completed"
    },
    "tags": []
   },
   "source": [
    "## 1.1 Importación de Bibliotecas"
   ]
  },
  {
   "cell_type": "code",
   "execution_count": 1,
   "id": "e2bf1caf",
   "metadata": {
    "_cell_guid": "b1076dfc-b9ad-4769-8c92-a6c4dae69d19",
    "_uuid": "8f2839f25d086af736a60e9eeb907d3b93b6e0e5",
    "execution": {
     "iopub.execute_input": "2023-05-11T12:58:45.025761Z",
     "iopub.status.busy": "2023-05-11T12:58:45.024983Z",
     "iopub.status.idle": "2023-05-11T12:58:46.364842Z",
     "shell.execute_reply": "2023-05-11T12:58:46.363705Z"
    },
    "papermill": {
     "duration": 1.361168,
     "end_time": "2023-05-11T12:58:46.367809",
     "exception": false,
     "start_time": "2023-05-11T12:58:45.006641",
     "status": "completed"
    },
    "tags": []
   },
   "outputs": [],
   "source": [
    "import numpy as np\n",
    "import pandas as pd\n",
    "import seaborn as sns\n",
    "import matplotlib.pyplot as plt"
   ]
  },
  {
   "cell_type": "markdown",
   "id": "225af171",
   "metadata": {
    "papermill": {
     "duration": 0.013813,
     "end_time": "2023-05-11T12:58:46.396011",
     "exception": false,
     "start_time": "2023-05-11T12:58:46.382198",
     "status": "completed"
    },
    "tags": []
   },
   "source": [
    "## 1.2. Definición de estilo de gráficas"
   ]
  },
  {
   "cell_type": "code",
   "execution_count": 2,
   "id": "c0cb4ab5",
   "metadata": {
    "execution": {
     "iopub.execute_input": "2023-05-11T12:58:46.427114Z",
     "iopub.status.busy": "2023-05-11T12:58:46.425982Z",
     "iopub.status.idle": "2023-05-11T12:58:46.432018Z",
     "shell.execute_reply": "2023-05-11T12:58:46.430952Z"
    },
    "papermill": {
     "duration": 0.024324,
     "end_time": "2023-05-11T12:58:46.434535",
     "exception": false,
     "start_time": "2023-05-11T12:58:46.410211",
     "status": "completed"
    },
    "tags": []
   },
   "outputs": [],
   "source": [
    "# https://matplotlib.org/stable/gallery/style_sheets/style_sheets_reference.html\n",
    "plt.style.use(\"seaborn-whitegrid\")"
   ]
  },
  {
   "cell_type": "markdown",
   "id": "2ae16593",
   "metadata": {
    "papermill": {
     "duration": 0.013856,
     "end_time": "2023-05-11T12:58:46.462520",
     "exception": false,
     "start_time": "2023-05-11T12:58:46.448664",
     "status": "completed"
    },
    "tags": []
   },
   "source": [
    "# 2. Carga de Dataset y Revisión inicial"
   ]
  },
  {
   "cell_type": "markdown",
   "id": "ecf7bff0",
   "metadata": {
    "papermill": {
     "duration": 0.013818,
     "end_time": "2023-05-11T12:58:46.490332",
     "exception": false,
     "start_time": "2023-05-11T12:58:46.476514",
     "status": "completed"
    },
    "tags": []
   },
   "source": [
    "## 2.1. Lectura de CSV"
   ]
  },
  {
   "cell_type": "code",
   "execution_count": 3,
   "id": "e29f1de1",
   "metadata": {
    "execution": {
     "iopub.execute_input": "2023-05-11T12:58:46.520811Z",
     "iopub.status.busy": "2023-05-11T12:58:46.520112Z",
     "iopub.status.idle": "2023-05-11T12:58:46.574743Z",
     "shell.execute_reply": "2023-05-11T12:58:46.573567Z"
    },
    "papermill": {
     "duration": 0.073281,
     "end_time": "2023-05-11T12:58:46.577692",
     "exception": false,
     "start_time": "2023-05-11T12:58:46.504411",
     "status": "completed"
    },
    "tags": []
   },
   "outputs": [],
   "source": [
    "df0 = pd.read_csv('/kaggle/input/all-space-missions-from-1957/Space_Corrected.csv')"
   ]
  },
  {
   "cell_type": "markdown",
   "id": "51554025",
   "metadata": {
    "papermill": {
     "duration": 0.013922,
     "end_time": "2023-05-11T12:58:46.605792",
     "exception": false,
     "start_time": "2023-05-11T12:58:46.591870",
     "status": "completed"
    },
    "tags": []
   },
   "source": [
    "## 2.2. Exploración inicial del dataframe"
   ]
  },
  {
   "cell_type": "markdown",
   "id": "8fcc093d",
   "metadata": {
    "papermill": {
     "duration": 0.013831,
     "end_time": "2023-05-11T12:58:46.633751",
     "exception": false,
     "start_time": "2023-05-11T12:58:46.619920",
     "status": "completed"
    },
    "tags": []
   },
   "source": [
    "### Info. general del dataset"
   ]
  },
  {
   "cell_type": "markdown",
   "id": "b8bd4e7a",
   "metadata": {
    "papermill": {
     "duration": 0.013763,
     "end_time": "2023-05-11T12:58:46.661602",
     "exception": false,
     "start_time": "2023-05-11T12:58:46.647839",
     "status": "completed"
    },
    "tags": []
   },
   "source": [
    "El conjunto de datos contiene las siguientes variables:"
   ]
  },
  {
   "cell_type": "code",
   "execution_count": 4,
   "id": "79ac936b",
   "metadata": {
    "execution": {
     "iopub.execute_input": "2023-05-11T12:58:46.692649Z",
     "iopub.status.busy": "2023-05-11T12:58:46.691446Z",
     "iopub.status.idle": "2023-05-11T12:58:46.700449Z",
     "shell.execute_reply": "2023-05-11T12:58:46.699454Z"
    },
    "papermill": {
     "duration": 0.02731,
     "end_time": "2023-05-11T12:58:46.703073",
     "exception": false,
     "start_time": "2023-05-11T12:58:46.675763",
     "status": "completed"
    },
    "tags": []
   },
   "outputs": [
    {
     "data": {
      "text/plain": [
       "Index(['Unnamed: 0', 'Unnamed: 0.1', 'Company Name', 'Location', 'Datum',\n",
       "       'Detail', 'Status Rocket', ' Rocket', 'Status Mission'],\n",
       "      dtype='object')"
      ]
     },
     "execution_count": 4,
     "metadata": {},
     "output_type": "execute_result"
    }
   ],
   "source": [
    "df0.columns"
   ]
  },
  {
   "cell_type": "code",
   "execution_count": 5,
   "id": "f6199f88",
   "metadata": {
    "execution": {
     "iopub.execute_input": "2023-05-11T12:58:46.735204Z",
     "iopub.status.busy": "2023-05-11T12:58:46.734492Z",
     "iopub.status.idle": "2023-05-11T12:58:46.768544Z",
     "shell.execute_reply": "2023-05-11T12:58:46.767264Z"
    },
    "papermill": {
     "duration": 0.052948,
     "end_time": "2023-05-11T12:58:46.771315",
     "exception": false,
     "start_time": "2023-05-11T12:58:46.718367",
     "status": "completed"
    },
    "tags": []
   },
   "outputs": [
    {
     "data": {
      "text/html": [
       "<div>\n",
       "<style scoped>\n",
       "    .dataframe tbody tr th:only-of-type {\n",
       "        vertical-align: middle;\n",
       "    }\n",
       "\n",
       "    .dataframe tbody tr th {\n",
       "        vertical-align: top;\n",
       "    }\n",
       "\n",
       "    .dataframe thead th {\n",
       "        text-align: right;\n",
       "    }\n",
       "</style>\n",
       "<table border=\"1\" class=\"dataframe\">\n",
       "  <thead>\n",
       "    <tr style=\"text-align: right;\">\n",
       "      <th></th>\n",
       "      <th>Unnamed: 0</th>\n",
       "      <th>Unnamed: 0.1</th>\n",
       "      <th>Company Name</th>\n",
       "      <th>Location</th>\n",
       "      <th>Datum</th>\n",
       "      <th>Detail</th>\n",
       "      <th>Status Rocket</th>\n",
       "      <th>Rocket</th>\n",
       "      <th>Status Mission</th>\n",
       "    </tr>\n",
       "  </thead>\n",
       "  <tbody>\n",
       "    <tr>\n",
       "      <th>0</th>\n",
       "      <td>0</td>\n",
       "      <td>0</td>\n",
       "      <td>SpaceX</td>\n",
       "      <td>LC-39A, Kennedy Space Center, Florida, USA</td>\n",
       "      <td>Fri Aug 07, 2020 05:12 UTC</td>\n",
       "      <td>Falcon 9 Block 5 | Starlink V1 L9 &amp; BlackSky</td>\n",
       "      <td>StatusActive</td>\n",
       "      <td>50.0</td>\n",
       "      <td>Success</td>\n",
       "    </tr>\n",
       "    <tr>\n",
       "      <th>1</th>\n",
       "      <td>1</td>\n",
       "      <td>1</td>\n",
       "      <td>CASC</td>\n",
       "      <td>Site 9401 (SLS-2), Jiuquan Satellite Launch Ce...</td>\n",
       "      <td>Thu Aug 06, 2020 04:01 UTC</td>\n",
       "      <td>Long March 2D | Gaofen-9 04 &amp; Q-SAT</td>\n",
       "      <td>StatusActive</td>\n",
       "      <td>29.75</td>\n",
       "      <td>Success</td>\n",
       "    </tr>\n",
       "    <tr>\n",
       "      <th>2</th>\n",
       "      <td>2</td>\n",
       "      <td>2</td>\n",
       "      <td>SpaceX</td>\n",
       "      <td>Pad A, Boca Chica, Texas, USA</td>\n",
       "      <td>Tue Aug 04, 2020 23:57 UTC</td>\n",
       "      <td>Starship Prototype | 150 Meter Hop</td>\n",
       "      <td>StatusActive</td>\n",
       "      <td>NaN</td>\n",
       "      <td>Success</td>\n",
       "    </tr>\n",
       "    <tr>\n",
       "      <th>3</th>\n",
       "      <td>3</td>\n",
       "      <td>3</td>\n",
       "      <td>Roscosmos</td>\n",
       "      <td>Site 200/39, Baikonur Cosmodrome, Kazakhstan</td>\n",
       "      <td>Thu Jul 30, 2020 21:25 UTC</td>\n",
       "      <td>Proton-M/Briz-M | Ekspress-80 &amp; Ekspress-103</td>\n",
       "      <td>StatusActive</td>\n",
       "      <td>65.0</td>\n",
       "      <td>Success</td>\n",
       "    </tr>\n",
       "    <tr>\n",
       "      <th>4</th>\n",
       "      <td>4</td>\n",
       "      <td>4</td>\n",
       "      <td>ULA</td>\n",
       "      <td>SLC-41, Cape Canaveral AFS, Florida, USA</td>\n",
       "      <td>Thu Jul 30, 2020 11:50 UTC</td>\n",
       "      <td>Atlas V 541 | Perseverance</td>\n",
       "      <td>StatusActive</td>\n",
       "      <td>145.0</td>\n",
       "      <td>Success</td>\n",
       "    </tr>\n",
       "  </tbody>\n",
       "</table>\n",
       "</div>"
      ],
      "text/plain": [
       "   Unnamed: 0  Unnamed: 0.1 Company Name  \\\n",
       "0           0             0       SpaceX   \n",
       "1           1             1         CASC   \n",
       "2           2             2       SpaceX   \n",
       "3           3             3    Roscosmos   \n",
       "4           4             4          ULA   \n",
       "\n",
       "                                            Location  \\\n",
       "0         LC-39A, Kennedy Space Center, Florida, USA   \n",
       "1  Site 9401 (SLS-2), Jiuquan Satellite Launch Ce...   \n",
       "2                      Pad A, Boca Chica, Texas, USA   \n",
       "3       Site 200/39, Baikonur Cosmodrome, Kazakhstan   \n",
       "4           SLC-41, Cape Canaveral AFS, Florida, USA   \n",
       "\n",
       "                        Datum                                        Detail  \\\n",
       "0  Fri Aug 07, 2020 05:12 UTC  Falcon 9 Block 5 | Starlink V1 L9 & BlackSky   \n",
       "1  Thu Aug 06, 2020 04:01 UTC           Long March 2D | Gaofen-9 04 & Q-SAT   \n",
       "2  Tue Aug 04, 2020 23:57 UTC            Starship Prototype | 150 Meter Hop   \n",
       "3  Thu Jul 30, 2020 21:25 UTC  Proton-M/Briz-M | Ekspress-80 & Ekspress-103   \n",
       "4  Thu Jul 30, 2020 11:50 UTC                    Atlas V 541 | Perseverance   \n",
       "\n",
       "  Status Rocket  Rocket Status Mission  \n",
       "0  StatusActive   50.0         Success  \n",
       "1  StatusActive  29.75         Success  \n",
       "2  StatusActive     NaN        Success  \n",
       "3  StatusActive   65.0         Success  \n",
       "4  StatusActive  145.0         Success  "
      ]
     },
     "execution_count": 5,
     "metadata": {},
     "output_type": "execute_result"
    }
   ],
   "source": [
    "df0.head()"
   ]
  },
  {
   "cell_type": "code",
   "execution_count": 6,
   "id": "af730ad8",
   "metadata": {
    "execution": {
     "iopub.execute_input": "2023-05-11T12:58:46.803325Z",
     "iopub.status.busy": "2023-05-11T12:58:46.802469Z",
     "iopub.status.idle": "2023-05-11T12:58:46.832916Z",
     "shell.execute_reply": "2023-05-11T12:58:46.831725Z"
    },
    "papermill": {
     "duration": 0.049703,
     "end_time": "2023-05-11T12:58:46.835808",
     "exception": false,
     "start_time": "2023-05-11T12:58:46.786105",
     "status": "completed"
    },
    "tags": []
   },
   "outputs": [
    {
     "name": "stdout",
     "output_type": "stream",
     "text": [
      "<class 'pandas.core.frame.DataFrame'>\n",
      "RangeIndex: 4324 entries, 0 to 4323\n",
      "Data columns (total 9 columns):\n",
      " #   Column          Non-Null Count  Dtype \n",
      "---  ------          --------------  ----- \n",
      " 0   Unnamed: 0      4324 non-null   int64 \n",
      " 1   Unnamed: 0.1    4324 non-null   int64 \n",
      " 2   Company Name    4324 non-null   object\n",
      " 3   Location        4324 non-null   object\n",
      " 4   Datum           4324 non-null   object\n",
      " 5   Detail          4324 non-null   object\n",
      " 6   Status Rocket   4324 non-null   object\n",
      " 7    Rocket         964 non-null    object\n",
      " 8   Status Mission  4324 non-null   object\n",
      "dtypes: int64(2), object(7)\n",
      "memory usage: 304.2+ KB\n"
     ]
    }
   ],
   "source": [
    "df0.info()"
   ]
  },
  {
   "cell_type": "markdown",
   "id": "a90ab96e",
   "metadata": {
    "papermill": {
     "duration": 0.014559,
     "end_time": "2023-05-11T12:58:46.865270",
     "exception": false,
     "start_time": "2023-05-11T12:58:46.850711",
     "status": "completed"
    },
    "tags": []
   },
   "source": [
    "### Dimensión del datafrane"
   ]
  },
  {
   "cell_type": "code",
   "execution_count": 7,
   "id": "4fb5a7c0",
   "metadata": {
    "execution": {
     "iopub.execute_input": "2023-05-11T12:58:46.897067Z",
     "iopub.status.busy": "2023-05-11T12:58:46.896494Z",
     "iopub.status.idle": "2023-05-11T12:58:46.905329Z",
     "shell.execute_reply": "2023-05-11T12:58:46.903852Z"
    },
    "papermill": {
     "duration": 0.028402,
     "end_time": "2023-05-11T12:58:46.908485",
     "exception": false,
     "start_time": "2023-05-11T12:58:46.880083",
     "status": "completed"
    },
    "tags": []
   },
   "outputs": [
    {
     "data": {
      "text/plain": [
       "(4324, 9)"
      ]
     },
     "execution_count": 7,
     "metadata": {},
     "output_type": "execute_result"
    }
   ],
   "source": [
    "df0.shape"
   ]
  },
  {
   "cell_type": "markdown",
   "id": "0941bc8a",
   "metadata": {
    "papermill": {
     "duration": 0.015105,
     "end_time": "2023-05-11T12:58:46.938643",
     "exception": false,
     "start_time": "2023-05-11T12:58:46.923538",
     "status": "completed"
    },
    "tags": []
   },
   "source": [
    "# 3. Preprocesamiento"
   ]
  },
  {
   "cell_type": "code",
   "execution_count": 8,
   "id": "b38d914a",
   "metadata": {
    "execution": {
     "iopub.execute_input": "2023-05-11T12:58:46.971274Z",
     "iopub.status.busy": "2023-05-11T12:58:46.970783Z",
     "iopub.status.idle": "2023-05-11T12:58:46.976621Z",
     "shell.execute_reply": "2023-05-11T12:58:46.975438Z"
    },
    "papermill": {
     "duration": 0.025283,
     "end_time": "2023-05-11T12:58:46.978964",
     "exception": false,
     "start_time": "2023-05-11T12:58:46.953681",
     "status": "completed"
    },
    "tags": []
   },
   "outputs": [],
   "source": [
    "df = df0.copy()"
   ]
  },
  {
   "cell_type": "markdown",
   "id": "5a29e5fd",
   "metadata": {
    "papermill": {
     "duration": 0.01451,
     "end_time": "2023-05-11T12:58:47.008396",
     "exception": false,
     "start_time": "2023-05-11T12:58:46.993886",
     "status": "completed"
    },
    "tags": []
   },
   "source": [
    "## 3.1. Feature selection"
   ]
  },
  {
   "cell_type": "code",
   "execution_count": 9,
   "id": "b3446ae3",
   "metadata": {
    "execution": {
     "iopub.execute_input": "2023-05-11T12:58:47.043169Z",
     "iopub.status.busy": "2023-05-11T12:58:47.042027Z",
     "iopub.status.idle": "2023-05-11T12:58:47.049770Z",
     "shell.execute_reply": "2023-05-11T12:58:47.048627Z"
    },
    "papermill": {
     "duration": 0.02909,
     "end_time": "2023-05-11T12:58:47.052531",
     "exception": false,
     "start_time": "2023-05-11T12:58:47.023441",
     "status": "completed"
    },
    "tags": []
   },
   "outputs": [],
   "source": [
    "filt = ['Unnamed: 0', 'Unnamed: 0.1']\n",
    "df.drop(filt, axis=1, inplace=True)"
   ]
  },
  {
   "cell_type": "code",
   "execution_count": 10,
   "id": "e5b17b4e",
   "metadata": {
    "execution": {
     "iopub.execute_input": "2023-05-11T12:58:47.085357Z",
     "iopub.status.busy": "2023-05-11T12:58:47.084419Z",
     "iopub.status.idle": "2023-05-11T12:58:47.101475Z",
     "shell.execute_reply": "2023-05-11T12:58:47.100407Z"
    },
    "papermill": {
     "duration": 0.036432,
     "end_time": "2023-05-11T12:58:47.104296",
     "exception": false,
     "start_time": "2023-05-11T12:58:47.067864",
     "status": "completed"
    },
    "tags": []
   },
   "outputs": [
    {
     "data": {
      "text/html": [
       "<div>\n",
       "<style scoped>\n",
       "    .dataframe tbody tr th:only-of-type {\n",
       "        vertical-align: middle;\n",
       "    }\n",
       "\n",
       "    .dataframe tbody tr th {\n",
       "        vertical-align: top;\n",
       "    }\n",
       "\n",
       "    .dataframe thead th {\n",
       "        text-align: right;\n",
       "    }\n",
       "</style>\n",
       "<table border=\"1\" class=\"dataframe\">\n",
       "  <thead>\n",
       "    <tr style=\"text-align: right;\">\n",
       "      <th></th>\n",
       "      <th>Company Name</th>\n",
       "      <th>Location</th>\n",
       "      <th>Datum</th>\n",
       "      <th>Detail</th>\n",
       "      <th>Status Rocket</th>\n",
       "      <th>Rocket</th>\n",
       "      <th>Status Mission</th>\n",
       "    </tr>\n",
       "  </thead>\n",
       "  <tbody>\n",
       "    <tr>\n",
       "      <th>0</th>\n",
       "      <td>SpaceX</td>\n",
       "      <td>LC-39A, Kennedy Space Center, Florida, USA</td>\n",
       "      <td>Fri Aug 07, 2020 05:12 UTC</td>\n",
       "      <td>Falcon 9 Block 5 | Starlink V1 L9 &amp; BlackSky</td>\n",
       "      <td>StatusActive</td>\n",
       "      <td>50.0</td>\n",
       "      <td>Success</td>\n",
       "    </tr>\n",
       "    <tr>\n",
       "      <th>1</th>\n",
       "      <td>CASC</td>\n",
       "      <td>Site 9401 (SLS-2), Jiuquan Satellite Launch Ce...</td>\n",
       "      <td>Thu Aug 06, 2020 04:01 UTC</td>\n",
       "      <td>Long March 2D | Gaofen-9 04 &amp; Q-SAT</td>\n",
       "      <td>StatusActive</td>\n",
       "      <td>29.75</td>\n",
       "      <td>Success</td>\n",
       "    </tr>\n",
       "    <tr>\n",
       "      <th>2</th>\n",
       "      <td>SpaceX</td>\n",
       "      <td>Pad A, Boca Chica, Texas, USA</td>\n",
       "      <td>Tue Aug 04, 2020 23:57 UTC</td>\n",
       "      <td>Starship Prototype | 150 Meter Hop</td>\n",
       "      <td>StatusActive</td>\n",
       "      <td>NaN</td>\n",
       "      <td>Success</td>\n",
       "    </tr>\n",
       "    <tr>\n",
       "      <th>3</th>\n",
       "      <td>Roscosmos</td>\n",
       "      <td>Site 200/39, Baikonur Cosmodrome, Kazakhstan</td>\n",
       "      <td>Thu Jul 30, 2020 21:25 UTC</td>\n",
       "      <td>Proton-M/Briz-M | Ekspress-80 &amp; Ekspress-103</td>\n",
       "      <td>StatusActive</td>\n",
       "      <td>65.0</td>\n",
       "      <td>Success</td>\n",
       "    </tr>\n",
       "    <tr>\n",
       "      <th>4</th>\n",
       "      <td>ULA</td>\n",
       "      <td>SLC-41, Cape Canaveral AFS, Florida, USA</td>\n",
       "      <td>Thu Jul 30, 2020 11:50 UTC</td>\n",
       "      <td>Atlas V 541 | Perseverance</td>\n",
       "      <td>StatusActive</td>\n",
       "      <td>145.0</td>\n",
       "      <td>Success</td>\n",
       "    </tr>\n",
       "  </tbody>\n",
       "</table>\n",
       "</div>"
      ],
      "text/plain": [
       "  Company Name                                           Location  \\\n",
       "0       SpaceX         LC-39A, Kennedy Space Center, Florida, USA   \n",
       "1         CASC  Site 9401 (SLS-2), Jiuquan Satellite Launch Ce...   \n",
       "2       SpaceX                      Pad A, Boca Chica, Texas, USA   \n",
       "3    Roscosmos       Site 200/39, Baikonur Cosmodrome, Kazakhstan   \n",
       "4          ULA           SLC-41, Cape Canaveral AFS, Florida, USA   \n",
       "\n",
       "                        Datum                                        Detail  \\\n",
       "0  Fri Aug 07, 2020 05:12 UTC  Falcon 9 Block 5 | Starlink V1 L9 & BlackSky   \n",
       "1  Thu Aug 06, 2020 04:01 UTC           Long March 2D | Gaofen-9 04 & Q-SAT   \n",
       "2  Tue Aug 04, 2020 23:57 UTC            Starship Prototype | 150 Meter Hop   \n",
       "3  Thu Jul 30, 2020 21:25 UTC  Proton-M/Briz-M | Ekspress-80 & Ekspress-103   \n",
       "4  Thu Jul 30, 2020 11:50 UTC                    Atlas V 541 | Perseverance   \n",
       "\n",
       "  Status Rocket  Rocket Status Mission  \n",
       "0  StatusActive   50.0         Success  \n",
       "1  StatusActive  29.75         Success  \n",
       "2  StatusActive     NaN        Success  \n",
       "3  StatusActive   65.0         Success  \n",
       "4  StatusActive  145.0         Success  "
      ]
     },
     "execution_count": 10,
     "metadata": {},
     "output_type": "execute_result"
    }
   ],
   "source": [
    "df.head()"
   ]
  },
  {
   "cell_type": "markdown",
   "id": "7603abe0",
   "metadata": {
    "papermill": {
     "duration": 0.015022,
     "end_time": "2023-05-11T12:58:47.134626",
     "exception": false,
     "start_time": "2023-05-11T12:58:47.119604",
     "status": "completed"
    },
    "tags": []
   },
   "source": [
    "## 3.2. Column renaming"
   ]
  },
  {
   "cell_type": "code",
   "execution_count": 11,
   "id": "54bb2eab",
   "metadata": {
    "execution": {
     "iopub.execute_input": "2023-05-11T12:58:47.167680Z",
     "iopub.status.busy": "2023-05-11T12:58:47.167233Z",
     "iopub.status.idle": "2023-05-11T12:58:47.174191Z",
     "shell.execute_reply": "2023-05-11T12:58:47.172605Z"
    },
    "papermill": {
     "duration": 0.026967,
     "end_time": "2023-05-11T12:58:47.176964",
     "exception": false,
     "start_time": "2023-05-11T12:58:47.149997",
     "status": "completed"
    },
    "tags": []
   },
   "outputs": [],
   "source": [
    "df.rename(columns={'Company Name':'company',\n",
    "                   'Location':'launch_facility',\n",
    "                   'Datum':'date',\n",
    "                   'Detail':'detail',\n",
    "                   'Status Rocket':'rocket_status',\n",
    "                   ' Rocket':'cost',\n",
    "                   'Status Mission':'mission_status'},\n",
    "          inplace=True)"
   ]
  },
  {
   "cell_type": "markdown",
   "id": "10dbcb41",
   "metadata": {
    "papermill": {
     "duration": 0.015016,
     "end_time": "2023-05-11T12:58:47.207261",
     "exception": false,
     "start_time": "2023-05-11T12:58:47.192245",
     "status": "completed"
    },
    "tags": []
   },
   "source": [
    "## 3.3. Data filtering"
   ]
  },
  {
   "cell_type": "markdown",
   "id": "782e17b2",
   "metadata": {
    "papermill": {
     "duration": 0.015024,
     "end_time": "2023-05-11T12:58:47.237621",
     "exception": false,
     "start_time": "2023-05-11T12:58:47.222597",
     "status": "completed"
    },
    "tags": []
   },
   "source": [
    "-"
   ]
  },
  {
   "cell_type": "markdown",
   "id": "b312139f",
   "metadata": {
    "papermill": {
     "duration": 0.014929,
     "end_time": "2023-05-11T12:58:47.267731",
     "exception": false,
     "start_time": "2023-05-11T12:58:47.252802",
     "status": "completed"
    },
    "tags": []
   },
   "source": [
    "## 3.4. Feature conversion"
   ]
  },
  {
   "cell_type": "markdown",
   "id": "5262a051",
   "metadata": {
    "papermill": {
     "duration": 0.014846,
     "end_time": "2023-05-11T12:58:47.297830",
     "exception": false,
     "start_time": "2023-05-11T12:58:47.282984",
     "status": "completed"
    },
    "tags": []
   },
   "source": [
    "### 3.4.1. Fecha"
   ]
  },
  {
   "cell_type": "markdown",
   "id": "3c6202c4",
   "metadata": {
    "papermill": {
     "duration": 0.014847,
     "end_time": "2023-05-11T12:58:47.327899",
     "exception": false,
     "start_time": "2023-05-11T12:58:47.313052",
     "status": "completed"
    },
    "tags": []
   },
   "source": [
    "Eliminar los caracteres ' UTC' de los registros de fecha"
   ]
  },
  {
   "cell_type": "code",
   "execution_count": 12,
   "id": "fd8c485e",
   "metadata": {
    "execution": {
     "iopub.execute_input": "2023-05-11T12:58:47.361773Z",
     "iopub.status.busy": "2023-05-11T12:58:47.360525Z",
     "iopub.status.idle": "2023-05-11T12:58:47.373510Z",
     "shell.execute_reply": "2023-05-11T12:58:47.372214Z"
    },
    "papermill": {
     "duration": 0.032811,
     "end_time": "2023-05-11T12:58:47.376422",
     "exception": false,
     "start_time": "2023-05-11T12:58:47.343611",
     "status": "completed"
    },
    "tags": []
   },
   "outputs": [],
   "source": [
    "df['date'] = df['date'].str.replace(' UTC', '')"
   ]
  },
  {
   "cell_type": "markdown",
   "id": "a35ad5fc",
   "metadata": {
    "papermill": {
     "duration": 0.014943,
     "end_time": "2023-05-11T12:58:47.407321",
     "exception": false,
     "start_time": "2023-05-11T12:58:47.392378",
     "status": "completed"
    },
    "tags": []
   },
   "source": [
    "Debido a que hay formatos combinados en los registros de fecha se crea una función para poder convertirlos a tipo `datetime`"
   ]
  },
  {
   "cell_type": "code",
   "execution_count": 13,
   "id": "583af477",
   "metadata": {
    "execution": {
     "iopub.execute_input": "2023-05-11T12:58:47.440179Z",
     "iopub.status.busy": "2023-05-11T12:58:47.439676Z",
     "iopub.status.idle": "2023-05-11T12:58:47.445737Z",
     "shell.execute_reply": "2023-05-11T12:58:47.444697Z"
    },
    "papermill": {
     "duration": 0.025633,
     "end_time": "2023-05-11T12:58:47.448179",
     "exception": false,
     "start_time": "2023-05-11T12:58:47.422546",
     "status": "completed"
    },
    "tags": []
   },
   "outputs": [],
   "source": [
    "def date_formator(date):\n",
    "    if ':' in date:\n",
    "        return pd.to_datetime(date, format='%a %b %d, %Y %H:%M')\n",
    "    else:\n",
    "        return pd.to_datetime(date, format='%a %b %d, %Y')"
   ]
  },
  {
   "cell_type": "markdown",
   "id": "cf942b73",
   "metadata": {
    "papermill": {
     "duration": 0.015133,
     "end_time": "2023-05-11T12:58:47.478693",
     "exception": false,
     "start_time": "2023-05-11T12:58:47.463560",
     "status": "completed"
    },
    "tags": []
   },
   "source": [
    "Convertir columna `date` a tipo datetime"
   ]
  },
  {
   "cell_type": "code",
   "execution_count": 14,
   "id": "7788ca17",
   "metadata": {
    "execution": {
     "iopub.execute_input": "2023-05-11T12:58:47.511702Z",
     "iopub.status.busy": "2023-05-11T12:58:47.511236Z",
     "iopub.status.idle": "2023-05-11T12:58:48.150569Z",
     "shell.execute_reply": "2023-05-11T12:58:48.149225Z"
    },
    "papermill": {
     "duration": 0.659603,
     "end_time": "2023-05-11T12:58:48.153836",
     "exception": false,
     "start_time": "2023-05-11T12:58:47.494233",
     "status": "completed"
    },
    "tags": []
   },
   "outputs": [],
   "source": [
    "df['date'] = df['date'].apply(date_formator)"
   ]
  },
  {
   "cell_type": "markdown",
   "id": "dcb87b12",
   "metadata": {
    "papermill": {
     "duration": 0.01478,
     "end_time": "2023-05-11T12:58:48.185005",
     "exception": false,
     "start_time": "2023-05-11T12:58:48.170225",
     "status": "completed"
    },
    "tags": []
   },
   "source": [
    "## 3.5. Feature construction"
   ]
  },
  {
   "cell_type": "markdown",
   "id": "48656a00",
   "metadata": {
    "papermill": {
     "duration": 0.014896,
     "end_time": "2023-05-11T12:58:48.215188",
     "exception": false,
     "start_time": "2023-05-11T12:58:48.200292",
     "status": "completed"
    },
    "tags": []
   },
   "source": [
    "### 3.5.1. Año y mes"
   ]
  },
  {
   "cell_type": "markdown",
   "id": "5b2ecb5a",
   "metadata": {
    "papermill": {
     "duration": 0.015789,
     "end_time": "2023-05-11T12:58:48.247573",
     "exception": false,
     "start_time": "2023-05-11T12:58:48.231784",
     "status": "completed"
    },
    "tags": []
   },
   "source": [
    "Crear columna de año y mes"
   ]
  },
  {
   "cell_type": "code",
   "execution_count": 15,
   "id": "8b413fd0",
   "metadata": {
    "execution": {
     "iopub.execute_input": "2023-05-11T12:58:48.280765Z",
     "iopub.status.busy": "2023-05-11T12:58:48.280052Z",
     "iopub.status.idle": "2023-05-11T12:58:48.288771Z",
     "shell.execute_reply": "2023-05-11T12:58:48.287447Z"
    },
    "papermill": {
     "duration": 0.028728,
     "end_time": "2023-05-11T12:58:48.291768",
     "exception": false,
     "start_time": "2023-05-11T12:58:48.263040",
     "status": "completed"
    },
    "tags": []
   },
   "outputs": [],
   "source": [
    "df['year'] = df['date'].dt.year\n",
    "df['month'] = df['date'].dt.month"
   ]
  },
  {
   "cell_type": "markdown",
   "id": "b4c2feec",
   "metadata": {
    "papermill": {
     "duration": 0.015275,
     "end_time": "2023-05-11T12:58:48.322796",
     "exception": false,
     "start_time": "2023-05-11T12:58:48.307521",
     "status": "completed"
    },
    "tags": []
   },
   "source": [
    "### 3.5.2. Ubicación lanzamiento"
   ]
  },
  {
   "cell_type": "markdown",
   "id": "9cdefb08",
   "metadata": {
    "papermill": {
     "duration": 0.015053,
     "end_time": "2023-05-11T12:58:48.353244",
     "exception": false,
     "start_time": "2023-05-11T12:58:48.338191",
     "status": "completed"
    },
    "tags": []
   },
   "source": [
    "Crear columna con la ubicación del lanzamiento, a partir del centro de lanzamiento"
   ]
  },
  {
   "cell_type": "code",
   "execution_count": 16,
   "id": "36026cfe",
   "metadata": {
    "execution": {
     "iopub.execute_input": "2023-05-11T12:58:48.385798Z",
     "iopub.status.busy": "2023-05-11T12:58:48.385336Z",
     "iopub.status.idle": "2023-05-11T12:58:48.404875Z",
     "shell.execute_reply": "2023-05-11T12:58:48.403464Z"
    },
    "papermill": {
     "duration": 0.03901,
     "end_time": "2023-05-11T12:58:48.407487",
     "exception": false,
     "start_time": "2023-05-11T12:58:48.368477",
     "status": "completed"
    },
    "tags": []
   },
   "outputs": [],
   "source": [
    "df['launch_location'] = df['launch_facility'].str.split(', ').str[-1]"
   ]
  },
  {
   "cell_type": "markdown",
   "id": "fc697d2d",
   "metadata": {
    "papermill": {
     "duration": 0.014873,
     "end_time": "2023-05-11T12:58:48.437620",
     "exception": false,
     "start_time": "2023-05-11T12:58:48.422747",
     "status": "completed"
    },
    "tags": []
   },
   "source": [
    "### 3.5.3. Cohete y payload"
   ]
  },
  {
   "cell_type": "markdown",
   "id": "dbb8734f",
   "metadata": {
    "papermill": {
     "duration": 0.01485,
     "end_time": "2023-05-11T12:58:48.467717",
     "exception": false,
     "start_time": "2023-05-11T12:58:48.452867",
     "status": "completed"
    },
    "tags": []
   },
   "source": [
    "Dividir la columna `detail` en dos. Una para el nombre del cohete `rocket` y otra para la carga `payload` que lleva."
   ]
  },
  {
   "cell_type": "code",
   "execution_count": 17,
   "id": "171d2e72",
   "metadata": {
    "execution": {
     "iopub.execute_input": "2023-05-11T12:58:48.500238Z",
     "iopub.status.busy": "2023-05-11T12:58:48.499724Z",
     "iopub.status.idle": "2023-05-11T12:58:48.520881Z",
     "shell.execute_reply": "2023-05-11T12:58:48.519881Z"
    },
    "papermill": {
     "duration": 0.040709,
     "end_time": "2023-05-11T12:58:48.523658",
     "exception": false,
     "start_time": "2023-05-11T12:58:48.482949",
     "status": "completed"
    },
    "tags": []
   },
   "outputs": [],
   "source": [
    "df[['rocket', 'payload']] = df['detail'].str.split('|', expand=True)\n",
    "df.drop('detail', axis=1, inplace=True)"
   ]
  },
  {
   "cell_type": "markdown",
   "id": "b773c12b",
   "metadata": {
    "papermill": {
     "duration": 0.015253,
     "end_time": "2023-05-11T12:58:48.554208",
     "exception": false,
     "start_time": "2023-05-11T12:58:48.538955",
     "status": "completed"
    },
    "tags": []
   },
   "source": [
    "## 3.6. Value renaming"
   ]
  },
  {
   "cell_type": "markdown",
   "id": "651814ac",
   "metadata": {
    "papermill": {
     "duration": 0.014927,
     "end_time": "2023-05-11T12:58:48.584655",
     "exception": false,
     "start_time": "2023-05-11T12:58:48.569728",
     "status": "completed"
    },
    "tags": []
   },
   "source": [
    "-"
   ]
  },
  {
   "cell_type": "markdown",
   "id": "5b920113",
   "metadata": {
    "papermill": {
     "duration": 0.015198,
     "end_time": "2023-05-11T12:58:48.615099",
     "exception": false,
     "start_time": "2023-05-11T12:58:48.599901",
     "status": "completed"
    },
    "tags": []
   },
   "source": [
    "## 3.7. Data reordering"
   ]
  },
  {
   "cell_type": "code",
   "execution_count": 18,
   "id": "1627f4d7",
   "metadata": {
    "execution": {
     "iopub.execute_input": "2023-05-11T12:58:48.648128Z",
     "iopub.status.busy": "2023-05-11T12:58:48.647380Z",
     "iopub.status.idle": "2023-05-11T12:58:48.655430Z",
     "shell.execute_reply": "2023-05-11T12:58:48.654154Z"
    },
    "papermill": {
     "duration": 0.028132,
     "end_time": "2023-05-11T12:58:48.658540",
     "exception": false,
     "start_time": "2023-05-11T12:58:48.630408",
     "status": "completed"
    },
    "tags": []
   },
   "outputs": [],
   "source": [
    "df = df.sort_values('date')\n",
    "df = df.reset_index(drop=True)"
   ]
  },
  {
   "cell_type": "markdown",
   "id": "3b2b75ff",
   "metadata": {
    "papermill": {
     "duration": 0.014918,
     "end_time": "2023-05-11T12:58:48.688572",
     "exception": false,
     "start_time": "2023-05-11T12:58:48.673654",
     "status": "completed"
    },
    "tags": []
   },
   "source": [
    "## 3.8. Dataframe preprocesado"
   ]
  },
  {
   "cell_type": "code",
   "execution_count": 19,
   "id": "400ca1f9",
   "metadata": {
    "execution": {
     "iopub.execute_input": "2023-05-11T12:58:48.721961Z",
     "iopub.status.busy": "2023-05-11T12:58:48.721003Z",
     "iopub.status.idle": "2023-05-11T12:58:48.741736Z",
     "shell.execute_reply": "2023-05-11T12:58:48.740576Z"
    },
    "papermill": {
     "duration": 0.040682,
     "end_time": "2023-05-11T12:58:48.744337",
     "exception": false,
     "start_time": "2023-05-11T12:58:48.703655",
     "status": "completed"
    },
    "tags": []
   },
   "outputs": [
    {
     "data": {
      "text/html": [
       "<div>\n",
       "<style scoped>\n",
       "    .dataframe tbody tr th:only-of-type {\n",
       "        vertical-align: middle;\n",
       "    }\n",
       "\n",
       "    .dataframe tbody tr th {\n",
       "        vertical-align: top;\n",
       "    }\n",
       "\n",
       "    .dataframe thead th {\n",
       "        text-align: right;\n",
       "    }\n",
       "</style>\n",
       "<table border=\"1\" class=\"dataframe\">\n",
       "  <thead>\n",
       "    <tr style=\"text-align: right;\">\n",
       "      <th></th>\n",
       "      <th>company</th>\n",
       "      <th>launch_facility</th>\n",
       "      <th>date</th>\n",
       "      <th>rocket_status</th>\n",
       "      <th>cost</th>\n",
       "      <th>mission_status</th>\n",
       "      <th>year</th>\n",
       "      <th>month</th>\n",
       "      <th>launch_location</th>\n",
       "      <th>rocket</th>\n",
       "      <th>payload</th>\n",
       "    </tr>\n",
       "  </thead>\n",
       "  <tbody>\n",
       "    <tr>\n",
       "      <th>0</th>\n",
       "      <td>RVSN USSR</td>\n",
       "      <td>Site 1/5, Baikonur Cosmodrome, Kazakhstan</td>\n",
       "      <td>1957-10-04 19:28:00</td>\n",
       "      <td>StatusRetired</td>\n",
       "      <td>NaN</td>\n",
       "      <td>Success</td>\n",
       "      <td>1957</td>\n",
       "      <td>10</td>\n",
       "      <td>Kazakhstan</td>\n",
       "      <td>Sputnik 8K71PS</td>\n",
       "      <td>Sputnik-1</td>\n",
       "    </tr>\n",
       "    <tr>\n",
       "      <th>1</th>\n",
       "      <td>RVSN USSR</td>\n",
       "      <td>Site 1/5, Baikonur Cosmodrome, Kazakhstan</td>\n",
       "      <td>1957-11-03 02:30:00</td>\n",
       "      <td>StatusRetired</td>\n",
       "      <td>NaN</td>\n",
       "      <td>Success</td>\n",
       "      <td>1957</td>\n",
       "      <td>11</td>\n",
       "      <td>Kazakhstan</td>\n",
       "      <td>Sputnik 8K71PS</td>\n",
       "      <td>Sputnik-2</td>\n",
       "    </tr>\n",
       "    <tr>\n",
       "      <th>2</th>\n",
       "      <td>US Navy</td>\n",
       "      <td>LC-18A, Cape Canaveral AFS, Florida, USA</td>\n",
       "      <td>1957-12-06 16:44:00</td>\n",
       "      <td>StatusRetired</td>\n",
       "      <td>NaN</td>\n",
       "      <td>Failure</td>\n",
       "      <td>1957</td>\n",
       "      <td>12</td>\n",
       "      <td>USA</td>\n",
       "      <td>Vanguard</td>\n",
       "      <td>Vanguard TV3</td>\n",
       "    </tr>\n",
       "    <tr>\n",
       "      <th>3</th>\n",
       "      <td>AMBA</td>\n",
       "      <td>LC-26A, Cape Canaveral AFS, Florida, USA</td>\n",
       "      <td>1958-02-01 03:48:00</td>\n",
       "      <td>StatusRetired</td>\n",
       "      <td>NaN</td>\n",
       "      <td>Success</td>\n",
       "      <td>1958</td>\n",
       "      <td>2</td>\n",
       "      <td>USA</td>\n",
       "      <td>Juno I</td>\n",
       "      <td>Explorer 1</td>\n",
       "    </tr>\n",
       "    <tr>\n",
       "      <th>4</th>\n",
       "      <td>US Navy</td>\n",
       "      <td>LC-18A, Cape Canaveral AFS, Florida, USA</td>\n",
       "      <td>1958-02-05 07:33:00</td>\n",
       "      <td>StatusRetired</td>\n",
       "      <td>NaN</td>\n",
       "      <td>Failure</td>\n",
       "      <td>1958</td>\n",
       "      <td>2</td>\n",
       "      <td>USA</td>\n",
       "      <td>Vanguard</td>\n",
       "      <td>Vanguard TV3BU</td>\n",
       "    </tr>\n",
       "    <tr>\n",
       "      <th>5</th>\n",
       "      <td>AMBA</td>\n",
       "      <td>LC-26A, Cape Canaveral AFS, Florida, USA</td>\n",
       "      <td>1958-03-05 18:27:00</td>\n",
       "      <td>StatusRetired</td>\n",
       "      <td>NaN</td>\n",
       "      <td>Failure</td>\n",
       "      <td>1958</td>\n",
       "      <td>3</td>\n",
       "      <td>USA</td>\n",
       "      <td>Juno I</td>\n",
       "      <td>Explorer 2</td>\n",
       "    </tr>\n",
       "    <tr>\n",
       "      <th>6</th>\n",
       "      <td>US Navy</td>\n",
       "      <td>LC-18A, Cape Canaveral AFS, Florida, USA</td>\n",
       "      <td>1958-03-17 12:15:00</td>\n",
       "      <td>StatusRetired</td>\n",
       "      <td>NaN</td>\n",
       "      <td>Success</td>\n",
       "      <td>1958</td>\n",
       "      <td>3</td>\n",
       "      <td>USA</td>\n",
       "      <td>Vanguard</td>\n",
       "      <td>Vanguard 1</td>\n",
       "    </tr>\n",
       "    <tr>\n",
       "      <th>7</th>\n",
       "      <td>AMBA</td>\n",
       "      <td>LC-5, Cape Canaveral AFS, Florida, USA</td>\n",
       "      <td>1958-03-26 17:38:00</td>\n",
       "      <td>StatusRetired</td>\n",
       "      <td>NaN</td>\n",
       "      <td>Success</td>\n",
       "      <td>1958</td>\n",
       "      <td>3</td>\n",
       "      <td>USA</td>\n",
       "      <td>Juno I</td>\n",
       "      <td>Explorer 3</td>\n",
       "    </tr>\n",
       "    <tr>\n",
       "      <th>8</th>\n",
       "      <td>RVSN USSR</td>\n",
       "      <td>Site 1/5, Baikonur Cosmodrome, Kazakhstan</td>\n",
       "      <td>1958-04-27 09:01:00</td>\n",
       "      <td>StatusRetired</td>\n",
       "      <td>NaN</td>\n",
       "      <td>Failure</td>\n",
       "      <td>1958</td>\n",
       "      <td>4</td>\n",
       "      <td>Kazakhstan</td>\n",
       "      <td>Sputnik 8A91</td>\n",
       "      <td>Sputnik-3 #1</td>\n",
       "    </tr>\n",
       "    <tr>\n",
       "      <th>9</th>\n",
       "      <td>US Navy</td>\n",
       "      <td>LC-18A, Cape Canaveral AFS, Florida, USA</td>\n",
       "      <td>1958-04-28 02:53:00</td>\n",
       "      <td>StatusRetired</td>\n",
       "      <td>NaN</td>\n",
       "      <td>Failure</td>\n",
       "      <td>1958</td>\n",
       "      <td>4</td>\n",
       "      <td>USA</td>\n",
       "      <td>Vanguard</td>\n",
       "      <td>Vanguard TV5</td>\n",
       "    </tr>\n",
       "  </tbody>\n",
       "</table>\n",
       "</div>"
      ],
      "text/plain": [
       "     company                            launch_facility                date  \\\n",
       "0  RVSN USSR  Site 1/5, Baikonur Cosmodrome, Kazakhstan 1957-10-04 19:28:00   \n",
       "1  RVSN USSR  Site 1/5, Baikonur Cosmodrome, Kazakhstan 1957-11-03 02:30:00   \n",
       "2    US Navy   LC-18A, Cape Canaveral AFS, Florida, USA 1957-12-06 16:44:00   \n",
       "3       AMBA   LC-26A, Cape Canaveral AFS, Florida, USA 1958-02-01 03:48:00   \n",
       "4    US Navy   LC-18A, Cape Canaveral AFS, Florida, USA 1958-02-05 07:33:00   \n",
       "5       AMBA   LC-26A, Cape Canaveral AFS, Florida, USA 1958-03-05 18:27:00   \n",
       "6    US Navy   LC-18A, Cape Canaveral AFS, Florida, USA 1958-03-17 12:15:00   \n",
       "7       AMBA     LC-5, Cape Canaveral AFS, Florida, USA 1958-03-26 17:38:00   \n",
       "8  RVSN USSR  Site 1/5, Baikonur Cosmodrome, Kazakhstan 1958-04-27 09:01:00   \n",
       "9    US Navy   LC-18A, Cape Canaveral AFS, Florida, USA 1958-04-28 02:53:00   \n",
       "\n",
       "   rocket_status cost mission_status  year  month launch_location  \\\n",
       "0  StatusRetired  NaN        Success  1957     10      Kazakhstan   \n",
       "1  StatusRetired  NaN        Success  1957     11      Kazakhstan   \n",
       "2  StatusRetired  NaN        Failure  1957     12             USA   \n",
       "3  StatusRetired  NaN        Success  1958      2             USA   \n",
       "4  StatusRetired  NaN        Failure  1958      2             USA   \n",
       "5  StatusRetired  NaN        Failure  1958      3             USA   \n",
       "6  StatusRetired  NaN        Success  1958      3             USA   \n",
       "7  StatusRetired  NaN        Success  1958      3             USA   \n",
       "8  StatusRetired  NaN        Failure  1958      4      Kazakhstan   \n",
       "9  StatusRetired  NaN        Failure  1958      4             USA   \n",
       "\n",
       "            rocket          payload  \n",
       "0  Sputnik 8K71PS         Sputnik-1  \n",
       "1  Sputnik 8K71PS         Sputnik-2  \n",
       "2        Vanguard      Vanguard TV3  \n",
       "3          Juno I        Explorer 1  \n",
       "4        Vanguard    Vanguard TV3BU  \n",
       "5          Juno I        Explorer 2  \n",
       "6        Vanguard        Vanguard 1  \n",
       "7          Juno I        Explorer 3  \n",
       "8    Sputnik 8A91      Sputnik-3 #1  \n",
       "9        Vanguard      Vanguard TV5  "
      ]
     },
     "execution_count": 19,
     "metadata": {},
     "output_type": "execute_result"
    }
   ],
   "source": [
    "df.head(10)"
   ]
  },
  {
   "cell_type": "code",
   "execution_count": 20,
   "id": "7edcd4c1",
   "metadata": {
    "execution": {
     "iopub.execute_input": "2023-05-11T12:58:48.778271Z",
     "iopub.status.busy": "2023-05-11T12:58:48.777407Z",
     "iopub.status.idle": "2023-05-11T12:58:48.797021Z",
     "shell.execute_reply": "2023-05-11T12:58:48.795261Z"
    },
    "papermill": {
     "duration": 0.040097,
     "end_time": "2023-05-11T12:58:48.800176",
     "exception": false,
     "start_time": "2023-05-11T12:58:48.760079",
     "status": "completed"
    },
    "tags": []
   },
   "outputs": [
    {
     "name": "stdout",
     "output_type": "stream",
     "text": [
      "<class 'pandas.core.frame.DataFrame'>\n",
      "RangeIndex: 4324 entries, 0 to 4323\n",
      "Data columns (total 11 columns):\n",
      " #   Column           Non-Null Count  Dtype         \n",
      "---  ------           --------------  -----         \n",
      " 0   company          4324 non-null   object        \n",
      " 1   launch_facility  4324 non-null   object        \n",
      " 2   date             4324 non-null   datetime64[ns]\n",
      " 3   rocket_status    4324 non-null   object        \n",
      " 4   cost             964 non-null    object        \n",
      " 5   mission_status   4324 non-null   object        \n",
      " 6   year             4324 non-null   int64         \n",
      " 7   month            4324 non-null   int64         \n",
      " 8   launch_location  4324 non-null   object        \n",
      " 9   rocket           4324 non-null   object        \n",
      " 10  payload          4324 non-null   object        \n",
      "dtypes: datetime64[ns](1), int64(2), object(8)\n",
      "memory usage: 371.7+ KB\n"
     ]
    }
   ],
   "source": [
    "df.info()"
   ]
  },
  {
   "cell_type": "markdown",
   "id": "a2105b2b",
   "metadata": {
    "papermill": {
     "duration": 0.01607,
     "end_time": "2023-05-11T12:58:48.832383",
     "exception": false,
     "start_time": "2023-05-11T12:58:48.816313",
     "status": "completed"
    },
    "tags": []
   },
   "source": [
    "# X. Conclusiones EDA"
   ]
  },
  {
   "cell_type": "markdown",
   "id": "813e4455",
   "metadata": {
    "papermill": {
     "duration": 0.01621,
     "end_time": "2023-05-11T12:58:48.864553",
     "exception": false,
     "start_time": "2023-05-11T12:58:48.848343",
     "status": "completed"
    },
    "tags": []
   },
   "source": [
    "- Work in progress\n",
    "-  "
   ]
  }
 ],
 "metadata": {
  "kernelspec": {
   "display_name": "Python 3",
   "language": "python",
   "name": "python3"
  },
  "language_info": {
   "codemirror_mode": {
    "name": "ipython",
    "version": 3
   },
   "file_extension": ".py",
   "mimetype": "text/x-python",
   "name": "python",
   "nbconvert_exporter": "python",
   "pygments_lexer": "ipython3",
   "version": "3.7.12"
  },
  "papermill": {
   "default_parameters": {},
   "duration": 18.459156,
   "end_time": "2023-05-11T12:58:49.704725",
   "environment_variables": {},
   "exception": null,
   "input_path": "__notebook__.ipynb",
   "output_path": "__notebook__.ipynb",
   "parameters": {},
   "start_time": "2023-05-11T12:58:31.245569",
   "version": "2.4.0"
  }
 },
 "nbformat": 4,
 "nbformat_minor": 5
}
