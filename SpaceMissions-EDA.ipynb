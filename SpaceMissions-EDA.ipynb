{
 "cells": [
  {
   "cell_type": "markdown",
   "id": "3b1efcee",
   "metadata": {
    "papermill": {
     "duration": 0.015534,
     "end_time": "2023-05-14T17:03:04.669579",
     "exception": false,
     "start_time": "2023-05-14T17:03:04.654045",
     "status": "completed"
    },
    "tags": []
   },
   "source": [
    "# 0. Introducción\n",
    "\n",
    "<!-- <img src=\"https://raw.githubusercontent.com/JoePortilla/EnergyProductionCol-EDA/main/img/energyproduction_eda_cover.webp?token=GHSAT0AAAAAAB6AMADC5TFIULPHAY4XD3FUZBR77PA\" width=\"800\" alt=\"logo\" style=\"display:block;margin:auto;\"> -->\n",
    "\n",
    "\n",
    "\n",
    "## Objetivo general\n",
    "Work in progress.\n",
    "\n",
    "## Objetivo especifico\n",
    "Este notebook se centra en explorar y visualizar el conjunto de datos.\n",
    "\n",
    "## Paquetes utilizados\n",
    "- Procesamiento de datos\n",
    "    - Pandas.\n",
    "- Procesamiento numérico.\n",
    "    - NumPy\n",
    "- Visualización de datos\n",
    "    - Seaborn\n",
    "    - Matplotlib.\n",
    "\n",
    "## Dataset\n",
    "\n",
    "## Referencias\n",
    "\n",
    "## Instructor\n",
    "Joseph Santiago Portilla - Ingeniero Electrónico.\n",
    "- GitHub: https://github.com/JoePortilla\n",
    "- Twitter: https://twitter.com/JoePortilla\n",
    "- LinkedIn: https://www.linkedin.com/in/PortillaJoe\n",
    "- Kaggle: https://www.kaggle.com/joeportilla\n"
   ]
  },
  {
   "cell_type": "markdown",
   "id": "79658f0c",
   "metadata": {
    "execution": {
     "iopub.execute_input": "2023-03-31T19:32:53.120703Z",
     "iopub.status.busy": "2023-03-31T19:32:53.120274Z",
     "iopub.status.idle": "2023-03-31T19:32:53.126085Z",
     "shell.execute_reply": "2023-03-31T19:32:53.124884Z",
     "shell.execute_reply.started": "2023-03-31T19:32:53.120666Z"
    },
    "papermill": {
     "duration": 0.014777,
     "end_time": "2023-05-14T17:03:04.698572",
     "exception": false,
     "start_time": "2023-05-14T17:03:04.683795",
     "status": "completed"
    },
    "tags": []
   },
   "source": [
    "# 1. Ajustes Iniciales"
   ]
  },
  {
   "cell_type": "markdown",
   "id": "a2d88509",
   "metadata": {
    "papermill": {
     "duration": 0.014495,
     "end_time": "2023-05-14T17:03:04.727946",
     "exception": false,
     "start_time": "2023-05-14T17:03:04.713451",
     "status": "completed"
    },
    "tags": []
   },
   "source": [
    "## 1.1 Importación de Bibliotecas"
   ]
  },
  {
   "cell_type": "code",
   "execution_count": 1,
   "id": "95c2c0dd",
   "metadata": {
    "_cell_guid": "b1076dfc-b9ad-4769-8c92-a6c4dae69d19",
    "_uuid": "8f2839f25d086af736a60e9eeb907d3b93b6e0e5",
    "execution": {
     "iopub.execute_input": "2023-05-14T17:03:04.758173Z",
     "iopub.status.busy": "2023-05-14T17:03:04.757854Z",
     "iopub.status.idle": "2023-05-14T17:03:05.698342Z",
     "shell.execute_reply": "2023-05-14T17:03:05.697389Z"
    },
    "papermill": {
     "duration": 0.95837,
     "end_time": "2023-05-14T17:03:05.700612",
     "exception": false,
     "start_time": "2023-05-14T17:03:04.742242",
     "status": "completed"
    },
    "tags": []
   },
   "outputs": [],
   "source": [
    "import numpy as np\n",
    "import pandas as pd\n",
    "import seaborn as sns\n",
    "import matplotlib.pyplot as plt"
   ]
  },
  {
   "cell_type": "markdown",
   "id": "c4680a53",
   "metadata": {
    "papermill": {
     "duration": 0.013626,
     "end_time": "2023-05-14T17:03:05.728410",
     "exception": false,
     "start_time": "2023-05-14T17:03:05.714784",
     "status": "completed"
    },
    "tags": []
   },
   "source": [
    "## 1.2. Definición de estilo de gráficas"
   ]
  },
  {
   "cell_type": "code",
   "execution_count": 2,
   "id": "55f5c932",
   "metadata": {
    "execution": {
     "iopub.execute_input": "2023-05-14T17:03:05.758155Z",
     "iopub.status.busy": "2023-05-14T17:03:05.757071Z",
     "iopub.status.idle": "2023-05-14T17:03:05.761601Z",
     "shell.execute_reply": "2023-05-14T17:03:05.760927Z"
    },
    "papermill": {
     "duration": 0.021142,
     "end_time": "2023-05-14T17:03:05.763252",
     "exception": false,
     "start_time": "2023-05-14T17:03:05.742110",
     "status": "completed"
    },
    "tags": []
   },
   "outputs": [],
   "source": [
    "# https://matplotlib.org/stable/gallery/style_sheets/style_sheets_reference.html\n",
    "plt.style.use(\"seaborn-whitegrid\")"
   ]
  },
  {
   "cell_type": "markdown",
   "id": "6c583aee",
   "metadata": {
    "papermill": {
     "duration": 0.013616,
     "end_time": "2023-05-14T17:03:05.790839",
     "exception": false,
     "start_time": "2023-05-14T17:03:05.777223",
     "status": "completed"
    },
    "tags": []
   },
   "source": [
    "# 2. Carga de Dataset y Revisión inicial"
   ]
  },
  {
   "cell_type": "markdown",
   "id": "c3419c36",
   "metadata": {
    "papermill": {
     "duration": 0.013545,
     "end_time": "2023-05-14T17:03:05.818170",
     "exception": false,
     "start_time": "2023-05-14T17:03:05.804625",
     "status": "completed"
    },
    "tags": []
   },
   "source": [
    "## 2.1. Lectura de CSV"
   ]
  },
  {
   "cell_type": "code",
   "execution_count": 3,
   "id": "678e26b7",
   "metadata": {
    "execution": {
     "iopub.execute_input": "2023-05-14T17:03:05.847870Z",
     "iopub.status.busy": "2023-05-14T17:03:05.846930Z",
     "iopub.status.idle": "2023-05-14T17:03:05.885882Z",
     "shell.execute_reply": "2023-05-14T17:03:05.885150Z"
    },
    "papermill": {
     "duration": 0.055935,
     "end_time": "2023-05-14T17:03:05.887880",
     "exception": false,
     "start_time": "2023-05-14T17:03:05.831945",
     "status": "completed"
    },
    "tags": []
   },
   "outputs": [],
   "source": [
    "df0 = pd.read_csv('/kaggle/input/all-space-missions-from-1957/Space_Corrected.csv')"
   ]
  },
  {
   "cell_type": "markdown",
   "id": "c7abb52c",
   "metadata": {
    "papermill": {
     "duration": 0.013784,
     "end_time": "2023-05-14T17:03:05.915947",
     "exception": false,
     "start_time": "2023-05-14T17:03:05.902163",
     "status": "completed"
    },
    "tags": []
   },
   "source": [
    "## 2.2. Exploración inicial del dataframe"
   ]
  },
  {
   "cell_type": "markdown",
   "id": "d0ef70c3",
   "metadata": {
    "papermill": {
     "duration": 0.014288,
     "end_time": "2023-05-14T17:03:05.944945",
     "exception": false,
     "start_time": "2023-05-14T17:03:05.930657",
     "status": "completed"
    },
    "tags": []
   },
   "source": [
    "### Info. general del dataset"
   ]
  },
  {
   "cell_type": "markdown",
   "id": "f1baf56d",
   "metadata": {
    "papermill": {
     "duration": 0.01382,
     "end_time": "2023-05-14T17:03:05.972981",
     "exception": false,
     "start_time": "2023-05-14T17:03:05.959161",
     "status": "completed"
    },
    "tags": []
   },
   "source": [
    "El conjunto de datos contiene las siguientes variables:\n",
    "\n",
    "Company Name: Company\n",
    "Location: Location of the Launch\n",
    "Datum: Datum and Time of Launch\n",
    "Detail: Rocket Name\n",
    "Status Rocket: Status of the rocket\n",
    "Rocket: Cost of the mission: in $ million\n",
    "Status Mission: Status of the mission"
   ]
  },
  {
   "cell_type": "code",
   "execution_count": 4,
   "id": "4c44403b",
   "metadata": {
    "execution": {
     "iopub.execute_input": "2023-05-14T17:03:06.003125Z",
     "iopub.status.busy": "2023-05-14T17:03:06.002462Z",
     "iopub.status.idle": "2023-05-14T17:03:06.008736Z",
     "shell.execute_reply": "2023-05-14T17:03:06.008128Z"
    },
    "papermill": {
     "duration": 0.02325,
     "end_time": "2023-05-14T17:03:06.010437",
     "exception": false,
     "start_time": "2023-05-14T17:03:05.987187",
     "status": "completed"
    },
    "tags": []
   },
   "outputs": [
    {
     "data": {
      "text/plain": [
       "Index(['Unnamed: 0', 'Unnamed: 0.1', 'Company Name', 'Location', 'Datum',\n",
       "       'Detail', 'Status Rocket', ' Rocket', 'Status Mission'],\n",
       "      dtype='object')"
      ]
     },
     "execution_count": 4,
     "metadata": {},
     "output_type": "execute_result"
    }
   ],
   "source": [
    "df0.columns"
   ]
  },
  {
   "cell_type": "code",
   "execution_count": 5,
   "id": "6eef6902",
   "metadata": {
    "execution": {
     "iopub.execute_input": "2023-05-14T17:03:06.042632Z",
     "iopub.status.busy": "2023-05-14T17:03:06.042012Z",
     "iopub.status.idle": "2023-05-14T17:03:06.064421Z",
     "shell.execute_reply": "2023-05-14T17:03:06.063500Z"
    },
    "papermill": {
     "duration": 0.040857,
     "end_time": "2023-05-14T17:03:06.066406",
     "exception": false,
     "start_time": "2023-05-14T17:03:06.025549",
     "status": "completed"
    },
    "tags": []
   },
   "outputs": [
    {
     "data": {
      "text/html": [
       "<div>\n",
       "<style scoped>\n",
       "    .dataframe tbody tr th:only-of-type {\n",
       "        vertical-align: middle;\n",
       "    }\n",
       "\n",
       "    .dataframe tbody tr th {\n",
       "        vertical-align: top;\n",
       "    }\n",
       "\n",
       "    .dataframe thead th {\n",
       "        text-align: right;\n",
       "    }\n",
       "</style>\n",
       "<table border=\"1\" class=\"dataframe\">\n",
       "  <thead>\n",
       "    <tr style=\"text-align: right;\">\n",
       "      <th></th>\n",
       "      <th>Unnamed: 0</th>\n",
       "      <th>Unnamed: 0.1</th>\n",
       "      <th>Company Name</th>\n",
       "      <th>Location</th>\n",
       "      <th>Datum</th>\n",
       "      <th>Detail</th>\n",
       "      <th>Status Rocket</th>\n",
       "      <th>Rocket</th>\n",
       "      <th>Status Mission</th>\n",
       "    </tr>\n",
       "  </thead>\n",
       "  <tbody>\n",
       "    <tr>\n",
       "      <th>0</th>\n",
       "      <td>0</td>\n",
       "      <td>0</td>\n",
       "      <td>SpaceX</td>\n",
       "      <td>LC-39A, Kennedy Space Center, Florida, USA</td>\n",
       "      <td>Fri Aug 07, 2020 05:12 UTC</td>\n",
       "      <td>Falcon 9 Block 5 | Starlink V1 L9 &amp; BlackSky</td>\n",
       "      <td>StatusActive</td>\n",
       "      <td>50.0</td>\n",
       "      <td>Success</td>\n",
       "    </tr>\n",
       "    <tr>\n",
       "      <th>1</th>\n",
       "      <td>1</td>\n",
       "      <td>1</td>\n",
       "      <td>CASC</td>\n",
       "      <td>Site 9401 (SLS-2), Jiuquan Satellite Launch Ce...</td>\n",
       "      <td>Thu Aug 06, 2020 04:01 UTC</td>\n",
       "      <td>Long March 2D | Gaofen-9 04 &amp; Q-SAT</td>\n",
       "      <td>StatusActive</td>\n",
       "      <td>29.75</td>\n",
       "      <td>Success</td>\n",
       "    </tr>\n",
       "    <tr>\n",
       "      <th>2</th>\n",
       "      <td>2</td>\n",
       "      <td>2</td>\n",
       "      <td>SpaceX</td>\n",
       "      <td>Pad A, Boca Chica, Texas, USA</td>\n",
       "      <td>Tue Aug 04, 2020 23:57 UTC</td>\n",
       "      <td>Starship Prototype | 150 Meter Hop</td>\n",
       "      <td>StatusActive</td>\n",
       "      <td>NaN</td>\n",
       "      <td>Success</td>\n",
       "    </tr>\n",
       "    <tr>\n",
       "      <th>3</th>\n",
       "      <td>3</td>\n",
       "      <td>3</td>\n",
       "      <td>Roscosmos</td>\n",
       "      <td>Site 200/39, Baikonur Cosmodrome, Kazakhstan</td>\n",
       "      <td>Thu Jul 30, 2020 21:25 UTC</td>\n",
       "      <td>Proton-M/Briz-M | Ekspress-80 &amp; Ekspress-103</td>\n",
       "      <td>StatusActive</td>\n",
       "      <td>65.0</td>\n",
       "      <td>Success</td>\n",
       "    </tr>\n",
       "    <tr>\n",
       "      <th>4</th>\n",
       "      <td>4</td>\n",
       "      <td>4</td>\n",
       "      <td>ULA</td>\n",
       "      <td>SLC-41, Cape Canaveral AFS, Florida, USA</td>\n",
       "      <td>Thu Jul 30, 2020 11:50 UTC</td>\n",
       "      <td>Atlas V 541 | Perseverance</td>\n",
       "      <td>StatusActive</td>\n",
       "      <td>145.0</td>\n",
       "      <td>Success</td>\n",
       "    </tr>\n",
       "  </tbody>\n",
       "</table>\n",
       "</div>"
      ],
      "text/plain": [
       "   Unnamed: 0  Unnamed: 0.1 Company Name  \\\n",
       "0           0             0       SpaceX   \n",
       "1           1             1         CASC   \n",
       "2           2             2       SpaceX   \n",
       "3           3             3    Roscosmos   \n",
       "4           4             4          ULA   \n",
       "\n",
       "                                            Location  \\\n",
       "0         LC-39A, Kennedy Space Center, Florida, USA   \n",
       "1  Site 9401 (SLS-2), Jiuquan Satellite Launch Ce...   \n",
       "2                      Pad A, Boca Chica, Texas, USA   \n",
       "3       Site 200/39, Baikonur Cosmodrome, Kazakhstan   \n",
       "4           SLC-41, Cape Canaveral AFS, Florida, USA   \n",
       "\n",
       "                        Datum                                        Detail  \\\n",
       "0  Fri Aug 07, 2020 05:12 UTC  Falcon 9 Block 5 | Starlink V1 L9 & BlackSky   \n",
       "1  Thu Aug 06, 2020 04:01 UTC           Long March 2D | Gaofen-9 04 & Q-SAT   \n",
       "2  Tue Aug 04, 2020 23:57 UTC            Starship Prototype | 150 Meter Hop   \n",
       "3  Thu Jul 30, 2020 21:25 UTC  Proton-M/Briz-M | Ekspress-80 & Ekspress-103   \n",
       "4  Thu Jul 30, 2020 11:50 UTC                    Atlas V 541 | Perseverance   \n",
       "\n",
       "  Status Rocket  Rocket Status Mission  \n",
       "0  StatusActive   50.0         Success  \n",
       "1  StatusActive  29.75         Success  \n",
       "2  StatusActive     NaN        Success  \n",
       "3  StatusActive   65.0         Success  \n",
       "4  StatusActive  145.0         Success  "
      ]
     },
     "execution_count": 5,
     "metadata": {},
     "output_type": "execute_result"
    }
   ],
   "source": [
    "df0.head()"
   ]
  },
  {
   "cell_type": "code",
   "execution_count": 6,
   "id": "ae14cc3c",
   "metadata": {
    "execution": {
     "iopub.execute_input": "2023-05-14T17:03:06.097373Z",
     "iopub.status.busy": "2023-05-14T17:03:06.096770Z",
     "iopub.status.idle": "2023-05-14T17:03:06.117649Z",
     "shell.execute_reply": "2023-05-14T17:03:06.116612Z"
    },
    "papermill": {
     "duration": 0.038192,
     "end_time": "2023-05-14T17:03:06.119452",
     "exception": false,
     "start_time": "2023-05-14T17:03:06.081260",
     "status": "completed"
    },
    "tags": []
   },
   "outputs": [
    {
     "name": "stdout",
     "output_type": "stream",
     "text": [
      "<class 'pandas.core.frame.DataFrame'>\n",
      "RangeIndex: 4324 entries, 0 to 4323\n",
      "Data columns (total 9 columns):\n",
      " #   Column          Non-Null Count  Dtype \n",
      "---  ------          --------------  ----- \n",
      " 0   Unnamed: 0      4324 non-null   int64 \n",
      " 1   Unnamed: 0.1    4324 non-null   int64 \n",
      " 2   Company Name    4324 non-null   object\n",
      " 3   Location        4324 non-null   object\n",
      " 4   Datum           4324 non-null   object\n",
      " 5   Detail          4324 non-null   object\n",
      " 6   Status Rocket   4324 non-null   object\n",
      " 7    Rocket         964 non-null    object\n",
      " 8   Status Mission  4324 non-null   object\n",
      "dtypes: int64(2), object(7)\n",
      "memory usage: 304.2+ KB\n"
     ]
    }
   ],
   "source": [
    "df0.info()"
   ]
  },
  {
   "cell_type": "markdown",
   "id": "ff12a453",
   "metadata": {
    "papermill": {
     "duration": 0.014248,
     "end_time": "2023-05-14T17:03:06.149048",
     "exception": false,
     "start_time": "2023-05-14T17:03:06.134800",
     "status": "completed"
    },
    "tags": []
   },
   "source": [
    "### Dimensión del datafrane"
   ]
  },
  {
   "cell_type": "code",
   "execution_count": 7,
   "id": "38013421",
   "metadata": {
    "execution": {
     "iopub.execute_input": "2023-05-14T17:03:06.179778Z",
     "iopub.status.busy": "2023-05-14T17:03:06.179137Z",
     "iopub.status.idle": "2023-05-14T17:03:06.184780Z",
     "shell.execute_reply": "2023-05-14T17:03:06.184143Z"
    },
    "papermill": {
     "duration": 0.022921,
     "end_time": "2023-05-14T17:03:06.186545",
     "exception": false,
     "start_time": "2023-05-14T17:03:06.163624",
     "status": "completed"
    },
    "tags": []
   },
   "outputs": [
    {
     "data": {
      "text/plain": [
       "(4324, 9)"
      ]
     },
     "execution_count": 7,
     "metadata": {},
     "output_type": "execute_result"
    }
   ],
   "source": [
    "df0.shape"
   ]
  },
  {
   "cell_type": "markdown",
   "id": "f5743b8c",
   "metadata": {
    "papermill": {
     "duration": 0.014505,
     "end_time": "2023-05-14T17:03:06.215556",
     "exception": false,
     "start_time": "2023-05-14T17:03:06.201051",
     "status": "completed"
    },
    "tags": []
   },
   "source": [
    "# 3. Preprocesamiento"
   ]
  },
  {
   "cell_type": "code",
   "execution_count": 8,
   "id": "226fb8fe",
   "metadata": {
    "execution": {
     "iopub.execute_input": "2023-05-14T17:03:06.246701Z",
     "iopub.status.busy": "2023-05-14T17:03:06.246063Z",
     "iopub.status.idle": "2023-05-14T17:03:06.250485Z",
     "shell.execute_reply": "2023-05-14T17:03:06.249794Z"
    },
    "papermill": {
     "duration": 0.022029,
     "end_time": "2023-05-14T17:03:06.252262",
     "exception": false,
     "start_time": "2023-05-14T17:03:06.230233",
     "status": "completed"
    },
    "tags": []
   },
   "outputs": [],
   "source": [
    "df = df0.copy()"
   ]
  },
  {
   "cell_type": "markdown",
   "id": "8193bb0c",
   "metadata": {
    "papermill": {
     "duration": 0.014163,
     "end_time": "2023-05-14T17:03:06.280905",
     "exception": false,
     "start_time": "2023-05-14T17:03:06.266742",
     "status": "completed"
    },
    "tags": []
   },
   "source": [
    "## 3.1. Feature selection"
   ]
  },
  {
   "cell_type": "code",
   "execution_count": 9,
   "id": "8bae3198",
   "metadata": {
    "execution": {
     "iopub.execute_input": "2023-05-14T17:03:06.311939Z",
     "iopub.status.busy": "2023-05-14T17:03:06.311605Z",
     "iopub.status.idle": "2023-05-14T17:03:06.316816Z",
     "shell.execute_reply": "2023-05-14T17:03:06.316145Z"
    },
    "papermill": {
     "duration": 0.022995,
     "end_time": "2023-05-14T17:03:06.318602",
     "exception": false,
     "start_time": "2023-05-14T17:03:06.295607",
     "status": "completed"
    },
    "tags": []
   },
   "outputs": [],
   "source": [
    "filt = ['Unnamed: 0', 'Unnamed: 0.1']\n",
    "df.drop(filt, axis=1, inplace=True)"
   ]
  },
  {
   "cell_type": "code",
   "execution_count": 10,
   "id": "dcaa9a1f",
   "metadata": {
    "execution": {
     "iopub.execute_input": "2023-05-14T17:03:06.350731Z",
     "iopub.status.busy": "2023-05-14T17:03:06.350208Z",
     "iopub.status.idle": "2023-05-14T17:03:06.361876Z",
     "shell.execute_reply": "2023-05-14T17:03:06.360993Z"
    },
    "papermill": {
     "duration": 0.02986,
     "end_time": "2023-05-14T17:03:06.363741",
     "exception": false,
     "start_time": "2023-05-14T17:03:06.333881",
     "status": "completed"
    },
    "tags": []
   },
   "outputs": [
    {
     "data": {
      "text/html": [
       "<div>\n",
       "<style scoped>\n",
       "    .dataframe tbody tr th:only-of-type {\n",
       "        vertical-align: middle;\n",
       "    }\n",
       "\n",
       "    .dataframe tbody tr th {\n",
       "        vertical-align: top;\n",
       "    }\n",
       "\n",
       "    .dataframe thead th {\n",
       "        text-align: right;\n",
       "    }\n",
       "</style>\n",
       "<table border=\"1\" class=\"dataframe\">\n",
       "  <thead>\n",
       "    <tr style=\"text-align: right;\">\n",
       "      <th></th>\n",
       "      <th>Company Name</th>\n",
       "      <th>Location</th>\n",
       "      <th>Datum</th>\n",
       "      <th>Detail</th>\n",
       "      <th>Status Rocket</th>\n",
       "      <th>Rocket</th>\n",
       "      <th>Status Mission</th>\n",
       "    </tr>\n",
       "  </thead>\n",
       "  <tbody>\n",
       "    <tr>\n",
       "      <th>0</th>\n",
       "      <td>SpaceX</td>\n",
       "      <td>LC-39A, Kennedy Space Center, Florida, USA</td>\n",
       "      <td>Fri Aug 07, 2020 05:12 UTC</td>\n",
       "      <td>Falcon 9 Block 5 | Starlink V1 L9 &amp; BlackSky</td>\n",
       "      <td>StatusActive</td>\n",
       "      <td>50.0</td>\n",
       "      <td>Success</td>\n",
       "    </tr>\n",
       "    <tr>\n",
       "      <th>1</th>\n",
       "      <td>CASC</td>\n",
       "      <td>Site 9401 (SLS-2), Jiuquan Satellite Launch Ce...</td>\n",
       "      <td>Thu Aug 06, 2020 04:01 UTC</td>\n",
       "      <td>Long March 2D | Gaofen-9 04 &amp; Q-SAT</td>\n",
       "      <td>StatusActive</td>\n",
       "      <td>29.75</td>\n",
       "      <td>Success</td>\n",
       "    </tr>\n",
       "    <tr>\n",
       "      <th>2</th>\n",
       "      <td>SpaceX</td>\n",
       "      <td>Pad A, Boca Chica, Texas, USA</td>\n",
       "      <td>Tue Aug 04, 2020 23:57 UTC</td>\n",
       "      <td>Starship Prototype | 150 Meter Hop</td>\n",
       "      <td>StatusActive</td>\n",
       "      <td>NaN</td>\n",
       "      <td>Success</td>\n",
       "    </tr>\n",
       "    <tr>\n",
       "      <th>3</th>\n",
       "      <td>Roscosmos</td>\n",
       "      <td>Site 200/39, Baikonur Cosmodrome, Kazakhstan</td>\n",
       "      <td>Thu Jul 30, 2020 21:25 UTC</td>\n",
       "      <td>Proton-M/Briz-M | Ekspress-80 &amp; Ekspress-103</td>\n",
       "      <td>StatusActive</td>\n",
       "      <td>65.0</td>\n",
       "      <td>Success</td>\n",
       "    </tr>\n",
       "    <tr>\n",
       "      <th>4</th>\n",
       "      <td>ULA</td>\n",
       "      <td>SLC-41, Cape Canaveral AFS, Florida, USA</td>\n",
       "      <td>Thu Jul 30, 2020 11:50 UTC</td>\n",
       "      <td>Atlas V 541 | Perseverance</td>\n",
       "      <td>StatusActive</td>\n",
       "      <td>145.0</td>\n",
       "      <td>Success</td>\n",
       "    </tr>\n",
       "  </tbody>\n",
       "</table>\n",
       "</div>"
      ],
      "text/plain": [
       "  Company Name                                           Location  \\\n",
       "0       SpaceX         LC-39A, Kennedy Space Center, Florida, USA   \n",
       "1         CASC  Site 9401 (SLS-2), Jiuquan Satellite Launch Ce...   \n",
       "2       SpaceX                      Pad A, Boca Chica, Texas, USA   \n",
       "3    Roscosmos       Site 200/39, Baikonur Cosmodrome, Kazakhstan   \n",
       "4          ULA           SLC-41, Cape Canaveral AFS, Florida, USA   \n",
       "\n",
       "                        Datum                                        Detail  \\\n",
       "0  Fri Aug 07, 2020 05:12 UTC  Falcon 9 Block 5 | Starlink V1 L9 & BlackSky   \n",
       "1  Thu Aug 06, 2020 04:01 UTC           Long March 2D | Gaofen-9 04 & Q-SAT   \n",
       "2  Tue Aug 04, 2020 23:57 UTC            Starship Prototype | 150 Meter Hop   \n",
       "3  Thu Jul 30, 2020 21:25 UTC  Proton-M/Briz-M | Ekspress-80 & Ekspress-103   \n",
       "4  Thu Jul 30, 2020 11:50 UTC                    Atlas V 541 | Perseverance   \n",
       "\n",
       "  Status Rocket  Rocket Status Mission  \n",
       "0  StatusActive   50.0         Success  \n",
       "1  StatusActive  29.75         Success  \n",
       "2  StatusActive     NaN        Success  \n",
       "3  StatusActive   65.0         Success  \n",
       "4  StatusActive  145.0         Success  "
      ]
     },
     "execution_count": 10,
     "metadata": {},
     "output_type": "execute_result"
    }
   ],
   "source": [
    "df.head()"
   ]
  },
  {
   "cell_type": "markdown",
   "id": "28ef6116",
   "metadata": {
    "papermill": {
     "duration": 0.01465,
     "end_time": "2023-05-14T17:03:06.394138",
     "exception": false,
     "start_time": "2023-05-14T17:03:06.379488",
     "status": "completed"
    },
    "tags": []
   },
   "source": [
    "## 3.2. Column renaming"
   ]
  },
  {
   "cell_type": "code",
   "execution_count": 11,
   "id": "b6de67dc",
   "metadata": {
    "execution": {
     "iopub.execute_input": "2023-05-14T17:03:06.425075Z",
     "iopub.status.busy": "2023-05-14T17:03:06.424763Z",
     "iopub.status.idle": "2023-05-14T17:03:06.429799Z",
     "shell.execute_reply": "2023-05-14T17:03:06.428963Z"
    },
    "papermill": {
     "duration": 0.02254,
     "end_time": "2023-05-14T17:03:06.431542",
     "exception": false,
     "start_time": "2023-05-14T17:03:06.409002",
     "status": "completed"
    },
    "tags": []
   },
   "outputs": [],
   "source": [
    "df.rename(columns={'Company Name':'company',\n",
    "                   'Location':'launch_facility',\n",
    "                   'Datum':'date',\n",
    "                   'Detail':'detail',\n",
    "                   'Status Rocket':'rocket_status',\n",
    "                   ' Rocket':'cost',\n",
    "                   'Status Mission':'mission_status'},\n",
    "          inplace=True)"
   ]
  },
  {
   "cell_type": "markdown",
   "id": "b3077fca",
   "metadata": {
    "papermill": {
     "duration": 0.014314,
     "end_time": "2023-05-14T17:03:06.460719",
     "exception": false,
     "start_time": "2023-05-14T17:03:06.446405",
     "status": "completed"
    },
    "tags": []
   },
   "source": [
    "## 3.3. Data filtering"
   ]
  },
  {
   "cell_type": "markdown",
   "id": "c2b73821",
   "metadata": {
    "papermill": {
     "duration": 0.014505,
     "end_time": "2023-05-14T17:03:06.490677",
     "exception": false,
     "start_time": "2023-05-14T17:03:06.476172",
     "status": "completed"
    },
    "tags": []
   },
   "source": [
    "-"
   ]
  },
  {
   "cell_type": "markdown",
   "id": "e88cc981",
   "metadata": {
    "papermill": {
     "duration": 0.014344,
     "end_time": "2023-05-14T17:03:06.519681",
     "exception": false,
     "start_time": "2023-05-14T17:03:06.505337",
     "status": "completed"
    },
    "tags": []
   },
   "source": [
    "## 3.4. Feature conversion"
   ]
  },
  {
   "cell_type": "markdown",
   "id": "56d2b28d",
   "metadata": {
    "papermill": {
     "duration": 0.014392,
     "end_time": "2023-05-14T17:03:06.548672",
     "exception": false,
     "start_time": "2023-05-14T17:03:06.534280",
     "status": "completed"
    },
    "tags": []
   },
   "source": [
    "### 3.4.1. Fecha"
   ]
  },
  {
   "cell_type": "markdown",
   "id": "a98fbdd0",
   "metadata": {
    "papermill": {
     "duration": 0.015616,
     "end_time": "2023-05-14T17:03:06.579000",
     "exception": false,
     "start_time": "2023-05-14T17:03:06.563384",
     "status": "completed"
    },
    "tags": []
   },
   "source": [
    "Eliminar los caracteres ' UTC' de los registros de fecha"
   ]
  },
  {
   "cell_type": "code",
   "execution_count": 12,
   "id": "27111cf2",
   "metadata": {
    "execution": {
     "iopub.execute_input": "2023-05-14T17:03:06.610289Z",
     "iopub.status.busy": "2023-05-14T17:03:06.609925Z",
     "iopub.status.idle": "2023-05-14T17:03:06.618556Z",
     "shell.execute_reply": "2023-05-14T17:03:06.617656Z"
    },
    "papermill": {
     "duration": 0.026613,
     "end_time": "2023-05-14T17:03:06.620567",
     "exception": false,
     "start_time": "2023-05-14T17:03:06.593954",
     "status": "completed"
    },
    "tags": []
   },
   "outputs": [],
   "source": [
    "df['date'] = df['date'].str.replace(' UTC', '')"
   ]
  },
  {
   "cell_type": "markdown",
   "id": "d21e7649",
   "metadata": {
    "papermill": {
     "duration": 0.015139,
     "end_time": "2023-05-14T17:03:06.651153",
     "exception": false,
     "start_time": "2023-05-14T17:03:06.636014",
     "status": "completed"
    },
    "tags": []
   },
   "source": [
    "Debido a que hay formatos combinados en los registros de fecha se crea una función para poder convertirlos a tipo `datetime`"
   ]
  },
  {
   "cell_type": "code",
   "execution_count": 13,
   "id": "ad970a83",
   "metadata": {
    "execution": {
     "iopub.execute_input": "2023-05-14T17:03:06.682897Z",
     "iopub.status.busy": "2023-05-14T17:03:06.682524Z",
     "iopub.status.idle": "2023-05-14T17:03:06.687634Z",
     "shell.execute_reply": "2023-05-14T17:03:06.686346Z"
    },
    "papermill": {
     "duration": 0.023345,
     "end_time": "2023-05-14T17:03:06.689654",
     "exception": false,
     "start_time": "2023-05-14T17:03:06.666309",
     "status": "completed"
    },
    "tags": []
   },
   "outputs": [],
   "source": [
    "def date_formator(date):\n",
    "    if ':' in date:\n",
    "        return pd.to_datetime(date, format='%a %b %d, %Y %H:%M')\n",
    "    else:\n",
    "        return pd.to_datetime(date, format='%a %b %d, %Y')"
   ]
  },
  {
   "cell_type": "markdown",
   "id": "02134781",
   "metadata": {
    "papermill": {
     "duration": 0.014399,
     "end_time": "2023-05-14T17:03:06.719265",
     "exception": false,
     "start_time": "2023-05-14T17:03:06.704866",
     "status": "completed"
    },
    "tags": []
   },
   "source": [
    "Convertir columna `date` a tipo datetime"
   ]
  },
  {
   "cell_type": "code",
   "execution_count": 14,
   "id": "8dc0a15f",
   "metadata": {
    "execution": {
     "iopub.execute_input": "2023-05-14T17:03:06.750193Z",
     "iopub.status.busy": "2023-05-14T17:03:06.749863Z",
     "iopub.status.idle": "2023-05-14T17:03:07.226281Z",
     "shell.execute_reply": "2023-05-14T17:03:07.225295Z"
    },
    "papermill": {
     "duration": 0.494471,
     "end_time": "2023-05-14T17:03:07.228510",
     "exception": false,
     "start_time": "2023-05-14T17:03:06.734039",
     "status": "completed"
    },
    "tags": []
   },
   "outputs": [],
   "source": [
    "df['date'] = df['date'].apply(date_formator)"
   ]
  },
  {
   "cell_type": "markdown",
   "id": "0d7fa9cd",
   "metadata": {
    "papermill": {
     "duration": 0.015327,
     "end_time": "2023-05-14T17:03:07.259815",
     "exception": false,
     "start_time": "2023-05-14T17:03:07.244488",
     "status": "completed"
    },
    "tags": []
   },
   "source": [
    "### 3.4.2. Costo"
   ]
  },
  {
   "cell_type": "markdown",
   "id": "66183437",
   "metadata": {
    "papermill": {
     "duration": 0.014457,
     "end_time": "2023-05-14T17:03:07.289425",
     "exception": false,
     "start_time": "2023-05-14T17:03:07.274968",
     "status": "completed"
    },
    "tags": []
   },
   "source": [
    "Convertir los registros de costo a tipo `float`. Para evitar inconvenientes en la conversión se elimina el caracter `,` que representa los millares en el costo."
   ]
  },
  {
   "cell_type": "code",
   "execution_count": 15,
   "id": "71f49adc",
   "metadata": {
    "execution": {
     "iopub.execute_input": "2023-05-14T17:03:07.320318Z",
     "iopub.status.busy": "2023-05-14T17:03:07.319949Z",
     "iopub.status.idle": "2023-05-14T17:03:07.326567Z",
     "shell.execute_reply": "2023-05-14T17:03:07.325921Z"
    },
    "papermill": {
     "duration": 0.024343,
     "end_time": "2023-05-14T17:03:07.328390",
     "exception": false,
     "start_time": "2023-05-14T17:03:07.304047",
     "status": "completed"
    },
    "tags": []
   },
   "outputs": [],
   "source": [
    "df['cost'] = df['cost'].str.replace(',', '')\n",
    "df['cost'] = df['cost'].astype(float)"
   ]
  },
  {
   "cell_type": "markdown",
   "id": "ddd31ca7",
   "metadata": {
    "papermill": {
     "duration": 0.014865,
     "end_time": "2023-05-14T17:03:07.359267",
     "exception": false,
     "start_time": "2023-05-14T17:03:07.344402",
     "status": "completed"
    },
    "tags": []
   },
   "source": [
    "## 3.5. Feature construction"
   ]
  },
  {
   "cell_type": "markdown",
   "id": "d626bd99",
   "metadata": {
    "papermill": {
     "duration": 0.014503,
     "end_time": "2023-05-14T17:03:07.388527",
     "exception": false,
     "start_time": "2023-05-14T17:03:07.374024",
     "status": "completed"
    },
    "tags": []
   },
   "source": [
    "### 3.5.1. Año y mes"
   ]
  },
  {
   "cell_type": "markdown",
   "id": "64305a6d",
   "metadata": {
    "papermill": {
     "duration": 0.014377,
     "end_time": "2023-05-14T17:03:07.417676",
     "exception": false,
     "start_time": "2023-05-14T17:03:07.403299",
     "status": "completed"
    },
    "tags": []
   },
   "source": [
    "Crear columna de año y mes"
   ]
  },
  {
   "cell_type": "code",
   "execution_count": 16,
   "id": "aafe8999",
   "metadata": {
    "execution": {
     "iopub.execute_input": "2023-05-14T17:03:07.450101Z",
     "iopub.status.busy": "2023-05-14T17:03:07.449750Z",
     "iopub.status.idle": "2023-05-14T17:03:07.456275Z",
     "shell.execute_reply": "2023-05-14T17:03:07.455301Z"
    },
    "papermill": {
     "duration": 0.025336,
     "end_time": "2023-05-14T17:03:07.458385",
     "exception": false,
     "start_time": "2023-05-14T17:03:07.433049",
     "status": "completed"
    },
    "tags": []
   },
   "outputs": [],
   "source": [
    "df['year'] = df['date'].dt.year\n",
    "df['month'] = df['date'].dt.month"
   ]
  },
  {
   "cell_type": "markdown",
   "id": "850aa511",
   "metadata": {
    "papermill": {
     "duration": 0.01505,
     "end_time": "2023-05-14T17:03:07.488748",
     "exception": false,
     "start_time": "2023-05-14T17:03:07.473698",
     "status": "completed"
    },
    "tags": []
   },
   "source": [
    "### 3.5.2. Ubicación lanzamiento"
   ]
  },
  {
   "cell_type": "markdown",
   "id": "0c97466a",
   "metadata": {
    "papermill": {
     "duration": 0.014306,
     "end_time": "2023-05-14T17:03:07.517571",
     "exception": false,
     "start_time": "2023-05-14T17:03:07.503265",
     "status": "completed"
    },
    "tags": []
   },
   "source": [
    "Crear columna con la ubicación del lanzamiento, a partir del centro de lanzamiento"
   ]
  },
  {
   "cell_type": "code",
   "execution_count": 17,
   "id": "3a29fe3e",
   "metadata": {
    "execution": {
     "iopub.execute_input": "2023-05-14T17:03:07.548994Z",
     "iopub.status.busy": "2023-05-14T17:03:07.548149Z",
     "iopub.status.idle": "2023-05-14T17:03:07.559708Z",
     "shell.execute_reply": "2023-05-14T17:03:07.558886Z"
    },
    "papermill": {
     "duration": 0.02944,
     "end_time": "2023-05-14T17:03:07.561595",
     "exception": false,
     "start_time": "2023-05-14T17:03:07.532155",
     "status": "completed"
    },
    "tags": []
   },
   "outputs": [],
   "source": [
    "df['launch_location'] = df['launch_facility'].str.split(', ').str[-1]"
   ]
  },
  {
   "cell_type": "markdown",
   "id": "2cf4b629",
   "metadata": {
    "papermill": {
     "duration": 0.014405,
     "end_time": "2023-05-14T17:03:07.591468",
     "exception": false,
     "start_time": "2023-05-14T17:03:07.577063",
     "status": "completed"
    },
    "tags": []
   },
   "source": [
    "### 3.5.3. Cohete y payload"
   ]
  },
  {
   "cell_type": "markdown",
   "id": "319fea8d",
   "metadata": {
    "papermill": {
     "duration": 0.014317,
     "end_time": "2023-05-14T17:03:07.620141",
     "exception": false,
     "start_time": "2023-05-14T17:03:07.605824",
     "status": "completed"
    },
    "tags": []
   },
   "source": [
    "Dividir la columna `detail` en dos. Una para el nombre del cohete `rocket` y otra para la carga `payload` que lleva."
   ]
  },
  {
   "cell_type": "code",
   "execution_count": 18,
   "id": "a910d333",
   "metadata": {
    "execution": {
     "iopub.execute_input": "2023-05-14T17:03:07.650548Z",
     "iopub.status.busy": "2023-05-14T17:03:07.650206Z",
     "iopub.status.idle": "2023-05-14T17:03:07.665281Z",
     "shell.execute_reply": "2023-05-14T17:03:07.664294Z"
    },
    "papermill": {
     "duration": 0.032974,
     "end_time": "2023-05-14T17:03:07.667550",
     "exception": false,
     "start_time": "2023-05-14T17:03:07.634576",
     "status": "completed"
    },
    "tags": []
   },
   "outputs": [],
   "source": [
    "df[['rocket', 'payload']] = df['detail'].str.split('|', expand=True)\n",
    "df.drop('detail', axis=1, inplace=True)"
   ]
  },
  {
   "cell_type": "markdown",
   "id": "3cb8d260",
   "metadata": {
    "papermill": {
     "duration": 0.014599,
     "end_time": "2023-05-14T17:03:07.697467",
     "exception": false,
     "start_time": "2023-05-14T17:03:07.682868",
     "status": "completed"
    },
    "tags": []
   },
   "source": [
    "## 3.6. Value renaming"
   ]
  },
  {
   "cell_type": "markdown",
   "id": "1974680f",
   "metadata": {
    "papermill": {
     "duration": 0.014491,
     "end_time": "2023-05-14T17:03:07.726789",
     "exception": false,
     "start_time": "2023-05-14T17:03:07.712298",
     "status": "completed"
    },
    "tags": []
   },
   "source": [
    "Renombrar los sitios de lanzamiento, a su ubicación en el respectivos País"
   ]
  },
  {
   "cell_type": "code",
   "execution_count": 19,
   "id": "dd5570cb",
   "metadata": {
    "execution": {
     "iopub.execute_input": "2023-05-14T17:03:07.758180Z",
     "iopub.status.busy": "2023-05-14T17:03:07.757844Z",
     "iopub.status.idle": "2023-05-14T17:03:07.765417Z",
     "shell.execute_reply": "2023-05-14T17:03:07.764525Z"
    },
    "papermill": {
     "duration": 0.025564,
     "end_time": "2023-05-14T17:03:07.767207",
     "exception": false,
     "start_time": "2023-05-14T17:03:07.741643",
     "status": "completed"
    },
    "tags": []
   },
   "outputs": [],
   "source": [
    "countries_dict = {\n",
    "    'New Mexico' : 'USA',\n",
    "    \"Yellow Sea\": 'China',\n",
    "    \"Shahrud Missile Test Site\": \"Iran\",\n",
    "    \"Pacific Missile Range Facility\": 'USA',\n",
    "    \"Barents Sea\": 'Russia',\n",
    "    \"Gran Canaria\": 'USA'\n",
    "}\n",
    "\n",
    "df['launch_location'] = df['launch_location'].replace(countries_dict)"
   ]
  },
  {
   "cell_type": "markdown",
   "id": "08e54fa1",
   "metadata": {
    "papermill": {
     "duration": 0.014588,
     "end_time": "2023-05-14T17:03:07.796976",
     "exception": false,
     "start_time": "2023-05-14T17:03:07.782388",
     "status": "completed"
    },
    "tags": []
   },
   "source": [
    "## 3.7. Data reordering"
   ]
  },
  {
   "cell_type": "code",
   "execution_count": 20,
   "id": "2216cede",
   "metadata": {
    "execution": {
     "iopub.execute_input": "2023-05-14T17:03:07.829412Z",
     "iopub.status.busy": "2023-05-14T17:03:07.829052Z",
     "iopub.status.idle": "2023-05-14T17:03:07.835912Z",
     "shell.execute_reply": "2023-05-14T17:03:07.834911Z"
    },
    "papermill": {
     "duration": 0.026075,
     "end_time": "2023-05-14T17:03:07.838744",
     "exception": false,
     "start_time": "2023-05-14T17:03:07.812669",
     "status": "completed"
    },
    "tags": []
   },
   "outputs": [],
   "source": [
    "df = df.sort_values('date')\n",
    "df = df.reset_index(drop=True)"
   ]
  },
  {
   "cell_type": "markdown",
   "id": "ed233580",
   "metadata": {
    "papermill": {
     "duration": 0.015416,
     "end_time": "2023-05-14T17:03:07.870536",
     "exception": false,
     "start_time": "2023-05-14T17:03:07.855120",
     "status": "completed"
    },
    "tags": []
   },
   "source": [
    "## 3.8. Dataframe preprocesado"
   ]
  },
  {
   "cell_type": "code",
   "execution_count": 21,
   "id": "5b9a371e",
   "metadata": {
    "execution": {
     "iopub.execute_input": "2023-05-14T17:03:07.903332Z",
     "iopub.status.busy": "2023-05-14T17:03:07.902640Z",
     "iopub.status.idle": "2023-05-14T17:03:07.916478Z",
     "shell.execute_reply": "2023-05-14T17:03:07.915490Z"
    },
    "papermill": {
     "duration": 0.032745,
     "end_time": "2023-05-14T17:03:07.918301",
     "exception": false,
     "start_time": "2023-05-14T17:03:07.885556",
     "status": "completed"
    },
    "tags": []
   },
   "outputs": [
    {
     "data": {
      "text/html": [
       "<div>\n",
       "<style scoped>\n",
       "    .dataframe tbody tr th:only-of-type {\n",
       "        vertical-align: middle;\n",
       "    }\n",
       "\n",
       "    .dataframe tbody tr th {\n",
       "        vertical-align: top;\n",
       "    }\n",
       "\n",
       "    .dataframe thead th {\n",
       "        text-align: right;\n",
       "    }\n",
       "</style>\n",
       "<table border=\"1\" class=\"dataframe\">\n",
       "  <thead>\n",
       "    <tr style=\"text-align: right;\">\n",
       "      <th></th>\n",
       "      <th>company</th>\n",
       "      <th>launch_facility</th>\n",
       "      <th>date</th>\n",
       "      <th>rocket_status</th>\n",
       "      <th>cost</th>\n",
       "      <th>mission_status</th>\n",
       "      <th>year</th>\n",
       "      <th>month</th>\n",
       "      <th>launch_location</th>\n",
       "      <th>rocket</th>\n",
       "      <th>payload</th>\n",
       "    </tr>\n",
       "  </thead>\n",
       "  <tbody>\n",
       "    <tr>\n",
       "      <th>0</th>\n",
       "      <td>RVSN USSR</td>\n",
       "      <td>Site 1/5, Baikonur Cosmodrome, Kazakhstan</td>\n",
       "      <td>1957-10-04 19:28:00</td>\n",
       "      <td>StatusRetired</td>\n",
       "      <td>NaN</td>\n",
       "      <td>Success</td>\n",
       "      <td>1957</td>\n",
       "      <td>10</td>\n",
       "      <td>Kazakhstan</td>\n",
       "      <td>Sputnik 8K71PS</td>\n",
       "      <td>Sputnik-1</td>\n",
       "    </tr>\n",
       "    <tr>\n",
       "      <th>1</th>\n",
       "      <td>RVSN USSR</td>\n",
       "      <td>Site 1/5, Baikonur Cosmodrome, Kazakhstan</td>\n",
       "      <td>1957-11-03 02:30:00</td>\n",
       "      <td>StatusRetired</td>\n",
       "      <td>NaN</td>\n",
       "      <td>Success</td>\n",
       "      <td>1957</td>\n",
       "      <td>11</td>\n",
       "      <td>Kazakhstan</td>\n",
       "      <td>Sputnik 8K71PS</td>\n",
       "      <td>Sputnik-2</td>\n",
       "    </tr>\n",
       "    <tr>\n",
       "      <th>2</th>\n",
       "      <td>US Navy</td>\n",
       "      <td>LC-18A, Cape Canaveral AFS, Florida, USA</td>\n",
       "      <td>1957-12-06 16:44:00</td>\n",
       "      <td>StatusRetired</td>\n",
       "      <td>NaN</td>\n",
       "      <td>Failure</td>\n",
       "      <td>1957</td>\n",
       "      <td>12</td>\n",
       "      <td>USA</td>\n",
       "      <td>Vanguard</td>\n",
       "      <td>Vanguard TV3</td>\n",
       "    </tr>\n",
       "  </tbody>\n",
       "</table>\n",
       "</div>"
      ],
      "text/plain": [
       "     company                            launch_facility                date  \\\n",
       "0  RVSN USSR  Site 1/5, Baikonur Cosmodrome, Kazakhstan 1957-10-04 19:28:00   \n",
       "1  RVSN USSR  Site 1/5, Baikonur Cosmodrome, Kazakhstan 1957-11-03 02:30:00   \n",
       "2    US Navy   LC-18A, Cape Canaveral AFS, Florida, USA 1957-12-06 16:44:00   \n",
       "\n",
       "   rocket_status  cost mission_status  year  month launch_location  \\\n",
       "0  StatusRetired   NaN        Success  1957     10      Kazakhstan   \n",
       "1  StatusRetired   NaN        Success  1957     11      Kazakhstan   \n",
       "2  StatusRetired   NaN        Failure  1957     12             USA   \n",
       "\n",
       "            rocket        payload  \n",
       "0  Sputnik 8K71PS       Sputnik-1  \n",
       "1  Sputnik 8K71PS       Sputnik-2  \n",
       "2        Vanguard    Vanguard TV3  "
      ]
     },
     "execution_count": 21,
     "metadata": {},
     "output_type": "execute_result"
    }
   ],
   "source": [
    "df.head(3)"
   ]
  },
  {
   "cell_type": "code",
   "execution_count": 22,
   "id": "8c3144f8",
   "metadata": {
    "execution": {
     "iopub.execute_input": "2023-05-14T17:03:07.950266Z",
     "iopub.status.busy": "2023-05-14T17:03:07.949946Z",
     "iopub.status.idle": "2023-05-14T17:03:07.963103Z",
     "shell.execute_reply": "2023-05-14T17:03:07.962122Z"
    },
    "papermill": {
     "duration": 0.031076,
     "end_time": "2023-05-14T17:03:07.964811",
     "exception": false,
     "start_time": "2023-05-14T17:03:07.933735",
     "status": "completed"
    },
    "tags": []
   },
   "outputs": [
    {
     "data": {
      "text/html": [
       "<div>\n",
       "<style scoped>\n",
       "    .dataframe tbody tr th:only-of-type {\n",
       "        vertical-align: middle;\n",
       "    }\n",
       "\n",
       "    .dataframe tbody tr th {\n",
       "        vertical-align: top;\n",
       "    }\n",
       "\n",
       "    .dataframe thead th {\n",
       "        text-align: right;\n",
       "    }\n",
       "</style>\n",
       "<table border=\"1\" class=\"dataframe\">\n",
       "  <thead>\n",
       "    <tr style=\"text-align: right;\">\n",
       "      <th></th>\n",
       "      <th>company</th>\n",
       "      <th>launch_facility</th>\n",
       "      <th>date</th>\n",
       "      <th>rocket_status</th>\n",
       "      <th>cost</th>\n",
       "      <th>mission_status</th>\n",
       "      <th>year</th>\n",
       "      <th>month</th>\n",
       "      <th>launch_location</th>\n",
       "      <th>rocket</th>\n",
       "      <th>payload</th>\n",
       "    </tr>\n",
       "  </thead>\n",
       "  <tbody>\n",
       "    <tr>\n",
       "      <th>4321</th>\n",
       "      <td>SpaceX</td>\n",
       "      <td>Pad A, Boca Chica, Texas, USA</td>\n",
       "      <td>2020-08-04 23:57:00</td>\n",
       "      <td>StatusActive</td>\n",
       "      <td>NaN</td>\n",
       "      <td>Success</td>\n",
       "      <td>2020</td>\n",
       "      <td>8</td>\n",
       "      <td>USA</td>\n",
       "      <td>Starship Prototype</td>\n",
       "      <td>150 Meter Hop</td>\n",
       "    </tr>\n",
       "    <tr>\n",
       "      <th>4322</th>\n",
       "      <td>CASC</td>\n",
       "      <td>Site 9401 (SLS-2), Jiuquan Satellite Launch Ce...</td>\n",
       "      <td>2020-08-06 04:01:00</td>\n",
       "      <td>StatusActive</td>\n",
       "      <td>29.75</td>\n",
       "      <td>Success</td>\n",
       "      <td>2020</td>\n",
       "      <td>8</td>\n",
       "      <td>China</td>\n",
       "      <td>Long March 2D</td>\n",
       "      <td>Gaofen-9 04 &amp; Q-SAT</td>\n",
       "    </tr>\n",
       "    <tr>\n",
       "      <th>4323</th>\n",
       "      <td>SpaceX</td>\n",
       "      <td>LC-39A, Kennedy Space Center, Florida, USA</td>\n",
       "      <td>2020-08-07 05:12:00</td>\n",
       "      <td>StatusActive</td>\n",
       "      <td>50.00</td>\n",
       "      <td>Success</td>\n",
       "      <td>2020</td>\n",
       "      <td>8</td>\n",
       "      <td>USA</td>\n",
       "      <td>Falcon 9 Block 5</td>\n",
       "      <td>Starlink V1 L9 &amp; BlackSky</td>\n",
       "    </tr>\n",
       "  </tbody>\n",
       "</table>\n",
       "</div>"
      ],
      "text/plain": [
       "     company                                    launch_facility  \\\n",
       "4321  SpaceX                      Pad A, Boca Chica, Texas, USA   \n",
       "4322    CASC  Site 9401 (SLS-2), Jiuquan Satellite Launch Ce...   \n",
       "4323  SpaceX         LC-39A, Kennedy Space Center, Florida, USA   \n",
       "\n",
       "                    date rocket_status   cost mission_status  year  month  \\\n",
       "4321 2020-08-04 23:57:00  StatusActive    NaN        Success  2020      8   \n",
       "4322 2020-08-06 04:01:00  StatusActive  29.75        Success  2020      8   \n",
       "4323 2020-08-07 05:12:00  StatusActive  50.00        Success  2020      8   \n",
       "\n",
       "     launch_location               rocket                     payload  \n",
       "4321             USA  Starship Prototype                150 Meter Hop  \n",
       "4322           China       Long March 2D          Gaofen-9 04 & Q-SAT  \n",
       "4323             USA    Falcon 9 Block 5    Starlink V1 L9 & BlackSky  "
      ]
     },
     "execution_count": 22,
     "metadata": {},
     "output_type": "execute_result"
    }
   ],
   "source": [
    "df.tail(3)"
   ]
  },
  {
   "cell_type": "code",
   "execution_count": 23,
   "id": "773b2715",
   "metadata": {
    "execution": {
     "iopub.execute_input": "2023-05-14T17:03:07.997256Z",
     "iopub.status.busy": "2023-05-14T17:03:07.996892Z",
     "iopub.status.idle": "2023-05-14T17:03:08.003105Z",
     "shell.execute_reply": "2023-05-14T17:03:08.002217Z"
    },
    "papermill": {
     "duration": 0.025062,
     "end_time": "2023-05-14T17:03:08.005467",
     "exception": false,
     "start_time": "2023-05-14T17:03:07.980405",
     "status": "completed"
    },
    "tags": []
   },
   "outputs": [
    {
     "data": {
      "text/plain": [
       "(4324, 11)"
      ]
     },
     "execution_count": 23,
     "metadata": {},
     "output_type": "execute_result"
    }
   ],
   "source": [
    "df.shape"
   ]
  },
  {
   "cell_type": "code",
   "execution_count": 24,
   "id": "0735d8b0",
   "metadata": {
    "execution": {
     "iopub.execute_input": "2023-05-14T17:03:08.039185Z",
     "iopub.status.busy": "2023-05-14T17:03:08.038800Z",
     "iopub.status.idle": "2023-05-14T17:03:08.055023Z",
     "shell.execute_reply": "2023-05-14T17:03:08.053821Z"
    },
    "papermill": {
     "duration": 0.035236,
     "end_time": "2023-05-14T17:03:08.057448",
     "exception": false,
     "start_time": "2023-05-14T17:03:08.022212",
     "status": "completed"
    },
    "tags": []
   },
   "outputs": [
    {
     "name": "stdout",
     "output_type": "stream",
     "text": [
      "<class 'pandas.core.frame.DataFrame'>\n",
      "RangeIndex: 4324 entries, 0 to 4323\n",
      "Data columns (total 11 columns):\n",
      " #   Column           Non-Null Count  Dtype         \n",
      "---  ------           --------------  -----         \n",
      " 0   company          4324 non-null   object        \n",
      " 1   launch_facility  4324 non-null   object        \n",
      " 2   date             4324 non-null   datetime64[ns]\n",
      " 3   rocket_status    4324 non-null   object        \n",
      " 4   cost             964 non-null    float64       \n",
      " 5   mission_status   4324 non-null   object        \n",
      " 6   year             4324 non-null   int64         \n",
      " 7   month            4324 non-null   int64         \n",
      " 8   launch_location  4324 non-null   object        \n",
      " 9   rocket           4324 non-null   object        \n",
      " 10  payload          4324 non-null   object        \n",
      "dtypes: datetime64[ns](1), float64(1), int64(2), object(7)\n",
      "memory usage: 371.7+ KB\n"
     ]
    }
   ],
   "source": [
    "df.info()"
   ]
  },
  {
   "cell_type": "markdown",
   "id": "ddd8707c",
   "metadata": {
    "papermill": {
     "duration": 0.01525,
     "end_time": "2023-05-14T17:03:08.088861",
     "exception": false,
     "start_time": "2023-05-14T17:03:08.073611",
     "status": "completed"
    },
    "tags": []
   },
   "source": [
    "Comprobación de valores faltantes"
   ]
  },
  {
   "cell_type": "code",
   "execution_count": 25,
   "id": "d6cdb3f8",
   "metadata": {
    "execution": {
     "iopub.execute_input": "2023-05-14T17:03:08.121490Z",
     "iopub.status.busy": "2023-05-14T17:03:08.120522Z",
     "iopub.status.idle": "2023-05-14T17:03:08.130598Z",
     "shell.execute_reply": "2023-05-14T17:03:08.129903Z"
    },
    "papermill": {
     "duration": 0.028137,
     "end_time": "2023-05-14T17:03:08.132242",
     "exception": false,
     "start_time": "2023-05-14T17:03:08.104105",
     "status": "completed"
    },
    "tags": []
   },
   "outputs": [
    {
     "data": {
      "text/plain": [
       "company               0\n",
       "launch_facility       0\n",
       "date                  0\n",
       "rocket_status         0\n",
       "cost               3360\n",
       "mission_status        0\n",
       "year                  0\n",
       "month                 0\n",
       "launch_location       0\n",
       "rocket                0\n",
       "payload               0\n",
       "dtype: int64"
      ]
     },
     "execution_count": 25,
     "metadata": {},
     "output_type": "execute_result"
    }
   ],
   "source": [
    "df.isnull().sum(axis=0)"
   ]
  },
  {
   "cell_type": "code",
   "execution_count": 26,
   "id": "5d8060fa",
   "metadata": {
    "execution": {
     "iopub.execute_input": "2023-05-14T17:03:08.164695Z",
     "iopub.status.busy": "2023-05-14T17:03:08.164378Z",
     "iopub.status.idle": "2023-05-14T17:03:08.171179Z",
     "shell.execute_reply": "2023-05-14T17:03:08.170184Z"
    },
    "papermill": {
     "duration": 0.025184,
     "end_time": "2023-05-14T17:03:08.172929",
     "exception": false,
     "start_time": "2023-05-14T17:03:08.147745",
     "status": "completed"
    },
    "tags": []
   },
   "outputs": [
    {
     "data": {
      "text/plain": [
       "array(['RVSN USSR', 'US Navy', 'AMBA', 'US Air Force', 'NASA',\n",
       "       'General Dynamics', 'Martin Marietta', \"Arm??e de l'Air\", 'UT',\n",
       "       'ASI', 'OKB-586', 'CECLES', 'Yuzhmash', 'CASC', 'CNES',\n",
       "       'Roscosmos', 'ISAS', 'RAE', 'MHI', 'ISRO', 'ESA', 'Arianespace',\n",
       "       'IAI', 'Boeing', 'Douglas', 'Northrop', 'Lockheed', 'VKS RF',\n",
       "       'MITT', 'ILS', 'EER', 'AEB', 'SRC', 'KCST', 'Sea Launch',\n",
       "       'Kosmotras', 'Eurockot', 'CASIC', 'Starsem', 'SpaceX', 'ULA',\n",
       "       'Land Launch', 'ISA', 'KARI', 'JAXA', 'Khrunichev', 'Blue Origin',\n",
       "       'Sandia', 'ExPace', 'Rocket Lab', 'Exos', 'Landspace', 'OneSpace',\n",
       "       'i-Space', 'IRGC', 'Virgin Orbit'], dtype=object)"
      ]
     },
     "execution_count": 26,
     "metadata": {},
     "output_type": "execute_result"
    }
   ],
   "source": [
    "df['company'].unique()"
   ]
  },
  {
   "cell_type": "code",
   "execution_count": 27,
   "id": "f537c217",
   "metadata": {
    "execution": {
     "iopub.execute_input": "2023-05-14T17:03:08.206121Z",
     "iopub.status.busy": "2023-05-14T17:03:08.205813Z",
     "iopub.status.idle": "2023-05-14T17:03:08.212629Z",
     "shell.execute_reply": "2023-05-14T17:03:08.211408Z"
    },
    "papermill": {
     "duration": 0.025395,
     "end_time": "2023-05-14T17:03:08.214430",
     "exception": false,
     "start_time": "2023-05-14T17:03:08.189035",
     "status": "completed"
    },
    "tags": []
   },
   "outputs": [
    {
     "data": {
      "text/plain": [
       "array(['Kazakhstan', 'USA', 'Russia', 'France', 'Japan', 'Kenya',\n",
       "       'Australia', 'China', 'India', 'Israel', 'Brazil', 'North Korea',\n",
       "       'Pacific Ocean', 'Iran', 'South Korea', 'New Zealand'],\n",
       "      dtype=object)"
      ]
     },
     "execution_count": 27,
     "metadata": {},
     "output_type": "execute_result"
    }
   ],
   "source": [
    "df['launch_location'].unique()"
   ]
  },
  {
   "cell_type": "markdown",
   "id": "ba258481",
   "metadata": {
    "papermill": {
     "duration": 0.015696,
     "end_time": "2023-05-14T17:03:08.246014",
     "exception": false,
     "start_time": "2023-05-14T17:03:08.230318",
     "status": "completed"
    },
    "tags": []
   },
   "source": [
    "# 4. Análisis de cohetes"
   ]
  },
  {
   "cell_type": "code",
   "execution_count": 28,
   "id": "0f85ebc2",
   "metadata": {
    "_kg_hide-input": true,
    "execution": {
     "iopub.execute_input": "2023-05-14T17:03:08.278682Z",
     "iopub.status.busy": "2023-05-14T17:03:08.278343Z",
     "iopub.status.idle": "2023-05-14T17:03:08.288947Z",
     "shell.execute_reply": "2023-05-14T17:03:08.288031Z"
    },
    "jupyter": {
     "source_hidden": true
    },
    "papermill": {
     "duration": 0.029169,
     "end_time": "2023-05-14T17:03:08.290768",
     "exception": false,
     "start_time": "2023-05-14T17:03:08.261599",
     "status": "completed"
    },
    "tags": []
   },
   "outputs": [
    {
     "data": {
      "text/html": [
       "<div>\n",
       "<style scoped>\n",
       "    .dataframe tbody tr th:only-of-type {\n",
       "        vertical-align: middle;\n",
       "    }\n",
       "\n",
       "    .dataframe tbody tr th {\n",
       "        vertical-align: top;\n",
       "    }\n",
       "\n",
       "    .dataframe thead th {\n",
       "        text-align: right;\n",
       "    }\n",
       "</style>\n",
       "<table border=\"1\" class=\"dataframe\">\n",
       "  <thead>\n",
       "    <tr style=\"text-align: right;\">\n",
       "      <th></th>\n",
       "      <th>rocket_status</th>\n",
       "      <th>conteo</th>\n",
       "    </tr>\n",
       "  </thead>\n",
       "  <tbody>\n",
       "    <tr>\n",
       "      <th>0</th>\n",
       "      <td>StatusActive</td>\n",
       "      <td>790</td>\n",
       "    </tr>\n",
       "    <tr>\n",
       "      <th>1</th>\n",
       "      <td>StatusRetired</td>\n",
       "      <td>3534</td>\n",
       "    </tr>\n",
       "  </tbody>\n",
       "</table>\n",
       "</div>"
      ],
      "text/plain": [
       "   rocket_status  conteo\n",
       "0   StatusActive     790\n",
       "1  StatusRetired    3534"
      ]
     },
     "execution_count": 28,
     "metadata": {},
     "output_type": "execute_result"
    }
   ],
   "source": [
    "# df['rocket_status'].value_counts()\n",
    "ds = df.groupby('rocket_status').size()\n",
    "ds = ds.reset_index(name='conteo')\n",
    "ds"
   ]
  },
  {
   "cell_type": "code",
   "execution_count": 29,
   "id": "4db2b4ea",
   "metadata": {
    "_kg_hide-input": true,
    "execution": {
     "iopub.execute_input": "2023-05-14T17:03:08.324654Z",
     "iopub.status.busy": "2023-05-14T17:03:08.324328Z",
     "iopub.status.idle": "2023-05-14T17:03:08.453618Z",
     "shell.execute_reply": "2023-05-14T17:03:08.452782Z"
    },
    "jupyter": {
     "source_hidden": true
    },
    "papermill": {
     "duration": 0.148625,
     "end_time": "2023-05-14T17:03:08.455661",
     "exception": false,
     "start_time": "2023-05-14T17:03:08.307036",
     "status": "completed"
    },
    "tags": []
   },
   "outputs": [
    {
     "data": {
      "image/png": "[encoded data removed]",
      "text/plain": [
       "<Figure size 400x400 with 1 Axes>"
      ]
     },
     "metadata": {},
     "output_type": "display_data"
    }
   ],
   "source": [
    "fig, ax = plt.subplots(figsize=(4, 4))\n",
    "fig.suptitle('Estado de los Cohetes')\n",
    "\n",
    "ax.pie(x=ds['conteo'], labels=ds['rocket_status'], autopct='%.1f%%', startangle=90, colors=sns.color_palette(\"pastel\"))\n",
    "\n",
    "plt.tight_layout()"
   ]
  },
  {
   "cell_type": "markdown",
   "id": "844c980d",
   "metadata": {
    "papermill": {
     "duration": 0.020823,
     "end_time": "2023-05-14T17:03:08.498436",
     "exception": false,
     "start_time": "2023-05-14T17:03:08.477613",
     "status": "completed"
    },
    "tags": []
   },
   "source": [
    "## Success rocket analysis"
   ]
  },
  {
   "cell_type": "markdown",
   "id": "f36069d9",
   "metadata": {
    "papermill": {
     "duration": 0.019164,
     "end_time": "2023-05-14T17:03:08.537990",
     "exception": false,
     "start_time": "2023-05-14T17:03:08.518826",
     "status": "completed"
    },
    "tags": []
   },
   "source": [
    "## Failure rocket analysis"
   ]
  },
  {
   "cell_type": "markdown",
   "id": "3fec34d7",
   "metadata": {
    "papermill": {
     "duration": 0.015668,
     "end_time": "2023-05-14T17:03:08.569631",
     "exception": false,
     "start_time": "2023-05-14T17:03:08.553963",
     "status": "completed"
    },
    "tags": []
   },
   "source": [
    "# 5. Análisis de misiones"
   ]
  },
  {
   "cell_type": "markdown",
   "id": "ecc6a18a",
   "metadata": {
    "papermill": {
     "duration": 0.01556,
     "end_time": "2023-05-14T17:03:08.600980",
     "exception": false,
     "start_time": "2023-05-14T17:03:08.585420",
     "status": "completed"
    },
    "tags": []
   },
   "source": [
    "## Evolución del número de misiones"
   ]
  },
  {
   "cell_type": "code",
   "execution_count": 30,
   "id": "2e50e8b2",
   "metadata": {
    "_kg_hide-input": true,
    "execution": {
     "iopub.execute_input": "2023-05-14T17:03:08.634314Z",
     "iopub.status.busy": "2023-05-14T17:03:08.633976Z",
     "iopub.status.idle": "2023-05-14T17:03:08.644678Z",
     "shell.execute_reply": "2023-05-14T17:03:08.643858Z"
    },
    "papermill": {
     "duration": 0.029904,
     "end_time": "2023-05-14T17:03:08.646728",
     "exception": false,
     "start_time": "2023-05-14T17:03:08.616824",
     "status": "completed"
    },
    "tags": []
   },
   "outputs": [
    {
     "data": {
      "text/html": [
       "<div>\n",
       "<style scoped>\n",
       "    .dataframe tbody tr th:only-of-type {\n",
       "        vertical-align: middle;\n",
       "    }\n",
       "\n",
       "    .dataframe tbody tr th {\n",
       "        vertical-align: top;\n",
       "    }\n",
       "\n",
       "    .dataframe thead th {\n",
       "        text-align: right;\n",
       "    }\n",
       "</style>\n",
       "<table border=\"1\" class=\"dataframe\">\n",
       "  <thead>\n",
       "    <tr style=\"text-align: right;\">\n",
       "      <th></th>\n",
       "      <th>year</th>\n",
       "      <th>conteo</th>\n",
       "    </tr>\n",
       "  </thead>\n",
       "  <tbody>\n",
       "    <tr>\n",
       "      <th>0</th>\n",
       "      <td>1957</td>\n",
       "      <td>3</td>\n",
       "    </tr>\n",
       "    <tr>\n",
       "      <th>1</th>\n",
       "      <td>1958</td>\n",
       "      <td>28</td>\n",
       "    </tr>\n",
       "    <tr>\n",
       "      <th>2</th>\n",
       "      <td>1959</td>\n",
       "      <td>20</td>\n",
       "    </tr>\n",
       "    <tr>\n",
       "      <th>3</th>\n",
       "      <td>1960</td>\n",
       "      <td>39</td>\n",
       "    </tr>\n",
       "    <tr>\n",
       "      <th>4</th>\n",
       "      <td>1961</td>\n",
       "      <td>52</td>\n",
       "    </tr>\n",
       "  </tbody>\n",
       "</table>\n",
       "</div>"
      ],
      "text/plain": [
       "   year  conteo\n",
       "0  1957       3\n",
       "1  1958      28\n",
       "2  1959      20\n",
       "3  1960      39\n",
       "4  1961      52"
      ]
     },
     "execution_count": 30,
     "metadata": {},
     "output_type": "execute_result"
    }
   ],
   "source": [
    "ds = df.groupby('year').size()\n",
    "ds = ds.reset_index(name='conteo')\n",
    "ds.head()"
   ]
  },
  {
   "cell_type": "code",
   "execution_count": 31,
   "id": "b3cd9c2f",
   "metadata": {
    "_kg_hide-input": true,
    "execution": {
     "iopub.execute_input": "2023-05-14T17:03:08.682992Z",
     "iopub.status.busy": "2023-05-14T17:03:08.681763Z",
     "iopub.status.idle": "2023-05-14T17:03:08.893596Z",
     "shell.execute_reply": "2023-05-14T17:03:08.892522Z"
    },
    "papermill": {
     "duration": 0.231911,
     "end_time": "2023-05-14T17:03:08.895573",
     "exception": false,
     "start_time": "2023-05-14T17:03:08.663662",
     "status": "completed"
    },
    "tags": []
   },
   "outputs": [
    {
     "data": {
      "image/png": "[encoded data removed]",
      "text/plain": [
       "<Figure size 1000x400 with 1 Axes>"
      ]
     },
     "metadata": {},
     "output_type": "display_data"
    }
   ],
   "source": [
    "fig, ax = plt.subplots(figsize=(10, 4))\n",
    "fig.suptitle('Evolución del número de misiones por año')\n",
    "\n",
    "sns.lineplot(data=ds, x='year', y='conteo')\n",
    "ax.set_xlabel('Año')\n",
    "ax.set_ylabel('Número de misiones')\n",
    "ax.set_xlim(1957, 2020)\n",
    "\n",
    "plt.tight_layout()"
   ]
  },
  {
   "cell_type": "markdown",
   "id": "78bb07fe",
   "metadata": {
    "execution": {
     "iopub.execute_input": "2023-05-13T12:00:54.529407Z",
     "iopub.status.busy": "2023-05-13T12:00:54.528902Z",
     "iopub.status.idle": "2023-05-13T12:00:54.535414Z",
     "shell.execute_reply": "2023-05-13T12:00:54.534044Z",
     "shell.execute_reply.started": "2023-05-13T12:00:54.529361Z"
    },
    "papermill": {
     "duration": 0.016537,
     "end_time": "2023-05-14T17:03:08.929128",
     "exception": false,
     "start_time": "2023-05-14T17:03:08.912591",
     "status": "completed"
    },
    "tags": []
   },
   "source": [
    "## Estado de las misiones"
   ]
  },
  {
   "cell_type": "code",
   "execution_count": 32,
   "id": "ad46b1a6",
   "metadata": {
    "_kg_hide-input": true,
    "execution": {
     "iopub.execute_input": "2023-05-14T17:03:08.963808Z",
     "iopub.status.busy": "2023-05-14T17:03:08.963481Z",
     "iopub.status.idle": "2023-05-14T17:03:08.975219Z",
     "shell.execute_reply": "2023-05-14T17:03:08.974532Z"
    },
    "jupyter": {
     "source_hidden": true
    },
    "papermill": {
     "duration": 0.031233,
     "end_time": "2023-05-14T17:03:08.976888",
     "exception": false,
     "start_time": "2023-05-14T17:03:08.945655",
     "status": "completed"
    },
    "tags": []
   },
   "outputs": [
    {
     "data": {
      "text/html": [
       "<div>\n",
       "<style scoped>\n",
       "    .dataframe tbody tr th:only-of-type {\n",
       "        vertical-align: middle;\n",
       "    }\n",
       "\n",
       "    .dataframe tbody tr th {\n",
       "        vertical-align: top;\n",
       "    }\n",
       "\n",
       "    .dataframe thead th {\n",
       "        text-align: right;\n",
       "    }\n",
       "</style>\n",
       "<table border=\"1\" class=\"dataframe\">\n",
       "  <thead>\n",
       "    <tr style=\"text-align: right;\">\n",
       "      <th></th>\n",
       "      <th>mission_status</th>\n",
       "      <th>conteo</th>\n",
       "    </tr>\n",
       "  </thead>\n",
       "  <tbody>\n",
       "    <tr>\n",
       "      <th>0</th>\n",
       "      <td>Failure</td>\n",
       "      <td>339</td>\n",
       "    </tr>\n",
       "    <tr>\n",
       "      <th>1</th>\n",
       "      <td>Partial Failure</td>\n",
       "      <td>102</td>\n",
       "    </tr>\n",
       "    <tr>\n",
       "      <th>2</th>\n",
       "      <td>Prelaunch Failure</td>\n",
       "      <td>4</td>\n",
       "    </tr>\n",
       "    <tr>\n",
       "      <th>3</th>\n",
       "      <td>Success</td>\n",
       "      <td>3879</td>\n",
       "    </tr>\n",
       "  </tbody>\n",
       "</table>\n",
       "</div>"
      ],
      "text/plain": [
       "      mission_status  conteo\n",
       "0            Failure     339\n",
       "1    Partial Failure     102\n",
       "2  Prelaunch Failure       4\n",
       "3            Success    3879"
      ]
     },
     "execution_count": 32,
     "metadata": {},
     "output_type": "execute_result"
    }
   ],
   "source": [
    "ds = df.groupby('mission_status').size()\n",
    "ds = ds.reset_index(name='conteo')\n",
    "ds"
   ]
  },
  {
   "cell_type": "code",
   "execution_count": 33,
   "id": "65b59416",
   "metadata": {
    "execution": {
     "iopub.execute_input": "2023-05-14T17:03:09.014684Z",
     "iopub.status.busy": "2023-05-14T17:03:09.013443Z",
     "iopub.status.idle": "2023-05-14T17:03:09.179866Z",
     "shell.execute_reply": "2023-05-14T17:03:09.179129Z"
    },
    "jupyter": {
     "source_hidden": true
    },
    "papermill": {
     "duration": 0.187893,
     "end_time": "2023-05-14T17:03:09.181835",
     "exception": false,
     "start_time": "2023-05-14T17:03:08.993942",
     "status": "completed"
    },
    "tags": []
   },
   "outputs": [
    {
     "data": {
      "image/png": "[encoded data removed]",
      "text/plain": [
       "<Figure size 600x400 with 1 Axes>"
      ]
     },
     "metadata": {},
     "output_type": "display_data"
    }
   ],
   "source": [
    "fig, ax = plt.subplots(figsize=(6, 4))\n",
    "fig.suptitle('Estado de las misiones')\n",
    "\n",
    "sns.countplot(data=df, x='mission_status', ax=ax)\n",
    "ax.set_xlabel('Estado de la misión')\n",
    "ax.set_ylabel('Conteo')\n",
    "\n",
    "plt.tight_layout()"
   ]
  },
  {
   "cell_type": "markdown",
   "id": "b7cc3486",
   "metadata": {
    "papermill": {
     "duration": 0.01698,
     "end_time": "2023-05-14T17:03:09.217881",
     "exception": false,
     "start_time": "2023-05-14T17:03:09.200901",
     "status": "completed"
    },
    "tags": []
   },
   "source": [
    "## Número de misiones por compañia"
   ]
  },
  {
   "cell_type": "code",
   "execution_count": 34,
   "id": "4739b2c7",
   "metadata": {
    "execution": {
     "iopub.execute_input": "2023-05-14T17:03:09.256361Z",
     "iopub.status.busy": "2023-05-14T17:03:09.255490Z",
     "iopub.status.idle": "2023-05-14T17:03:09.264137Z",
     "shell.execute_reply": "2023-05-14T17:03:09.263234Z"
    },
    "jupyter": {
     "source_hidden": true
    },
    "papermill": {
     "duration": 0.029696,
     "end_time": "2023-05-14T17:03:09.266072",
     "exception": false,
     "start_time": "2023-05-14T17:03:09.236376",
     "status": "completed"
    },
    "tags": []
   },
   "outputs": [
    {
     "data": {
      "text/plain": [
       "company\n",
       "RVSN USSR           1777\n",
       "Arianespace          279\n",
       "General Dynamics     251\n",
       "CASC                 251\n",
       "NASA                 203\n",
       "VKS RF               201\n",
       "US Air Force         161\n",
       "ULA                  140\n",
       "Boeing               136\n",
       "Martin Marietta      114\n",
       "SpaceX               100\n",
       "MHI                   84\n",
       "Northrop              83\n",
       "Lockheed              79\n",
       "ISRO                  76\n",
       "Roscosmos             55\n",
       "ILS                   46\n",
       "Sea Launch            36\n",
       "ISAS                  30\n",
       "Kosmotras             22\n",
       "dtype: int64"
      ]
     },
     "execution_count": 34,
     "metadata": {},
     "output_type": "execute_result"
    }
   ],
   "source": [
    "ds = df.groupby('company').size().sort_values(ascending=False)\n",
    "ds.head(20)"
   ]
  },
  {
   "cell_type": "code",
   "execution_count": 35,
   "id": "c6873bf2",
   "metadata": {
    "_kg_hide-input": true,
    "execution": {
     "iopub.execute_input": "2023-05-14T17:03:09.303845Z",
     "iopub.status.busy": "2023-05-14T17:03:09.303342Z",
     "iopub.status.idle": "2023-05-14T17:03:09.580522Z",
     "shell.execute_reply": "2023-05-14T17:03:09.579830Z"
    },
    "jupyter": {
     "source_hidden": true
    },
    "papermill": {
     "duration": 0.298074,
     "end_time": "2023-05-14T17:03:09.582441",
     "exception": false,
     "start_time": "2023-05-14T17:03:09.284367",
     "status": "completed"
    },
    "tags": []
   },
   "outputs": [
    {
     "data": {
      "image/png": "[encoded data removed]",
      "text/plain": [
       "<Figure size 800x500 with 1 Axes>"
      ]
     },
     "metadata": {},
     "output_type": "display_data"
    }
   ],
   "source": [
    "fig, ax = plt.subplots(figsize=(8, 5))\n",
    "fig.suptitle('Número de misiones por compañia')\n",
    "\n",
    "sns.countplot(data=df, y='company', ax=ax, order=ds.iloc[:20].index)\n",
    "ax.set_xlabel('Número de misiones')\n",
    "ax.set_ylabel('Compañia')\n",
    "\n",
    "plt.tight_layout()"
   ]
  },
  {
   "cell_type": "markdown",
   "id": "6ad24a9f",
   "metadata": {
    "papermill": {
     "duration": 0.018221,
     "end_time": "2023-05-14T17:03:09.618829",
     "exception": false,
     "start_time": "2023-05-14T17:03:09.600608",
     "status": "completed"
    },
    "tags": []
   },
   "source": [
    "Space Company with the most successful missions"
   ]
  },
  {
   "cell_type": "code",
   "execution_count": 36,
   "id": "69d02574",
   "metadata": {
    "execution": {
     "iopub.execute_input": "2023-05-14T17:03:09.658610Z",
     "iopub.status.busy": "2023-05-14T17:03:09.657676Z",
     "iopub.status.idle": "2023-05-14T17:03:09.664216Z",
     "shell.execute_reply": "2023-05-14T17:03:09.663424Z"
    },
    "papermill": {
     "duration": 0.028999,
     "end_time": "2023-05-14T17:03:09.666017",
     "exception": false,
     "start_time": "2023-05-14T17:03:09.637018",
     "status": "completed"
    },
    "tags": []
   },
   "outputs": [],
   "source": [
    "filt = df['mission_status'] =='Success'\n",
    "df_su = df[filt]"
   ]
  },
  {
   "cell_type": "code",
   "execution_count": 37,
   "id": "e29b57b6",
   "metadata": {
    "execution": {
     "iopub.execute_input": "2023-05-14T17:03:09.705874Z",
     "iopub.status.busy": "2023-05-14T17:03:09.705015Z",
     "iopub.status.idle": "2023-05-14T17:03:09.714867Z",
     "shell.execute_reply": "2023-05-14T17:03:09.714138Z"
    },
    "papermill": {
     "duration": 0.031576,
     "end_time": "2023-05-14T17:03:09.716653",
     "exception": false,
     "start_time": "2023-05-14T17:03:09.685077",
     "status": "completed"
    },
    "tags": []
   },
   "outputs": [
    {
     "data": {
      "text/plain": [
       "company\n",
       "RVSN USSR           1614\n",
       "Arianespace          269\n",
       "CASC                 231\n",
       "General Dynamics     203\n",
       "VKS RF               188\n",
       "NASA                 186\n",
       "ULA                  139\n",
       "Boeing               131\n",
       "US Air Force         129\n",
       "Martin Marietta      100\n",
       "SpaceX                94\n",
       "MHI                   80\n",
       "Northrop              74\n",
       "Lockheed              74\n",
       "ISRO                  63\n",
       "Roscosmos             51\n",
       "ILS                   45\n",
       "Sea Launch            33\n",
       "ISAS                  26\n",
       "Kosmotras             21\n",
       "dtype: int64"
      ]
     },
     "execution_count": 37,
     "metadata": {},
     "output_type": "execute_result"
    }
   ],
   "source": [
    "ds = df_su.groupby('company').size().sort_values(ascending=False)\n",
    "ds.head(20)"
   ]
  },
  {
   "cell_type": "code",
   "execution_count": 38,
   "id": "1a4bcebe",
   "metadata": {
    "_kg_hide-input": true,
    "execution": {
     "iopub.execute_input": "2023-05-14T17:03:09.754989Z",
     "iopub.status.busy": "2023-05-14T17:03:09.754645Z",
     "iopub.status.idle": "2023-05-14T17:03:10.134982Z",
     "shell.execute_reply": "2023-05-14T17:03:10.134123Z"
    },
    "jupyter": {
     "source_hidden": true
    },
    "papermill": {
     "duration": 0.401569,
     "end_time": "2023-05-14T17:03:10.136947",
     "exception": false,
     "start_time": "2023-05-14T17:03:09.735378",
     "status": "completed"
    },
    "tags": []
   },
   "outputs": [
    {
     "data": {
      "image/png": "[encoded data removed]",
      "text/plain": [
       "<Figure size 1300x500 with 1 Axes>"
      ]
     },
     "metadata": {},
     "output_type": "display_data"
    }
   ],
   "source": [
    "fig, ax = plt.subplots(figsize=(13, 5))\n",
    "fig.suptitle('Número de misiones por compañia')\n",
    "\n",
    "sns.countplot(data=df, x='company', ax=ax, hue='mission_status', order=ds.iloc[:10].index)\n",
    "ax.set_xlabel('Número de misiones')\n",
    "ax.set_ylabel('Compañia')\n",
    "\n",
    "plt.tight_layout()"
   ]
  },
  {
   "cell_type": "code",
   "execution_count": 39,
   "id": "464279af",
   "metadata": {
    "execution": {
     "iopub.execute_input": "2023-05-14T17:03:10.176323Z",
     "iopub.status.busy": "2023-05-14T17:03:10.175948Z",
     "iopub.status.idle": "2023-05-14T17:03:10.181257Z",
     "shell.execute_reply": "2023-05-14T17:03:10.180378Z"
    },
    "papermill": {
     "duration": 0.027163,
     "end_time": "2023-05-14T17:03:10.182950",
     "exception": false,
     "start_time": "2023-05-14T17:03:10.155787",
     "status": "completed"
    },
    "tags": []
   },
   "outputs": [],
   "source": [
    "filt = df['mission_status'] =='Failure'\n",
    "ds = df[filt]"
   ]
  },
  {
   "cell_type": "markdown",
   "id": "2526c56b",
   "metadata": {
    "papermill": {
     "duration": 0.018473,
     "end_time": "2023-05-14T17:03:10.220108",
     "exception": false,
     "start_time": "2023-05-14T17:03:10.201635",
     "status": "completed"
    },
    "tags": []
   },
   "source": [
    "Space Company with the most failed missions"
   ]
  },
  {
   "cell_type": "markdown",
   "id": "2a27a3d1",
   "metadata": {
    "papermill": {
     "duration": 0.019109,
     "end_time": "2023-05-14T17:03:10.258144",
     "exception": false,
     "start_time": "2023-05-14T17:03:10.239035",
     "status": "completed"
    },
    "tags": []
   },
   "source": [
    "# 6. Análisis de Costo"
   ]
  },
  {
   "cell_type": "code",
   "execution_count": 40,
   "id": "8f7fd540",
   "metadata": {
    "_kg_hide-input": true,
    "execution": {
     "iopub.execute_input": "2023-05-14T17:03:10.297894Z",
     "iopub.status.busy": "2023-05-14T17:03:10.297548Z",
     "iopub.status.idle": "2023-05-14T17:03:10.309341Z",
     "shell.execute_reply": "2023-05-14T17:03:10.308537Z"
    },
    "jupyter": {
     "source_hidden": true
    },
    "papermill": {
     "duration": 0.034142,
     "end_time": "2023-05-14T17:03:10.311278",
     "exception": false,
     "start_time": "2023-05-14T17:03:10.277136",
     "status": "completed"
    },
    "tags": []
   },
   "outputs": [
    {
     "data": {
      "text/plain": [
       "company\n",
       "NASA               76280.00\n",
       "Arianespace        16345.00\n",
       "ULA                14798.00\n",
       "RVSN USSR          10000.00\n",
       "CASC                6340.26\n",
       "SpaceX              5444.00\n",
       "Northrop            3930.00\n",
       "MHI                 3532.50\n",
       "ISRO                2177.00\n",
       "US Air Force        1550.92\n",
       "VKS RF              1548.90\n",
       "ILS                 1320.00\n",
       "Boeing              1241.00\n",
       "Roscosmos           1187.50\n",
       "Martin Marietta      721.40\n",
       "Kosmotras            638.00\n",
       "Eurockot             543.40\n",
       "Lockheed             280.00\n",
       "JAXA                 168.00\n",
       "Rocket Lab            97.50\n",
       "Name: cost, dtype: float64"
      ]
     },
     "execution_count": 40,
     "metadata": {},
     "output_type": "execute_result"
    }
   ],
   "source": [
    "ds = df.groupby('company').sum()['cost'].sort_values(ascending=False)\n",
    "ds.head(20)"
   ]
  },
  {
   "cell_type": "code",
   "execution_count": 41,
   "id": "d4eb4c3a",
   "metadata": {
    "_kg_hide-input": true,
    "execution": {
     "iopub.execute_input": "2023-05-14T17:03:10.350668Z",
     "iopub.status.busy": "2023-05-14T17:03:10.350286Z",
     "iopub.status.idle": "2023-05-14T17:03:10.631756Z",
     "shell.execute_reply": "2023-05-14T17:03:10.630966Z"
    },
    "jupyter": {
     "source_hidden": true
    },
    "papermill": {
     "duration": 0.303739,
     "end_time": "2023-05-14T17:03:10.634053",
     "exception": false,
     "start_time": "2023-05-14T17:03:10.330314",
     "status": "completed"
    },
    "tags": []
   },
   "outputs": [
    {
     "data": {
      "image/png": "[encoded data removed]",
      "text/plain": [
       "<Figure size 800x500 with 1 Axes>"
      ]
     },
     "metadata": {},
     "output_type": "display_data"
    }
   ],
   "source": [
    "fig, ax = plt.subplots(figsize=(8, 5))\n",
    "fig.suptitle('Total de dinero invertido por cada compañia')\n",
    "sns.barplot(data=df, y='company', x='cost', ax=ax, estimator='sum',errorbar=None, order=ds.iloc[:20].index)\n",
    "ax.set_xlabel('Dinero invertido [Millones de USD]')\n",
    "ax.set_ylabel('Compañia')\n",
    "\n",
    "plt.tight_layout()"
   ]
  },
  {
   "cell_type": "markdown",
   "id": "07309487",
   "metadata": {
    "papermill": {
     "duration": 0.019513,
     "end_time": "2023-05-14T17:03:10.674442",
     "exception": false,
     "start_time": "2023-05-14T17:03:10.654929",
     "status": "completed"
    },
    "tags": []
   },
   "source": [
    "# X. Conclusiones EDA"
   ]
  },
  {
   "cell_type": "markdown",
   "id": "870ae87a",
   "metadata": {
    "papermill": {
     "duration": 0.018805,
     "end_time": "2023-05-14T17:03:10.712472",
     "exception": false,
     "start_time": "2023-05-14T17:03:10.693667",
     "status": "completed"
    },
    "tags": []
   },
   "source": [
    "- Work in progress\n",
    "-  "
   ]
  }
 ],
 "metadata": {
  "kernelspec": {
   "display_name": "Python 3",
   "language": "python",
   "name": "python3"
  },
  "language_info": {
   "codemirror_mode": {
    "name": "ipython",
    "version": 3
   },
   "file_extension": ".py",
   "mimetype": "text/x-python",
   "name": "python",
   "nbconvert_exporter": "python",
   "pygments_lexer": "ipython3",
   "version": "3.7.12"
  },
  "papermill": {
   "default_parameters": {},
   "duration": 15.637541,
   "end_time": "2023-05-14T17:03:11.350655",
   "environment_variables": {},
   "exception": null,
   "input_path": "__notebook__.ipynb",
   "output_path": "__notebook__.ipynb",
   "parameters": {},
   "start_time": "2023-05-14T17:02:55.713114",
   "version": "2.4.0"
  }
 },
 "nbformat": 4,
 "nbformat_minor": 5
}
