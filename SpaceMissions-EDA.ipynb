{
 "cells": [
  {
   "cell_type": "code",
   "execution_count": null,
   "id": "67a271d3",
   "metadata": {
    "papermill": {
     "duration": 0.002899,
     "end_time": "2023-04-09T18:40:56.507574",
     "exception": false,
     "start_time": "2023-04-09T18:40:56.504675",
     "status": "completed"
    },
    "tags": []
   },
   "outputs": [],
   "source": []
  }
 ],
 "metadata": {
  "kernelspec": {
   "display_name": "Python 3",
   "language": "python",
   "name": "python3"
  },
  "language_info": {
   "codemirror_mode": {
    "name": "ipython",
    "version": 3
   },
   "file_extension": ".py",
   "mimetype": "text/x-python",
   "name": "python",
   "nbconvert_exporter": "python",
   "pygments_lexer": "ipython3",
   "version": "3.7.12"
  },
  "papermill": {
   "default_parameters": {},
   "duration": 12.751174,
   "end_time": "2023-04-09T18:40:57.438371",
   "environment_variables": {},
   "exception": null,
   "input_path": "__notebook__.ipynb",
   "output_path": "__notebook__.ipynb",
   "parameters": {},
   "start_time": "2023-04-09T18:40:44.687197",
   "version": "2.4.0"
  }
 },
 "nbformat": 4,
 "nbformat_minor": 5
}
