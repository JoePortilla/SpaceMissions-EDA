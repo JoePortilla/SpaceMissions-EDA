{
 "cells": [
  {
   "cell_type": "markdown",
   "id": "2b2a1468",
   "metadata": {
    "papermill": {
     "duration": 0.024215,
     "end_time": "2023-05-13T12:05:39.940962",
     "exception": false,
     "start_time": "2023-05-13T12:05:39.916747",
     "status": "completed"
    },
    "tags": []
   },
   "source": [
    "# 0. Introducción\n",
    "\n",
    "<!-- <img src=\"https://raw.githubusercontent.com/JoePortilla/EnergyProductionCol-EDA/main/img/energyproduction_eda_cover.webp?token=GHSAT0AAAAAAB6AMADC5TFIULPHAY4XD3FUZBR77PA\" width=\"800\" alt=\"logo\" style=\"display:block;margin:auto;\"> -->\n",
    "\n",
    "\n",
    "\n",
    "## Objetivo general\n",
    "Work in progress.\n",
    "\n",
    "## Objetivo especifico\n",
    "Este notebook se centra en explorar y visualizar el conjunto de datos.\n",
    "\n",
    "## Paquetes utilizados\n",
    "- Procesamiento de datos\n",
    "    - Pandas.\n",
    "- Procesamiento numérico.\n",
    "    - NumPy\n",
    "- Visualización de datos\n",
    "    - Seaborn\n",
    "    - Matplotlib.\n",
    "\n",
    "## Dataset\n",
    "\n",
    "## Referencias\n",
    "\n",
    "## Instructor\n",
    "Joseph Santiago Portilla - Ingeniero Electrónico.\n",
    "- GitHub: https://github.com/JoePortilla\n",
    "- Twitter: https://twitter.com/JoePortilla\n",
    "- LinkedIn: https://www.linkedin.com/in/PortillaJoe\n",
    "- Kaggle: https://www.kaggle.com/joeportilla\n"
   ]
  },
  {
   "cell_type": "markdown",
   "id": "1144715c",
   "metadata": {
    "execution": {
     "iopub.execute_input": "2023-03-31T19:32:53.120703Z",
     "iopub.status.busy": "2023-03-31T19:32:53.120274Z",
     "iopub.status.idle": "2023-03-31T19:32:53.126085Z",
     "shell.execute_reply": "2023-03-31T19:32:53.124884Z",
     "shell.execute_reply.started": "2023-03-31T19:32:53.120666Z"
    },
    "papermill": {
     "duration": 0.021863,
     "end_time": "2023-05-13T12:05:39.986017",
     "exception": false,
     "start_time": "2023-05-13T12:05:39.964154",
     "status": "completed"
    },
    "tags": []
   },
   "source": [
    "# 1. Ajustes Iniciales"
   ]
  },
  {
   "cell_type": "markdown",
   "id": "e43397df",
   "metadata": {
    "papermill": {
     "duration": 0.023355,
     "end_time": "2023-05-13T12:05:40.032250",
     "exception": false,
     "start_time": "2023-05-13T12:05:40.008895",
     "status": "completed"
    },
    "tags": []
   },
   "source": [
    "## 1.1 Importación de Bibliotecas"
   ]
  },
  {
   "cell_type": "code",
   "execution_count": 1,
   "id": "4107a0a5",
   "metadata": {
    "_cell_guid": "b1076dfc-b9ad-4769-8c92-a6c4dae69d19",
    "_uuid": "8f2839f25d086af736a60e9eeb907d3b93b6e0e5",
    "execution": {
     "iopub.execute_input": "2023-05-13T12:05:40.079655Z",
     "iopub.status.busy": "2023-05-13T12:05:40.078910Z",
     "iopub.status.idle": "2023-05-13T12:05:41.467239Z",
     "shell.execute_reply": "2023-05-13T12:05:41.465763Z"
    },
    "papermill": {
     "duration": 1.416146,
     "end_time": "2023-05-13T12:05:41.471091",
     "exception": false,
     "start_time": "2023-05-13T12:05:40.054945",
     "status": "completed"
    },
    "tags": []
   },
   "outputs": [],
   "source": [
    "import numpy as np\n",
    "import pandas as pd\n",
    "import seaborn as sns\n",
    "import matplotlib.pyplot as plt"
   ]
  },
  {
   "cell_type": "markdown",
   "id": "ff5ce67a",
   "metadata": {
    "papermill": {
     "duration": 0.022238,
     "end_time": "2023-05-13T12:05:41.516217",
     "exception": false,
     "start_time": "2023-05-13T12:05:41.493979",
     "status": "completed"
    },
    "tags": []
   },
   "source": [
    "## 1.2. Definición de estilo de gráficas"
   ]
  },
  {
   "cell_type": "code",
   "execution_count": 2,
   "id": "9b925247",
   "metadata": {
    "execution": {
     "iopub.execute_input": "2023-05-13T12:05:41.563089Z",
     "iopub.status.busy": "2023-05-13T12:05:41.562563Z",
     "iopub.status.idle": "2023-05-13T12:05:41.568675Z",
     "shell.execute_reply": "2023-05-13T12:05:41.567364Z"
    },
    "papermill": {
     "duration": 0.033156,
     "end_time": "2023-05-13T12:05:41.571930",
     "exception": false,
     "start_time": "2023-05-13T12:05:41.538774",
     "status": "completed"
    },
    "tags": []
   },
   "outputs": [],
   "source": [
    "# https://matplotlib.org/stable/gallery/style_sheets/style_sheets_reference.html\n",
    "plt.style.use(\"seaborn-whitegrid\")"
   ]
  },
  {
   "cell_type": "markdown",
   "id": "64d03945",
   "metadata": {
    "papermill": {
     "duration": 0.021424,
     "end_time": "2023-05-13T12:05:41.615430",
     "exception": false,
     "start_time": "2023-05-13T12:05:41.594006",
     "status": "completed"
    },
    "tags": []
   },
   "source": [
    "# 2. Carga de Dataset y Revisión inicial"
   ]
  },
  {
   "cell_type": "markdown",
   "id": "77cddc4d",
   "metadata": {
    "papermill": {
     "duration": 0.02109,
     "end_time": "2023-05-13T12:05:41.657948",
     "exception": false,
     "start_time": "2023-05-13T12:05:41.636858",
     "status": "completed"
    },
    "tags": []
   },
   "source": [
    "## 2.1. Lectura de CSV"
   ]
  },
  {
   "cell_type": "code",
   "execution_count": 3,
   "id": "1e78bedb",
   "metadata": {
    "execution": {
     "iopub.execute_input": "2023-05-13T12:05:41.702969Z",
     "iopub.status.busy": "2023-05-13T12:05:41.702405Z",
     "iopub.status.idle": "2023-05-13T12:05:41.867042Z",
     "shell.execute_reply": "2023-05-13T12:05:41.865834Z"
    },
    "papermill": {
     "duration": 0.190769,
     "end_time": "2023-05-13T12:05:41.869979",
     "exception": false,
     "start_time": "2023-05-13T12:05:41.679210",
     "status": "completed"
    },
    "tags": []
   },
   "outputs": [],
   "source": [
    "df0 = pd.read_csv('/kaggle/input/all-space-missions-from-1957/Space_Corrected.csv')"
   ]
  },
  {
   "cell_type": "markdown",
   "id": "b411bb86",
   "metadata": {
    "papermill": {
     "duration": 0.021009,
     "end_time": "2023-05-13T12:05:41.912406",
     "exception": false,
     "start_time": "2023-05-13T12:05:41.891397",
     "status": "completed"
    },
    "tags": []
   },
   "source": [
    "## 2.2. Exploración inicial del dataframe"
   ]
  },
  {
   "cell_type": "markdown",
   "id": "33be86cb",
   "metadata": {
    "papermill": {
     "duration": 0.020991,
     "end_time": "2023-05-13T12:05:41.954924",
     "exception": false,
     "start_time": "2023-05-13T12:05:41.933933",
     "status": "completed"
    },
    "tags": []
   },
   "source": [
    "### Info. general del dataset"
   ]
  },
  {
   "cell_type": "markdown",
   "id": "c00de4b9",
   "metadata": {
    "papermill": {
     "duration": 0.021054,
     "end_time": "2023-05-13T12:05:41.997285",
     "exception": false,
     "start_time": "2023-05-13T12:05:41.976231",
     "status": "completed"
    },
    "tags": []
   },
   "source": [
    "El conjunto de datos contiene las siguientes variables:\n",
    "\n",
    "Company Name: Company\n",
    "Location: Location of the Launch\n",
    "Datum: Datum and Time of Launch\n",
    "Detail: Rocket Name\n",
    "Status Rocket: Status of the rocket\n",
    "Rocket: Cost of the mission: in $ million\n",
    "Status Mission: Status of the mission"
   ]
  },
  {
   "cell_type": "code",
   "execution_count": 4,
   "id": "98cb786b",
   "metadata": {
    "execution": {
     "iopub.execute_input": "2023-05-13T12:05:42.044540Z",
     "iopub.status.busy": "2023-05-13T12:05:42.043768Z",
     "iopub.status.idle": "2023-05-13T12:05:42.053416Z",
     "shell.execute_reply": "2023-05-13T12:05:42.052104Z"
    },
    "papermill": {
     "duration": 0.037207,
     "end_time": "2023-05-13T12:05:42.056830",
     "exception": false,
     "start_time": "2023-05-13T12:05:42.019623",
     "status": "completed"
    },
    "tags": []
   },
   "outputs": [
    {
     "data": {
      "text/plain": [
       "Index(['Unnamed: 0', 'Unnamed: 0.1', 'Company Name', 'Location', 'Datum',\n",
       "       'Detail', 'Status Rocket', ' Rocket', 'Status Mission'],\n",
       "      dtype='object')"
      ]
     },
     "execution_count": 4,
     "metadata": {},
     "output_type": "execute_result"
    }
   ],
   "source": [
    "df0.columns"
   ]
  },
  {
   "cell_type": "code",
   "execution_count": 5,
   "id": "5fe91cc1",
   "metadata": {
    "execution": {
     "iopub.execute_input": "2023-05-13T12:05:42.102409Z",
     "iopub.status.busy": "2023-05-13T12:05:42.101719Z",
     "iopub.status.idle": "2023-05-13T12:05:42.135077Z",
     "shell.execute_reply": "2023-05-13T12:05:42.133728Z"
    },
    "papermill": {
     "duration": 0.059787,
     "end_time": "2023-05-13T12:05:42.138127",
     "exception": false,
     "start_time": "2023-05-13T12:05:42.078340",
     "status": "completed"
    },
    "tags": []
   },
   "outputs": [
    {
     "data": {
      "text/html": [
       "<div>\n",
       "<style scoped>\n",
       "    .dataframe tbody tr th:only-of-type {\n",
       "        vertical-align: middle;\n",
       "    }\n",
       "\n",
       "    .dataframe tbody tr th {\n",
       "        vertical-align: top;\n",
       "    }\n",
       "\n",
       "    .dataframe thead th {\n",
       "        text-align: right;\n",
       "    }\n",
       "</style>\n",
       "<table border=\"1\" class=\"dataframe\">\n",
       "  <thead>\n",
       "    <tr style=\"text-align: right;\">\n",
       "      <th></th>\n",
       "      <th>Unnamed: 0</th>\n",
       "      <th>Unnamed: 0.1</th>\n",
       "      <th>Company Name</th>\n",
       "      <th>Location</th>\n",
       "      <th>Datum</th>\n",
       "      <th>Detail</th>\n",
       "      <th>Status Rocket</th>\n",
       "      <th>Rocket</th>\n",
       "      <th>Status Mission</th>\n",
       "    </tr>\n",
       "  </thead>\n",
       "  <tbody>\n",
       "    <tr>\n",
       "      <th>0</th>\n",
       "      <td>0</td>\n",
       "      <td>0</td>\n",
       "      <td>SpaceX</td>\n",
       "      <td>LC-39A, Kennedy Space Center, Florida, USA</td>\n",
       "      <td>Fri Aug 07, 2020 05:12 UTC</td>\n",
       "      <td>Falcon 9 Block 5 | Starlink V1 L9 &amp; BlackSky</td>\n",
       "      <td>StatusActive</td>\n",
       "      <td>50.0</td>\n",
       "      <td>Success</td>\n",
       "    </tr>\n",
       "    <tr>\n",
       "      <th>1</th>\n",
       "      <td>1</td>\n",
       "      <td>1</td>\n",
       "      <td>CASC</td>\n",
       "      <td>Site 9401 (SLS-2), Jiuquan Satellite Launch Ce...</td>\n",
       "      <td>Thu Aug 06, 2020 04:01 UTC</td>\n",
       "      <td>Long March 2D | Gaofen-9 04 &amp; Q-SAT</td>\n",
       "      <td>StatusActive</td>\n",
       "      <td>29.75</td>\n",
       "      <td>Success</td>\n",
       "    </tr>\n",
       "    <tr>\n",
       "      <th>2</th>\n",
       "      <td>2</td>\n",
       "      <td>2</td>\n",
       "      <td>SpaceX</td>\n",
       "      <td>Pad A, Boca Chica, Texas, USA</td>\n",
       "      <td>Tue Aug 04, 2020 23:57 UTC</td>\n",
       "      <td>Starship Prototype | 150 Meter Hop</td>\n",
       "      <td>StatusActive</td>\n",
       "      <td>NaN</td>\n",
       "      <td>Success</td>\n",
       "    </tr>\n",
       "    <tr>\n",
       "      <th>3</th>\n",
       "      <td>3</td>\n",
       "      <td>3</td>\n",
       "      <td>Roscosmos</td>\n",
       "      <td>Site 200/39, Baikonur Cosmodrome, Kazakhstan</td>\n",
       "      <td>Thu Jul 30, 2020 21:25 UTC</td>\n",
       "      <td>Proton-M/Briz-M | Ekspress-80 &amp; Ekspress-103</td>\n",
       "      <td>StatusActive</td>\n",
       "      <td>65.0</td>\n",
       "      <td>Success</td>\n",
       "    </tr>\n",
       "    <tr>\n",
       "      <th>4</th>\n",
       "      <td>4</td>\n",
       "      <td>4</td>\n",
       "      <td>ULA</td>\n",
       "      <td>SLC-41, Cape Canaveral AFS, Florida, USA</td>\n",
       "      <td>Thu Jul 30, 2020 11:50 UTC</td>\n",
       "      <td>Atlas V 541 | Perseverance</td>\n",
       "      <td>StatusActive</td>\n",
       "      <td>145.0</td>\n",
       "      <td>Success</td>\n",
       "    </tr>\n",
       "  </tbody>\n",
       "</table>\n",
       "</div>"
      ],
      "text/plain": [
       "   Unnamed: 0  Unnamed: 0.1 Company Name  \\\n",
       "0           0             0       SpaceX   \n",
       "1           1             1         CASC   \n",
       "2           2             2       SpaceX   \n",
       "3           3             3    Roscosmos   \n",
       "4           4             4          ULA   \n",
       "\n",
       "                                            Location  \\\n",
       "0         LC-39A, Kennedy Space Center, Florida, USA   \n",
       "1  Site 9401 (SLS-2), Jiuquan Satellite Launch Ce...   \n",
       "2                      Pad A, Boca Chica, Texas, USA   \n",
       "3       Site 200/39, Baikonur Cosmodrome, Kazakhstan   \n",
       "4           SLC-41, Cape Canaveral AFS, Florida, USA   \n",
       "\n",
       "                        Datum                                        Detail  \\\n",
       "0  Fri Aug 07, 2020 05:12 UTC  Falcon 9 Block 5 | Starlink V1 L9 & BlackSky   \n",
       "1  Thu Aug 06, 2020 04:01 UTC           Long March 2D | Gaofen-9 04 & Q-SAT   \n",
       "2  Tue Aug 04, 2020 23:57 UTC            Starship Prototype | 150 Meter Hop   \n",
       "3  Thu Jul 30, 2020 21:25 UTC  Proton-M/Briz-M | Ekspress-80 & Ekspress-103   \n",
       "4  Thu Jul 30, 2020 11:50 UTC                    Atlas V 541 | Perseverance   \n",
       "\n",
       "  Status Rocket  Rocket Status Mission  \n",
       "0  StatusActive   50.0         Success  \n",
       "1  StatusActive  29.75         Success  \n",
       "2  StatusActive     NaN        Success  \n",
       "3  StatusActive   65.0         Success  \n",
       "4  StatusActive  145.0         Success  "
      ]
     },
     "execution_count": 5,
     "metadata": {},
     "output_type": "execute_result"
    }
   ],
   "source": [
    "df0.head()"
   ]
  },
  {
   "cell_type": "code",
   "execution_count": 6,
   "id": "88dbaa22",
   "metadata": {
    "execution": {
     "iopub.execute_input": "2023-05-13T12:05:42.184714Z",
     "iopub.status.busy": "2023-05-13T12:05:42.183977Z",
     "iopub.status.idle": "2023-05-13T12:05:42.216027Z",
     "shell.execute_reply": "2023-05-13T12:05:42.214579Z"
    },
    "papermill": {
     "duration": 0.059189,
     "end_time": "2023-05-13T12:05:42.219151",
     "exception": false,
     "start_time": "2023-05-13T12:05:42.159962",
     "status": "completed"
    },
    "tags": []
   },
   "outputs": [
    {
     "name": "stdout",
     "output_type": "stream",
     "text": [
      "<class 'pandas.core.frame.DataFrame'>\n",
      "RangeIndex: 4324 entries, 0 to 4323\n",
      "Data columns (total 9 columns):\n",
      " #   Column          Non-Null Count  Dtype \n",
      "---  ------          --------------  ----- \n",
      " 0   Unnamed: 0      4324 non-null   int64 \n",
      " 1   Unnamed: 0.1    4324 non-null   int64 \n",
      " 2   Company Name    4324 non-null   object\n",
      " 3   Location        4324 non-null   object\n",
      " 4   Datum           4324 non-null   object\n",
      " 5   Detail          4324 non-null   object\n",
      " 6   Status Rocket   4324 non-null   object\n",
      " 7    Rocket         964 non-null    object\n",
      " 8   Status Mission  4324 non-null   object\n",
      "dtypes: int64(2), object(7)\n",
      "memory usage: 304.2+ KB\n"
     ]
    }
   ],
   "source": [
    "df0.info()"
   ]
  },
  {
   "cell_type": "markdown",
   "id": "3626e958",
   "metadata": {
    "papermill": {
     "duration": 0.021824,
     "end_time": "2023-05-13T12:05:42.263003",
     "exception": false,
     "start_time": "2023-05-13T12:05:42.241179",
     "status": "completed"
    },
    "tags": []
   },
   "source": [
    "### Dimensión del datafrane"
   ]
  },
  {
   "cell_type": "code",
   "execution_count": 7,
   "id": "e8d7bfd8",
   "metadata": {
    "execution": {
     "iopub.execute_input": "2023-05-13T12:05:42.310867Z",
     "iopub.status.busy": "2023-05-13T12:05:42.310123Z",
     "iopub.status.idle": "2023-05-13T12:05:42.318225Z",
     "shell.execute_reply": "2023-05-13T12:05:42.316898Z"
    },
    "papermill": {
     "duration": 0.034565,
     "end_time": "2023-05-13T12:05:42.320862",
     "exception": false,
     "start_time": "2023-05-13T12:05:42.286297",
     "status": "completed"
    },
    "tags": []
   },
   "outputs": [
    {
     "data": {
      "text/plain": [
       "(4324, 9)"
      ]
     },
     "execution_count": 7,
     "metadata": {},
     "output_type": "execute_result"
    }
   ],
   "source": [
    "df0.shape"
   ]
  },
  {
   "cell_type": "markdown",
   "id": "0b112011",
   "metadata": {
    "papermill": {
     "duration": 0.023217,
     "end_time": "2023-05-13T12:05:42.366290",
     "exception": false,
     "start_time": "2023-05-13T12:05:42.343073",
     "status": "completed"
    },
    "tags": []
   },
   "source": [
    "# 3. Preprocesamiento"
   ]
  },
  {
   "cell_type": "code",
   "execution_count": 8,
   "id": "3ce12a23",
   "metadata": {
    "execution": {
     "iopub.execute_input": "2023-05-13T12:05:42.413275Z",
     "iopub.status.busy": "2023-05-13T12:05:42.412520Z",
     "iopub.status.idle": "2023-05-13T12:05:42.419101Z",
     "shell.execute_reply": "2023-05-13T12:05:42.417950Z"
    },
    "papermill": {
     "duration": 0.033348,
     "end_time": "2023-05-13T12:05:42.421882",
     "exception": false,
     "start_time": "2023-05-13T12:05:42.388534",
     "status": "completed"
    },
    "tags": []
   },
   "outputs": [],
   "source": [
    "df = df0.copy()"
   ]
  },
  {
   "cell_type": "markdown",
   "id": "812435f7",
   "metadata": {
    "papermill": {
     "duration": 0.026036,
     "end_time": "2023-05-13T12:05:42.470342",
     "exception": false,
     "start_time": "2023-05-13T12:05:42.444306",
     "status": "completed"
    },
    "tags": []
   },
   "source": [
    "## 3.1. Feature selection"
   ]
  },
  {
   "cell_type": "code",
   "execution_count": 9,
   "id": "97309c63",
   "metadata": {
    "execution": {
     "iopub.execute_input": "2023-05-13T12:05:42.529843Z",
     "iopub.status.busy": "2023-05-13T12:05:42.528220Z",
     "iopub.status.idle": "2023-05-13T12:05:42.537019Z",
     "shell.execute_reply": "2023-05-13T12:05:42.535903Z"
    },
    "papermill": {
     "duration": 0.041084,
     "end_time": "2023-05-13T12:05:42.540848",
     "exception": false,
     "start_time": "2023-05-13T12:05:42.499764",
     "status": "completed"
    },
    "tags": []
   },
   "outputs": [],
   "source": [
    "filt = ['Unnamed: 0', 'Unnamed: 0.1']\n",
    "df.drop(filt, axis=1, inplace=True)"
   ]
  },
  {
   "cell_type": "code",
   "execution_count": 10,
   "id": "f1d5a6a3",
   "metadata": {
    "execution": {
     "iopub.execute_input": "2023-05-13T12:05:42.593900Z",
     "iopub.status.busy": "2023-05-13T12:05:42.593135Z",
     "iopub.status.idle": "2023-05-13T12:05:42.609113Z",
     "shell.execute_reply": "2023-05-13T12:05:42.607805Z"
    },
    "papermill": {
     "duration": 0.043583,
     "end_time": "2023-05-13T12:05:42.611782",
     "exception": false,
     "start_time": "2023-05-13T12:05:42.568199",
     "status": "completed"
    },
    "tags": []
   },
   "outputs": [
    {
     "data": {
      "text/html": [
       "<div>\n",
       "<style scoped>\n",
       "    .dataframe tbody tr th:only-of-type {\n",
       "        vertical-align: middle;\n",
       "    }\n",
       "\n",
       "    .dataframe tbody tr th {\n",
       "        vertical-align: top;\n",
       "    }\n",
       "\n",
       "    .dataframe thead th {\n",
       "        text-align: right;\n",
       "    }\n",
       "</style>\n",
       "<table border=\"1\" class=\"dataframe\">\n",
       "  <thead>\n",
       "    <tr style=\"text-align: right;\">\n",
       "      <th></th>\n",
       "      <th>Company Name</th>\n",
       "      <th>Location</th>\n",
       "      <th>Datum</th>\n",
       "      <th>Detail</th>\n",
       "      <th>Status Rocket</th>\n",
       "      <th>Rocket</th>\n",
       "      <th>Status Mission</th>\n",
       "    </tr>\n",
       "  </thead>\n",
       "  <tbody>\n",
       "    <tr>\n",
       "      <th>0</th>\n",
       "      <td>SpaceX</td>\n",
       "      <td>LC-39A, Kennedy Space Center, Florida, USA</td>\n",
       "      <td>Fri Aug 07, 2020 05:12 UTC</td>\n",
       "      <td>Falcon 9 Block 5 | Starlink V1 L9 &amp; BlackSky</td>\n",
       "      <td>StatusActive</td>\n",
       "      <td>50.0</td>\n",
       "      <td>Success</td>\n",
       "    </tr>\n",
       "    <tr>\n",
       "      <th>1</th>\n",
       "      <td>CASC</td>\n",
       "      <td>Site 9401 (SLS-2), Jiuquan Satellite Launch Ce...</td>\n",
       "      <td>Thu Aug 06, 2020 04:01 UTC</td>\n",
       "      <td>Long March 2D | Gaofen-9 04 &amp; Q-SAT</td>\n",
       "      <td>StatusActive</td>\n",
       "      <td>29.75</td>\n",
       "      <td>Success</td>\n",
       "    </tr>\n",
       "    <tr>\n",
       "      <th>2</th>\n",
       "      <td>SpaceX</td>\n",
       "      <td>Pad A, Boca Chica, Texas, USA</td>\n",
       "      <td>Tue Aug 04, 2020 23:57 UTC</td>\n",
       "      <td>Starship Prototype | 150 Meter Hop</td>\n",
       "      <td>StatusActive</td>\n",
       "      <td>NaN</td>\n",
       "      <td>Success</td>\n",
       "    </tr>\n",
       "    <tr>\n",
       "      <th>3</th>\n",
       "      <td>Roscosmos</td>\n",
       "      <td>Site 200/39, Baikonur Cosmodrome, Kazakhstan</td>\n",
       "      <td>Thu Jul 30, 2020 21:25 UTC</td>\n",
       "      <td>Proton-M/Briz-M | Ekspress-80 &amp; Ekspress-103</td>\n",
       "      <td>StatusActive</td>\n",
       "      <td>65.0</td>\n",
       "      <td>Success</td>\n",
       "    </tr>\n",
       "    <tr>\n",
       "      <th>4</th>\n",
       "      <td>ULA</td>\n",
       "      <td>SLC-41, Cape Canaveral AFS, Florida, USA</td>\n",
       "      <td>Thu Jul 30, 2020 11:50 UTC</td>\n",
       "      <td>Atlas V 541 | Perseverance</td>\n",
       "      <td>StatusActive</td>\n",
       "      <td>145.0</td>\n",
       "      <td>Success</td>\n",
       "    </tr>\n",
       "  </tbody>\n",
       "</table>\n",
       "</div>"
      ],
      "text/plain": [
       "  Company Name                                           Location  \\\n",
       "0       SpaceX         LC-39A, Kennedy Space Center, Florida, USA   \n",
       "1         CASC  Site 9401 (SLS-2), Jiuquan Satellite Launch Ce...   \n",
       "2       SpaceX                      Pad A, Boca Chica, Texas, USA   \n",
       "3    Roscosmos       Site 200/39, Baikonur Cosmodrome, Kazakhstan   \n",
       "4          ULA           SLC-41, Cape Canaveral AFS, Florida, USA   \n",
       "\n",
       "                        Datum                                        Detail  \\\n",
       "0  Fri Aug 07, 2020 05:12 UTC  Falcon 9 Block 5 | Starlink V1 L9 & BlackSky   \n",
       "1  Thu Aug 06, 2020 04:01 UTC           Long March 2D | Gaofen-9 04 & Q-SAT   \n",
       "2  Tue Aug 04, 2020 23:57 UTC            Starship Prototype | 150 Meter Hop   \n",
       "3  Thu Jul 30, 2020 21:25 UTC  Proton-M/Briz-M | Ekspress-80 & Ekspress-103   \n",
       "4  Thu Jul 30, 2020 11:50 UTC                    Atlas V 541 | Perseverance   \n",
       "\n",
       "  Status Rocket  Rocket Status Mission  \n",
       "0  StatusActive   50.0         Success  \n",
       "1  StatusActive  29.75         Success  \n",
       "2  StatusActive     NaN        Success  \n",
       "3  StatusActive   65.0         Success  \n",
       "4  StatusActive  145.0         Success  "
      ]
     },
     "execution_count": 10,
     "metadata": {},
     "output_type": "execute_result"
    }
   ],
   "source": [
    "df.head()"
   ]
  },
  {
   "cell_type": "markdown",
   "id": "579de000",
   "metadata": {
    "papermill": {
     "duration": 0.022281,
     "end_time": "2023-05-13T12:05:42.656744",
     "exception": false,
     "start_time": "2023-05-13T12:05:42.634463",
     "status": "completed"
    },
    "tags": []
   },
   "source": [
    "## 3.2. Column renaming"
   ]
  },
  {
   "cell_type": "code",
   "execution_count": 11,
   "id": "6d4aa0c9",
   "metadata": {
    "execution": {
     "iopub.execute_input": "2023-05-13T12:05:42.705762Z",
     "iopub.status.busy": "2023-05-13T12:05:42.705019Z",
     "iopub.status.idle": "2023-05-13T12:05:42.713809Z",
     "shell.execute_reply": "2023-05-13T12:05:42.711787Z"
    },
    "papermill": {
     "duration": 0.037024,
     "end_time": "2023-05-13T12:05:42.717020",
     "exception": false,
     "start_time": "2023-05-13T12:05:42.679996",
     "status": "completed"
    },
    "tags": []
   },
   "outputs": [],
   "source": [
    "df.rename(columns={'Company Name':'company',\n",
    "                   'Location':'launch_facility',\n",
    "                   'Datum':'date',\n",
    "                   'Detail':'detail',\n",
    "                   'Status Rocket':'rocket_status',\n",
    "                   ' Rocket':'cost',\n",
    "                   'Status Mission':'mission_status'},\n",
    "          inplace=True)"
   ]
  },
  {
   "cell_type": "markdown",
   "id": "67761cdc",
   "metadata": {
    "papermill": {
     "duration": 0.02221,
     "end_time": "2023-05-13T12:05:42.761851",
     "exception": false,
     "start_time": "2023-05-13T12:05:42.739641",
     "status": "completed"
    },
    "tags": []
   },
   "source": [
    "## 3.3. Data filtering"
   ]
  },
  {
   "cell_type": "markdown",
   "id": "6533f289",
   "metadata": {
    "papermill": {
     "duration": 0.022089,
     "end_time": "2023-05-13T12:05:42.806319",
     "exception": false,
     "start_time": "2023-05-13T12:05:42.784230",
     "status": "completed"
    },
    "tags": []
   },
   "source": [
    "-"
   ]
  },
  {
   "cell_type": "markdown",
   "id": "d75ef3f8",
   "metadata": {
    "papermill": {
     "duration": 0.022029,
     "end_time": "2023-05-13T12:05:42.850728",
     "exception": false,
     "start_time": "2023-05-13T12:05:42.828699",
     "status": "completed"
    },
    "tags": []
   },
   "source": [
    "## 3.4. Feature conversion"
   ]
  },
  {
   "cell_type": "markdown",
   "id": "d1b9c311",
   "metadata": {
    "papermill": {
     "duration": 0.022128,
     "end_time": "2023-05-13T12:05:42.895347",
     "exception": false,
     "start_time": "2023-05-13T12:05:42.873219",
     "status": "completed"
    },
    "tags": []
   },
   "source": [
    "### 3.4.1. Fecha"
   ]
  },
  {
   "cell_type": "markdown",
   "id": "510e7676",
   "metadata": {
    "papermill": {
     "duration": 0.021908,
     "end_time": "2023-05-13T12:05:42.939710",
     "exception": false,
     "start_time": "2023-05-13T12:05:42.917802",
     "status": "completed"
    },
    "tags": []
   },
   "source": [
    "Eliminar los caracteres ' UTC' de los registros de fecha"
   ]
  },
  {
   "cell_type": "code",
   "execution_count": 12,
   "id": "c81dc5d0",
   "metadata": {
    "execution": {
     "iopub.execute_input": "2023-05-13T12:05:42.987450Z",
     "iopub.status.busy": "2023-05-13T12:05:42.986896Z",
     "iopub.status.idle": "2023-05-13T12:05:43.003170Z",
     "shell.execute_reply": "2023-05-13T12:05:43.000934Z"
    },
    "papermill": {
     "duration": 0.045681,
     "end_time": "2023-05-13T12:05:43.007687",
     "exception": false,
     "start_time": "2023-05-13T12:05:42.962006",
     "status": "completed"
    },
    "tags": []
   },
   "outputs": [],
   "source": [
    "df['date'] = df['date'].str.replace(' UTC', '')"
   ]
  },
  {
   "cell_type": "markdown",
   "id": "ed9e5c61",
   "metadata": {
    "papermill": {
     "duration": 0.022321,
     "end_time": "2023-05-13T12:05:43.052952",
     "exception": false,
     "start_time": "2023-05-13T12:05:43.030631",
     "status": "completed"
    },
    "tags": []
   },
   "source": [
    "Debido a que hay formatos combinados en los registros de fecha se crea una función para poder convertirlos a tipo `datetime`"
   ]
  },
  {
   "cell_type": "code",
   "execution_count": 13,
   "id": "3bfcac27",
   "metadata": {
    "execution": {
     "iopub.execute_input": "2023-05-13T12:05:43.101343Z",
     "iopub.status.busy": "2023-05-13T12:05:43.100793Z",
     "iopub.status.idle": "2023-05-13T12:05:43.108735Z",
     "shell.execute_reply": "2023-05-13T12:05:43.107220Z"
    },
    "papermill": {
     "duration": 0.035157,
     "end_time": "2023-05-13T12:05:43.111467",
     "exception": false,
     "start_time": "2023-05-13T12:05:43.076310",
     "status": "completed"
    },
    "tags": []
   },
   "outputs": [],
   "source": [
    "def date_formator(date):\n",
    "    if ':' in date:\n",
    "        return pd.to_datetime(date, format='%a %b %d, %Y %H:%M')\n",
    "    else:\n",
    "        return pd.to_datetime(date, format='%a %b %d, %Y')"
   ]
  },
  {
   "cell_type": "markdown",
   "id": "2dac2ae9",
   "metadata": {
    "papermill": {
     "duration": 0.022208,
     "end_time": "2023-05-13T12:05:43.156299",
     "exception": false,
     "start_time": "2023-05-13T12:05:43.134091",
     "status": "completed"
    },
    "tags": []
   },
   "source": [
    "Convertir columna `date` a tipo datetime"
   ]
  },
  {
   "cell_type": "code",
   "execution_count": 14,
   "id": "b442678b",
   "metadata": {
    "execution": {
     "iopub.execute_input": "2023-05-13T12:05:43.205175Z",
     "iopub.status.busy": "2023-05-13T12:05:43.204614Z",
     "iopub.status.idle": "2023-05-13T12:05:43.849292Z",
     "shell.execute_reply": "2023-05-13T12:05:43.847730Z"
    },
    "papermill": {
     "duration": 0.67316,
     "end_time": "2023-05-13T12:05:43.852821",
     "exception": false,
     "start_time": "2023-05-13T12:05:43.179661",
     "status": "completed"
    },
    "tags": []
   },
   "outputs": [],
   "source": [
    "df['date'] = df['date'].apply(date_formator)"
   ]
  },
  {
   "cell_type": "markdown",
   "id": "5ba909df",
   "metadata": {
    "papermill": {
     "duration": 0.022644,
     "end_time": "2023-05-13T12:05:43.898981",
     "exception": false,
     "start_time": "2023-05-13T12:05:43.876337",
     "status": "completed"
    },
    "tags": []
   },
   "source": [
    "### 3.4.2. Costo"
   ]
  },
  {
   "cell_type": "markdown",
   "id": "3c49fffd",
   "metadata": {
    "papermill": {
     "duration": 0.022177,
     "end_time": "2023-05-13T12:05:43.944711",
     "exception": false,
     "start_time": "2023-05-13T12:05:43.922534",
     "status": "completed"
    },
    "tags": []
   },
   "source": [
    "Convertir los registros de costo a tipo `float`. Para evitar inconvenientes en la conversión se elimina el caracter `,` que representa los millares en el costo."
   ]
  },
  {
   "cell_type": "code",
   "execution_count": 15,
   "id": "e6578cad",
   "metadata": {
    "execution": {
     "iopub.execute_input": "2023-05-13T12:05:43.992900Z",
     "iopub.status.busy": "2023-05-13T12:05:43.992212Z",
     "iopub.status.idle": "2023-05-13T12:05:44.005202Z",
     "shell.execute_reply": "2023-05-13T12:05:44.003453Z"
    },
    "papermill": {
     "duration": 0.041041,
     "end_time": "2023-05-13T12:05:44.008555",
     "exception": false,
     "start_time": "2023-05-13T12:05:43.967514",
     "status": "completed"
    },
    "tags": []
   },
   "outputs": [],
   "source": [
    "df['cost'] = df['cost'].str.replace(',', '')\n",
    "df['cost'] = df['cost'].astype(float)"
   ]
  },
  {
   "cell_type": "markdown",
   "id": "28719a93",
   "metadata": {
    "papermill": {
     "duration": 0.022157,
     "end_time": "2023-05-13T12:05:44.053246",
     "exception": false,
     "start_time": "2023-05-13T12:05:44.031089",
     "status": "completed"
    },
    "tags": []
   },
   "source": [
    "## 3.5. Feature construction"
   ]
  },
  {
   "cell_type": "markdown",
   "id": "e864b19f",
   "metadata": {
    "papermill": {
     "duration": 0.022287,
     "end_time": "2023-05-13T12:05:44.098587",
     "exception": false,
     "start_time": "2023-05-13T12:05:44.076300",
     "status": "completed"
    },
    "tags": []
   },
   "source": [
    "### 3.5.1. Año y mes"
   ]
  },
  {
   "cell_type": "markdown",
   "id": "b6daa608",
   "metadata": {
    "papermill": {
     "duration": 0.022044,
     "end_time": "2023-05-13T12:05:44.143148",
     "exception": false,
     "start_time": "2023-05-13T12:05:44.121104",
     "status": "completed"
    },
    "tags": []
   },
   "source": [
    "Crear columna de año y mes"
   ]
  },
  {
   "cell_type": "code",
   "execution_count": 16,
   "id": "6be3e4f0",
   "metadata": {
    "execution": {
     "iopub.execute_input": "2023-05-13T12:05:44.190700Z",
     "iopub.status.busy": "2023-05-13T12:05:44.190186Z",
     "iopub.status.idle": "2023-05-13T12:05:44.200901Z",
     "shell.execute_reply": "2023-05-13T12:05:44.199361Z"
    },
    "papermill": {
     "duration": 0.038307,
     "end_time": "2023-05-13T12:05:44.203997",
     "exception": false,
     "start_time": "2023-05-13T12:05:44.165690",
     "status": "completed"
    },
    "tags": []
   },
   "outputs": [],
   "source": [
    "df['year'] = df['date'].dt.year\n",
    "df['month'] = df['date'].dt.month"
   ]
  },
  {
   "cell_type": "markdown",
   "id": "2c3577f1",
   "metadata": {
    "papermill": {
     "duration": 0.022392,
     "end_time": "2023-05-13T12:05:44.249778",
     "exception": false,
     "start_time": "2023-05-13T12:05:44.227386",
     "status": "completed"
    },
    "tags": []
   },
   "source": [
    "### 3.5.2. Ubicación lanzamiento"
   ]
  },
  {
   "cell_type": "markdown",
   "id": "12358cc6",
   "metadata": {
    "papermill": {
     "duration": 0.023556,
     "end_time": "2023-05-13T12:05:44.296401",
     "exception": false,
     "start_time": "2023-05-13T12:05:44.272845",
     "status": "completed"
    },
    "tags": []
   },
   "source": [
    "Crear columna con la ubicación del lanzamiento, a partir del centro de lanzamiento"
   ]
  },
  {
   "cell_type": "code",
   "execution_count": 17,
   "id": "fdf9e462",
   "metadata": {
    "execution": {
     "iopub.execute_input": "2023-05-13T12:05:44.344101Z",
     "iopub.status.busy": "2023-05-13T12:05:44.343619Z",
     "iopub.status.idle": "2023-05-13T12:05:44.364468Z",
     "shell.execute_reply": "2023-05-13T12:05:44.363043Z"
    },
    "papermill": {
     "duration": 0.048702,
     "end_time": "2023-05-13T12:05:44.367657",
     "exception": false,
     "start_time": "2023-05-13T12:05:44.318955",
     "status": "completed"
    },
    "tags": []
   },
   "outputs": [],
   "source": [
    "df['launch_location'] = df['launch_facility'].str.split(', ').str[-1]"
   ]
  },
  {
   "cell_type": "markdown",
   "id": "8859436d",
   "metadata": {
    "papermill": {
     "duration": 0.022099,
     "end_time": "2023-05-13T12:05:44.412403",
     "exception": false,
     "start_time": "2023-05-13T12:05:44.390304",
     "status": "completed"
    },
    "tags": []
   },
   "source": [
    "### 3.5.3. Cohete y payload"
   ]
  },
  {
   "cell_type": "markdown",
   "id": "a294f99d",
   "metadata": {
    "papermill": {
     "duration": 0.022096,
     "end_time": "2023-05-13T12:05:44.457641",
     "exception": false,
     "start_time": "2023-05-13T12:05:44.435545",
     "status": "completed"
    },
    "tags": []
   },
   "source": [
    "Dividir la columna `detail` en dos. Una para el nombre del cohete `rocket` y otra para la carga `payload` que lleva."
   ]
  },
  {
   "cell_type": "code",
   "execution_count": 18,
   "id": "b24aef7a",
   "metadata": {
    "execution": {
     "iopub.execute_input": "2023-05-13T12:05:44.505878Z",
     "iopub.status.busy": "2023-05-13T12:05:44.505372Z",
     "iopub.status.idle": "2023-05-13T12:05:44.531130Z",
     "shell.execute_reply": "2023-05-13T12:05:44.529694Z"
    },
    "papermill": {
     "duration": 0.054335,
     "end_time": "2023-05-13T12:05:44.534555",
     "exception": false,
     "start_time": "2023-05-13T12:05:44.480220",
     "status": "completed"
    },
    "tags": []
   },
   "outputs": [],
   "source": [
    "df[['rocket', 'payload']] = df['detail'].str.split('|', expand=True)\n",
    "df.drop('detail', axis=1, inplace=True)"
   ]
  },
  {
   "cell_type": "markdown",
   "id": "a5cb5979",
   "metadata": {
    "papermill": {
     "duration": 0.023225,
     "end_time": "2023-05-13T12:05:44.580535",
     "exception": false,
     "start_time": "2023-05-13T12:05:44.557310",
     "status": "completed"
    },
    "tags": []
   },
   "source": [
    "## 3.6. Value renaming"
   ]
  },
  {
   "cell_type": "markdown",
   "id": "8a956f14",
   "metadata": {
    "papermill": {
     "duration": 0.021973,
     "end_time": "2023-05-13T12:05:44.625985",
     "exception": false,
     "start_time": "2023-05-13T12:05:44.604012",
     "status": "completed"
    },
    "tags": []
   },
   "source": [
    "Renombrar los sitios de lanzamiento, a su ubicación en el respectivos País"
   ]
  },
  {
   "cell_type": "code",
   "execution_count": 19,
   "id": "103acc0f",
   "metadata": {
    "execution": {
     "iopub.execute_input": "2023-05-13T12:05:44.674447Z",
     "iopub.status.busy": "2023-05-13T12:05:44.673221Z",
     "iopub.status.idle": "2023-05-13T12:05:44.685831Z",
     "shell.execute_reply": "2023-05-13T12:05:44.684529Z"
    },
    "papermill": {
     "duration": 0.04035,
     "end_time": "2023-05-13T12:05:44.688657",
     "exception": false,
     "start_time": "2023-05-13T12:05:44.648307",
     "status": "completed"
    },
    "tags": []
   },
   "outputs": [],
   "source": [
    "countries_dict = {\n",
    "    'New Mexico' : 'USA',\n",
    "    \"Yellow Sea\": 'China',\n",
    "    \"Shahrud Missile Test Site\": \"Iran\",\n",
    "    \"Pacific Missile Range Facility\": 'USA',\n",
    "    \"Barents Sea\": 'Russia',\n",
    "    \"Gran Canaria\": 'USA'\n",
    "}\n",
    "\n",
    "df['launch_location'] = df['launch_location'].replace(countries_dict)"
   ]
  },
  {
   "cell_type": "markdown",
   "id": "d7b8d08f",
   "metadata": {
    "papermill": {
     "duration": 0.022149,
     "end_time": "2023-05-13T12:05:44.733213",
     "exception": false,
     "start_time": "2023-05-13T12:05:44.711064",
     "status": "completed"
    },
    "tags": []
   },
   "source": [
    "## 3.7. Data reordering"
   ]
  },
  {
   "cell_type": "code",
   "execution_count": 20,
   "id": "9a2ecc98",
   "metadata": {
    "execution": {
     "iopub.execute_input": "2023-05-13T12:05:44.781212Z",
     "iopub.status.busy": "2023-05-13T12:05:44.780715Z",
     "iopub.status.idle": "2023-05-13T12:05:44.792213Z",
     "shell.execute_reply": "2023-05-13T12:05:44.790578Z"
    },
    "papermill": {
     "duration": 0.03926,
     "end_time": "2023-05-13T12:05:44.795528",
     "exception": false,
     "start_time": "2023-05-13T12:05:44.756268",
     "status": "completed"
    },
    "tags": []
   },
   "outputs": [],
   "source": [
    "df = df.sort_values('date')\n",
    "df = df.reset_index(drop=True)"
   ]
  },
  {
   "cell_type": "markdown",
   "id": "4d0b89a4",
   "metadata": {
    "papermill": {
     "duration": 0.022243,
     "end_time": "2023-05-13T12:05:44.840904",
     "exception": false,
     "start_time": "2023-05-13T12:05:44.818661",
     "status": "completed"
    },
    "tags": []
   },
   "source": [
    "## 3.8. Dataframe preprocesado"
   ]
  },
  {
   "cell_type": "code",
   "execution_count": 21,
   "id": "164e10cd",
   "metadata": {
    "execution": {
     "iopub.execute_input": "2023-05-13T12:05:44.888787Z",
     "iopub.status.busy": "2023-05-13T12:05:44.888322Z",
     "iopub.status.idle": "2023-05-13T12:05:44.908974Z",
     "shell.execute_reply": "2023-05-13T12:05:44.907518Z"
    },
    "papermill": {
     "duration": 0.048315,
     "end_time": "2023-05-13T12:05:44.912025",
     "exception": false,
     "start_time": "2023-05-13T12:05:44.863710",
     "status": "completed"
    },
    "tags": []
   },
   "outputs": [
    {
     "data": {
      "text/html": [
       "<div>\n",
       "<style scoped>\n",
       "    .dataframe tbody tr th:only-of-type {\n",
       "        vertical-align: middle;\n",
       "    }\n",
       "\n",
       "    .dataframe tbody tr th {\n",
       "        vertical-align: top;\n",
       "    }\n",
       "\n",
       "    .dataframe thead th {\n",
       "        text-align: right;\n",
       "    }\n",
       "</style>\n",
       "<table border=\"1\" class=\"dataframe\">\n",
       "  <thead>\n",
       "    <tr style=\"text-align: right;\">\n",
       "      <th></th>\n",
       "      <th>company</th>\n",
       "      <th>launch_facility</th>\n",
       "      <th>date</th>\n",
       "      <th>rocket_status</th>\n",
       "      <th>cost</th>\n",
       "      <th>mission_status</th>\n",
       "      <th>year</th>\n",
       "      <th>month</th>\n",
       "      <th>launch_location</th>\n",
       "      <th>rocket</th>\n",
       "      <th>payload</th>\n",
       "    </tr>\n",
       "  </thead>\n",
       "  <tbody>\n",
       "    <tr>\n",
       "      <th>0</th>\n",
       "      <td>RVSN USSR</td>\n",
       "      <td>Site 1/5, Baikonur Cosmodrome, Kazakhstan</td>\n",
       "      <td>1957-10-04 19:28:00</td>\n",
       "      <td>StatusRetired</td>\n",
       "      <td>NaN</td>\n",
       "      <td>Success</td>\n",
       "      <td>1957</td>\n",
       "      <td>10</td>\n",
       "      <td>Kazakhstan</td>\n",
       "      <td>Sputnik 8K71PS</td>\n",
       "      <td>Sputnik-1</td>\n",
       "    </tr>\n",
       "    <tr>\n",
       "      <th>1</th>\n",
       "      <td>RVSN USSR</td>\n",
       "      <td>Site 1/5, Baikonur Cosmodrome, Kazakhstan</td>\n",
       "      <td>1957-11-03 02:30:00</td>\n",
       "      <td>StatusRetired</td>\n",
       "      <td>NaN</td>\n",
       "      <td>Success</td>\n",
       "      <td>1957</td>\n",
       "      <td>11</td>\n",
       "      <td>Kazakhstan</td>\n",
       "      <td>Sputnik 8K71PS</td>\n",
       "      <td>Sputnik-2</td>\n",
       "    </tr>\n",
       "    <tr>\n",
       "      <th>2</th>\n",
       "      <td>US Navy</td>\n",
       "      <td>LC-18A, Cape Canaveral AFS, Florida, USA</td>\n",
       "      <td>1957-12-06 16:44:00</td>\n",
       "      <td>StatusRetired</td>\n",
       "      <td>NaN</td>\n",
       "      <td>Failure</td>\n",
       "      <td>1957</td>\n",
       "      <td>12</td>\n",
       "      <td>USA</td>\n",
       "      <td>Vanguard</td>\n",
       "      <td>Vanguard TV3</td>\n",
       "    </tr>\n",
       "  </tbody>\n",
       "</table>\n",
       "</div>"
      ],
      "text/plain": [
       "     company                            launch_facility                date  \\\n",
       "0  RVSN USSR  Site 1/5, Baikonur Cosmodrome, Kazakhstan 1957-10-04 19:28:00   \n",
       "1  RVSN USSR  Site 1/5, Baikonur Cosmodrome, Kazakhstan 1957-11-03 02:30:00   \n",
       "2    US Navy   LC-18A, Cape Canaveral AFS, Florida, USA 1957-12-06 16:44:00   \n",
       "\n",
       "   rocket_status  cost mission_status  year  month launch_location  \\\n",
       "0  StatusRetired   NaN        Success  1957     10      Kazakhstan   \n",
       "1  StatusRetired   NaN        Success  1957     11      Kazakhstan   \n",
       "2  StatusRetired   NaN        Failure  1957     12             USA   \n",
       "\n",
       "            rocket        payload  \n",
       "0  Sputnik 8K71PS       Sputnik-1  \n",
       "1  Sputnik 8K71PS       Sputnik-2  \n",
       "2        Vanguard    Vanguard TV3  "
      ]
     },
     "execution_count": 21,
     "metadata": {},
     "output_type": "execute_result"
    }
   ],
   "source": [
    "df.head(3)"
   ]
  },
  {
   "cell_type": "code",
   "execution_count": 22,
   "id": "bc982bc9",
   "metadata": {
    "execution": {
     "iopub.execute_input": "2023-05-13T12:05:44.961606Z",
     "iopub.status.busy": "2023-05-13T12:05:44.961083Z",
     "iopub.status.idle": "2023-05-13T12:05:44.982040Z",
     "shell.execute_reply": "2023-05-13T12:05:44.980537Z"
    },
    "papermill": {
     "duration": 0.049983,
     "end_time": "2023-05-13T12:05:44.985524",
     "exception": false,
     "start_time": "2023-05-13T12:05:44.935541",
     "status": "completed"
    },
    "tags": []
   },
   "outputs": [
    {
     "data": {
      "text/html": [
       "<div>\n",
       "<style scoped>\n",
       "    .dataframe tbody tr th:only-of-type {\n",
       "        vertical-align: middle;\n",
       "    }\n",
       "\n",
       "    .dataframe tbody tr th {\n",
       "        vertical-align: top;\n",
       "    }\n",
       "\n",
       "    .dataframe thead th {\n",
       "        text-align: right;\n",
       "    }\n",
       "</style>\n",
       "<table border=\"1\" class=\"dataframe\">\n",
       "  <thead>\n",
       "    <tr style=\"text-align: right;\">\n",
       "      <th></th>\n",
       "      <th>company</th>\n",
       "      <th>launch_facility</th>\n",
       "      <th>date</th>\n",
       "      <th>rocket_status</th>\n",
       "      <th>cost</th>\n",
       "      <th>mission_status</th>\n",
       "      <th>year</th>\n",
       "      <th>month</th>\n",
       "      <th>launch_location</th>\n",
       "      <th>rocket</th>\n",
       "      <th>payload</th>\n",
       "    </tr>\n",
       "  </thead>\n",
       "  <tbody>\n",
       "    <tr>\n",
       "      <th>4321</th>\n",
       "      <td>SpaceX</td>\n",
       "      <td>Pad A, Boca Chica, Texas, USA</td>\n",
       "      <td>2020-08-04 23:57:00</td>\n",
       "      <td>StatusActive</td>\n",
       "      <td>NaN</td>\n",
       "      <td>Success</td>\n",
       "      <td>2020</td>\n",
       "      <td>8</td>\n",
       "      <td>USA</td>\n",
       "      <td>Starship Prototype</td>\n",
       "      <td>150 Meter Hop</td>\n",
       "    </tr>\n",
       "    <tr>\n",
       "      <th>4322</th>\n",
       "      <td>CASC</td>\n",
       "      <td>Site 9401 (SLS-2), Jiuquan Satellite Launch Ce...</td>\n",
       "      <td>2020-08-06 04:01:00</td>\n",
       "      <td>StatusActive</td>\n",
       "      <td>29.75</td>\n",
       "      <td>Success</td>\n",
       "      <td>2020</td>\n",
       "      <td>8</td>\n",
       "      <td>China</td>\n",
       "      <td>Long March 2D</td>\n",
       "      <td>Gaofen-9 04 &amp; Q-SAT</td>\n",
       "    </tr>\n",
       "    <tr>\n",
       "      <th>4323</th>\n",
       "      <td>SpaceX</td>\n",
       "      <td>LC-39A, Kennedy Space Center, Florida, USA</td>\n",
       "      <td>2020-08-07 05:12:00</td>\n",
       "      <td>StatusActive</td>\n",
       "      <td>50.00</td>\n",
       "      <td>Success</td>\n",
       "      <td>2020</td>\n",
       "      <td>8</td>\n",
       "      <td>USA</td>\n",
       "      <td>Falcon 9 Block 5</td>\n",
       "      <td>Starlink V1 L9 &amp; BlackSky</td>\n",
       "    </tr>\n",
       "  </tbody>\n",
       "</table>\n",
       "</div>"
      ],
      "text/plain": [
       "     company                                    launch_facility  \\\n",
       "4321  SpaceX                      Pad A, Boca Chica, Texas, USA   \n",
       "4322    CASC  Site 9401 (SLS-2), Jiuquan Satellite Launch Ce...   \n",
       "4323  SpaceX         LC-39A, Kennedy Space Center, Florida, USA   \n",
       "\n",
       "                    date rocket_status   cost mission_status  year  month  \\\n",
       "4321 2020-08-04 23:57:00  StatusActive    NaN        Success  2020      8   \n",
       "4322 2020-08-06 04:01:00  StatusActive  29.75        Success  2020      8   \n",
       "4323 2020-08-07 05:12:00  StatusActive  50.00        Success  2020      8   \n",
       "\n",
       "     launch_location               rocket                     payload  \n",
       "4321             USA  Starship Prototype                150 Meter Hop  \n",
       "4322           China       Long March 2D          Gaofen-9 04 & Q-SAT  \n",
       "4323             USA    Falcon 9 Block 5    Starlink V1 L9 & BlackSky  "
      ]
     },
     "execution_count": 22,
     "metadata": {},
     "output_type": "execute_result"
    }
   ],
   "source": [
    "df.tail(3)"
   ]
  },
  {
   "cell_type": "code",
   "execution_count": 23,
   "id": "1d9ed23a",
   "metadata": {
    "execution": {
     "iopub.execute_input": "2023-05-13T12:05:45.037581Z",
     "iopub.status.busy": "2023-05-13T12:05:45.036390Z",
     "iopub.status.idle": "2023-05-13T12:05:45.046249Z",
     "shell.execute_reply": "2023-05-13T12:05:45.044732Z"
    },
    "papermill": {
     "duration": 0.038196,
     "end_time": "2023-05-13T12:05:45.049132",
     "exception": false,
     "start_time": "2023-05-13T12:05:45.010936",
     "status": "completed"
    },
    "tags": []
   },
   "outputs": [
    {
     "data": {
      "text/plain": [
       "(4324, 11)"
      ]
     },
     "execution_count": 23,
     "metadata": {},
     "output_type": "execute_result"
    }
   ],
   "source": [
    "df.shape"
   ]
  },
  {
   "cell_type": "code",
   "execution_count": 24,
   "id": "ef8ab4f4",
   "metadata": {
    "execution": {
     "iopub.execute_input": "2023-05-13T12:05:45.099331Z",
     "iopub.status.busy": "2023-05-13T12:05:45.098907Z",
     "iopub.status.idle": "2023-05-13T12:05:45.122459Z",
     "shell.execute_reply": "2023-05-13T12:05:45.120376Z"
    },
    "papermill": {
     "duration": 0.052726,
     "end_time": "2023-05-13T12:05:45.126064",
     "exception": false,
     "start_time": "2023-05-13T12:05:45.073338",
     "status": "completed"
    },
    "tags": []
   },
   "outputs": [
    {
     "name": "stdout",
     "output_type": "stream",
     "text": [
      "<class 'pandas.core.frame.DataFrame'>\n",
      "RangeIndex: 4324 entries, 0 to 4323\n",
      "Data columns (total 11 columns):\n",
      " #   Column           Non-Null Count  Dtype         \n",
      "---  ------           --------------  -----         \n",
      " 0   company          4324 non-null   object        \n",
      " 1   launch_facility  4324 non-null   object        \n",
      " 2   date             4324 non-null   datetime64[ns]\n",
      " 3   rocket_status    4324 non-null   object        \n",
      " 4   cost             964 non-null    float64       \n",
      " 5   mission_status   4324 non-null   object        \n",
      " 6   year             4324 non-null   int64         \n",
      " 7   month            4324 non-null   int64         \n",
      " 8   launch_location  4324 non-null   object        \n",
      " 9   rocket           4324 non-null   object        \n",
      " 10  payload          4324 non-null   object        \n",
      "dtypes: datetime64[ns](1), float64(1), int64(2), object(7)\n",
      "memory usage: 371.7+ KB\n"
     ]
    }
   ],
   "source": [
    "df.info()"
   ]
  },
  {
   "cell_type": "markdown",
   "id": "05d245c0",
   "metadata": {
    "papermill": {
     "duration": 0.025857,
     "end_time": "2023-05-13T12:05:45.176599",
     "exception": false,
     "start_time": "2023-05-13T12:05:45.150742",
     "status": "completed"
    },
    "tags": []
   },
   "source": [
    "Comprobación de valores faltantes"
   ]
  },
  {
   "cell_type": "code",
   "execution_count": 25,
   "id": "732e24fc",
   "metadata": {
    "execution": {
     "iopub.execute_input": "2023-05-13T12:05:45.229928Z",
     "iopub.status.busy": "2023-05-13T12:05:45.228870Z",
     "iopub.status.idle": "2023-05-13T12:05:45.247308Z",
     "shell.execute_reply": "2023-05-13T12:05:45.245513Z"
    },
    "papermill": {
     "duration": 0.049727,
     "end_time": "2023-05-13T12:05:45.250983",
     "exception": false,
     "start_time": "2023-05-13T12:05:45.201256",
     "status": "completed"
    },
    "tags": []
   },
   "outputs": [
    {
     "data": {
      "text/plain": [
       "company               0\n",
       "launch_facility       0\n",
       "date                  0\n",
       "rocket_status         0\n",
       "cost               3360\n",
       "mission_status        0\n",
       "year                  0\n",
       "month                 0\n",
       "launch_location       0\n",
       "rocket                0\n",
       "payload               0\n",
       "dtype: int64"
      ]
     },
     "execution_count": 25,
     "metadata": {},
     "output_type": "execute_result"
    }
   ],
   "source": [
    "df.isnull().sum(axis=0)"
   ]
  },
  {
   "cell_type": "code",
   "execution_count": 26,
   "id": "33a83047",
   "metadata": {
    "execution": {
     "iopub.execute_input": "2023-05-13T12:05:45.303254Z",
     "iopub.status.busy": "2023-05-13T12:05:45.302806Z",
     "iopub.status.idle": "2023-05-13T12:05:45.314146Z",
     "shell.execute_reply": "2023-05-13T12:05:45.312258Z"
    },
    "papermill": {
     "duration": 0.04101,
     "end_time": "2023-05-13T12:05:45.317115",
     "exception": false,
     "start_time": "2023-05-13T12:05:45.276105",
     "status": "completed"
    },
    "tags": []
   },
   "outputs": [
    {
     "data": {
      "text/plain": [
       "array(['RVSN USSR', 'US Navy', 'AMBA', 'US Air Force', 'NASA',\n",
       "       'General Dynamics', 'Martin Marietta', \"Arm??e de l'Air\", 'UT',\n",
       "       'ASI', 'OKB-586', 'CECLES', 'Yuzhmash', 'CASC', 'CNES',\n",
       "       'Roscosmos', 'ISAS', 'RAE', 'MHI', 'ISRO', 'ESA', 'Arianespace',\n",
       "       'IAI', 'Boeing', 'Douglas', 'Northrop', 'Lockheed', 'VKS RF',\n",
       "       'MITT', 'ILS', 'EER', 'AEB', 'SRC', 'KCST', 'Sea Launch',\n",
       "       'Kosmotras', 'Eurockot', 'CASIC', 'Starsem', 'SpaceX', 'ULA',\n",
       "       'Land Launch', 'ISA', 'KARI', 'JAXA', 'Khrunichev', 'Blue Origin',\n",
       "       'Sandia', 'ExPace', 'Rocket Lab', 'Exos', 'Landspace', 'OneSpace',\n",
       "       'i-Space', 'IRGC', 'Virgin Orbit'], dtype=object)"
      ]
     },
     "execution_count": 26,
     "metadata": {},
     "output_type": "execute_result"
    }
   ],
   "source": [
    "df['company'].unique()"
   ]
  },
  {
   "cell_type": "code",
   "execution_count": 27,
   "id": "1a0c774a",
   "metadata": {
    "execution": {
     "iopub.execute_input": "2023-05-13T12:05:45.367683Z",
     "iopub.status.busy": "2023-05-13T12:05:45.366581Z",
     "iopub.status.idle": "2023-05-13T12:05:45.378358Z",
     "shell.execute_reply": "2023-05-13T12:05:45.376582Z"
    },
    "papermill": {
     "duration": 0.040742,
     "end_time": "2023-05-13T12:05:45.381718",
     "exception": false,
     "start_time": "2023-05-13T12:05:45.340976",
     "status": "completed"
    },
    "tags": []
   },
   "outputs": [
    {
     "data": {
      "text/plain": [
       "array(['Kazakhstan', 'USA', 'Russia', 'France', 'Japan', 'Kenya',\n",
       "       'Australia', 'China', 'India', 'Israel', 'Brazil', 'North Korea',\n",
       "       'Pacific Ocean', 'Iran', 'South Korea', 'New Zealand'],\n",
       "      dtype=object)"
      ]
     },
     "execution_count": 27,
     "metadata": {},
     "output_type": "execute_result"
    }
   ],
   "source": [
    "df['launch_location'].unique()"
   ]
  },
  {
   "cell_type": "markdown",
   "id": "4f3468ca",
   "metadata": {
    "papermill": {
     "duration": 0.023558,
     "end_time": "2023-05-13T12:05:45.429360",
     "exception": false,
     "start_time": "2023-05-13T12:05:45.405802",
     "status": "completed"
    },
    "tags": []
   },
   "source": [
    "# 4. Análisis de cohetes"
   ]
  },
  {
   "cell_type": "code",
   "execution_count": 28,
   "id": "6b0c5fb8",
   "metadata": {
    "_kg_hide-input": true,
    "execution": {
     "iopub.execute_input": "2023-05-13T12:05:45.482651Z",
     "iopub.status.busy": "2023-05-13T12:05:45.482118Z",
     "iopub.status.idle": "2023-05-13T12:05:45.499578Z",
     "shell.execute_reply": "2023-05-13T12:05:45.497895Z"
    },
    "jupyter": {
     "source_hidden": true
    },
    "papermill": {
     "duration": 0.048453,
     "end_time": "2023-05-13T12:05:45.502771",
     "exception": false,
     "start_time": "2023-05-13T12:05:45.454318",
     "status": "completed"
    },
    "tags": []
   },
   "outputs": [
    {
     "data": {
      "text/html": [
       "<div>\n",
       "<style scoped>\n",
       "    .dataframe tbody tr th:only-of-type {\n",
       "        vertical-align: middle;\n",
       "    }\n",
       "\n",
       "    .dataframe tbody tr th {\n",
       "        vertical-align: top;\n",
       "    }\n",
       "\n",
       "    .dataframe thead th {\n",
       "        text-align: right;\n",
       "    }\n",
       "</style>\n",
       "<table border=\"1\" class=\"dataframe\">\n",
       "  <thead>\n",
       "    <tr style=\"text-align: right;\">\n",
       "      <th></th>\n",
       "      <th>rocket_status</th>\n",
       "      <th>conteo</th>\n",
       "    </tr>\n",
       "  </thead>\n",
       "  <tbody>\n",
       "    <tr>\n",
       "      <th>0</th>\n",
       "      <td>StatusActive</td>\n",
       "      <td>790</td>\n",
       "    </tr>\n",
       "    <tr>\n",
       "      <th>1</th>\n",
       "      <td>StatusRetired</td>\n",
       "      <td>3534</td>\n",
       "    </tr>\n",
       "  </tbody>\n",
       "</table>\n",
       "</div>"
      ],
      "text/plain": [
       "   rocket_status  conteo\n",
       "0   StatusActive     790\n",
       "1  StatusRetired    3534"
      ]
     },
     "execution_count": 28,
     "metadata": {},
     "output_type": "execute_result"
    }
   ],
   "source": [
    "# df['rocket_status'].value_counts()\n",
    "ds = df.groupby('rocket_status').size()\n",
    "ds = ds.reset_index(name='conteo')\n",
    "ds"
   ]
  },
  {
   "cell_type": "code",
   "execution_count": 29,
   "id": "26c5afb5",
   "metadata": {
    "_kg_hide-input": true,
    "execution": {
     "iopub.execute_input": "2023-05-13T12:05:45.555042Z",
     "iopub.status.busy": "2023-05-13T12:05:45.553609Z",
     "iopub.status.idle": "2023-05-13T12:05:45.826330Z",
     "shell.execute_reply": "2023-05-13T12:05:45.824364Z"
    },
    "jupyter": {
     "source_hidden": true
    },
    "papermill": {
     "duration": 0.303772,
     "end_time": "2023-05-13T12:05:45.831208",
     "exception": false,
     "start_time": "2023-05-13T12:05:45.527436",
     "status": "completed"
    },
    "tags": []
   },
   "outputs": [
    {
     "data": {
      "image/png": "[encoded data removed]",
      "text/plain": [
       "<Figure size 400x400 with 1 Axes>"
      ]
     },
     "metadata": {},
     "output_type": "display_data"
    }
   ],
   "source": [
    "fig, ax = plt.subplots(figsize=(4, 4))\n",
    "fig.suptitle('Estado de los Cohetes')\n",
    "\n",
    "ax.pie(x=ds['conteo'], labels=ds['rocket_status'], autopct='%.1f%%', startangle=90, colors=sns.color_palette(\"pastel\"))\n",
    "\n",
    "plt.tight_layout()"
   ]
  },
  {
   "cell_type": "markdown",
   "id": "769d83c4",
   "metadata": {
    "papermill": {
     "duration": 0.024304,
     "end_time": "2023-05-13T12:05:45.897959",
     "exception": false,
     "start_time": "2023-05-13T12:05:45.873655",
     "status": "completed"
    },
    "tags": []
   },
   "source": [
    "## Success rocket analysis"
   ]
  },
  {
   "cell_type": "markdown",
   "id": "492ee910",
   "metadata": {
    "papermill": {
     "duration": 0.024245,
     "end_time": "2023-05-13T12:05:45.946833",
     "exception": false,
     "start_time": "2023-05-13T12:05:45.922588",
     "status": "completed"
    },
    "tags": []
   },
   "source": [
    "## Failure rocket analysis"
   ]
  },
  {
   "cell_type": "markdown",
   "id": "eb898d9f",
   "metadata": {
    "papermill": {
     "duration": 0.024827,
     "end_time": "2023-05-13T12:05:45.996436",
     "exception": false,
     "start_time": "2023-05-13T12:05:45.971609",
     "status": "completed"
    },
    "tags": []
   },
   "source": [
    "# 5. Análisis de misiones"
   ]
  },
  {
   "cell_type": "markdown",
   "id": "c0ddfeea",
   "metadata": {
    "papermill": {
     "duration": 0.024244,
     "end_time": "2023-05-13T12:05:46.047660",
     "exception": false,
     "start_time": "2023-05-13T12:05:46.023416",
     "status": "completed"
    },
    "tags": []
   },
   "source": [
    "## Evolución del número de misiones"
   ]
  },
  {
   "cell_type": "code",
   "execution_count": 30,
   "id": "4af5559c",
   "metadata": {
    "_kg_hide-input": true,
    "execution": {
     "iopub.execute_input": "2023-05-13T12:05:46.101450Z",
     "iopub.status.busy": "2023-05-13T12:05:46.100561Z",
     "iopub.status.idle": "2023-05-13T12:05:46.116188Z",
     "shell.execute_reply": "2023-05-13T12:05:46.114639Z"
    },
    "jupyter": {
     "source_hidden": true
    },
    "papermill": {
     "duration": 0.047048,
     "end_time": "2023-05-13T12:05:46.119391",
     "exception": false,
     "start_time": "2023-05-13T12:05:46.072343",
     "status": "completed"
    },
    "tags": []
   },
   "outputs": [
    {
     "data": {
      "text/html": [
       "<div>\n",
       "<style scoped>\n",
       "    .dataframe tbody tr th:only-of-type {\n",
       "        vertical-align: middle;\n",
       "    }\n",
       "\n",
       "    .dataframe tbody tr th {\n",
       "        vertical-align: top;\n",
       "    }\n",
       "\n",
       "    .dataframe thead th {\n",
       "        text-align: right;\n",
       "    }\n",
       "</style>\n",
       "<table border=\"1\" class=\"dataframe\">\n",
       "  <thead>\n",
       "    <tr style=\"text-align: right;\">\n",
       "      <th></th>\n",
       "      <th>year</th>\n",
       "      <th>conteo</th>\n",
       "    </tr>\n",
       "  </thead>\n",
       "  <tbody>\n",
       "    <tr>\n",
       "      <th>0</th>\n",
       "      <td>1957</td>\n",
       "      <td>3</td>\n",
       "    </tr>\n",
       "    <tr>\n",
       "      <th>1</th>\n",
       "      <td>1958</td>\n",
       "      <td>28</td>\n",
       "    </tr>\n",
       "    <tr>\n",
       "      <th>2</th>\n",
       "      <td>1959</td>\n",
       "      <td>20</td>\n",
       "    </tr>\n",
       "    <tr>\n",
       "      <th>3</th>\n",
       "      <td>1960</td>\n",
       "      <td>39</td>\n",
       "    </tr>\n",
       "    <tr>\n",
       "      <th>4</th>\n",
       "      <td>1961</td>\n",
       "      <td>52</td>\n",
       "    </tr>\n",
       "  </tbody>\n",
       "</table>\n",
       "</div>"
      ],
      "text/plain": [
       "   year  conteo\n",
       "0  1957       3\n",
       "1  1958      28\n",
       "2  1959      20\n",
       "3  1960      39\n",
       "4  1961      52"
      ]
     },
     "execution_count": 30,
     "metadata": {},
     "output_type": "execute_result"
    }
   ],
   "source": [
    "ds = df.groupby('year').size()\n",
    "ds = ds.reset_index(name='conteo')\n",
    "ds.head()"
   ]
  },
  {
   "cell_type": "code",
   "execution_count": 31,
   "id": "3a17d58e",
   "metadata": {
    "_kg_hide-input": true,
    "execution": {
     "iopub.execute_input": "2023-05-13T12:05:46.172952Z",
     "iopub.status.busy": "2023-05-13T12:05:46.172387Z",
     "iopub.status.idle": "2023-05-13T12:05:46.553905Z",
     "shell.execute_reply": "2023-05-13T12:05:46.552487Z"
    },
    "jupyter": {
     "source_hidden": true
    },
    "papermill": {
     "duration": 0.412034,
     "end_time": "2023-05-13T12:05:46.556660",
     "exception": false,
     "start_time": "2023-05-13T12:05:46.144626",
     "status": "completed"
    },
    "tags": []
   },
   "outputs": [
    {
     "data": {
      "image/png": "[encoded data removed]",
      "text/plain": [
       "<Figure size 1000x400 with 1 Axes>"
      ]
     },
     "metadata": {},
     "output_type": "display_data"
    }
   ],
   "source": [
    "fig, ax = plt.subplots(figsize=(10, 4))\n",
    "fig.suptitle('Evolución del número de misiones por año')\n",
    "\n",
    "sns.lineplot(data=ds, x='year', y='conteo')\n",
    "ax.set_xlabel('Año')\n",
    "ax.set_ylabel('Número de misiones')\n",
    "ax.set_xlim(1957, 2020)\n",
    "\n",
    "plt.tight_layout()"
   ]
  },
  {
   "cell_type": "markdown",
   "id": "da18e8de",
   "metadata": {
    "execution": {
     "iopub.execute_input": "2023-05-13T12:00:54.529407Z",
     "iopub.status.busy": "2023-05-13T12:00:54.528902Z",
     "iopub.status.idle": "2023-05-13T12:00:54.535414Z",
     "shell.execute_reply": "2023-05-13T12:00:54.534044Z",
     "shell.execute_reply.started": "2023-05-13T12:00:54.529361Z"
    },
    "papermill": {
     "duration": 0.025374,
     "end_time": "2023-05-13T12:05:46.607888",
     "exception": false,
     "start_time": "2023-05-13T12:05:46.582514",
     "status": "completed"
    },
    "tags": []
   },
   "source": [
    "## Estado de las misiones"
   ]
  },
  {
   "cell_type": "code",
   "execution_count": 32,
   "id": "9e15b7a7",
   "metadata": {
    "_kg_hide-input": true,
    "execution": {
     "iopub.execute_input": "2023-05-13T12:05:46.663588Z",
     "iopub.status.busy": "2023-05-13T12:05:46.663115Z",
     "iopub.status.idle": "2023-05-13T12:05:46.678712Z",
     "shell.execute_reply": "2023-05-13T12:05:46.677299Z"
    },
    "jupyter": {
     "source_hidden": true
    },
    "papermill": {
     "duration": 0.047362,
     "end_time": "2023-05-13T12:05:46.681577",
     "exception": false,
     "start_time": "2023-05-13T12:05:46.634215",
     "status": "completed"
    },
    "tags": []
   },
   "outputs": [
    {
     "data": {
      "text/html": [
       "<div>\n",
       "<style scoped>\n",
       "    .dataframe tbody tr th:only-of-type {\n",
       "        vertical-align: middle;\n",
       "    }\n",
       "\n",
       "    .dataframe tbody tr th {\n",
       "        vertical-align: top;\n",
       "    }\n",
       "\n",
       "    .dataframe thead th {\n",
       "        text-align: right;\n",
       "    }\n",
       "</style>\n",
       "<table border=\"1\" class=\"dataframe\">\n",
       "  <thead>\n",
       "    <tr style=\"text-align: right;\">\n",
       "      <th></th>\n",
       "      <th>mission_status</th>\n",
       "      <th>conteo</th>\n",
       "    </tr>\n",
       "  </thead>\n",
       "  <tbody>\n",
       "    <tr>\n",
       "      <th>0</th>\n",
       "      <td>Failure</td>\n",
       "      <td>339</td>\n",
       "    </tr>\n",
       "    <tr>\n",
       "      <th>1</th>\n",
       "      <td>Partial Failure</td>\n",
       "      <td>102</td>\n",
       "    </tr>\n",
       "    <tr>\n",
       "      <th>2</th>\n",
       "      <td>Prelaunch Failure</td>\n",
       "      <td>4</td>\n",
       "    </tr>\n",
       "    <tr>\n",
       "      <th>3</th>\n",
       "      <td>Success</td>\n",
       "      <td>3879</td>\n",
       "    </tr>\n",
       "  </tbody>\n",
       "</table>\n",
       "</div>"
      ],
      "text/plain": [
       "      mission_status  conteo\n",
       "0            Failure     339\n",
       "1    Partial Failure     102\n",
       "2  Prelaunch Failure       4\n",
       "3            Success    3879"
      ]
     },
     "execution_count": 32,
     "metadata": {},
     "output_type": "execute_result"
    }
   ],
   "source": [
    "ds = df.groupby('mission_status').size()\n",
    "ds = ds.reset_index(name='conteo')\n",
    "ds"
   ]
  },
  {
   "cell_type": "code",
   "execution_count": 33,
   "id": "eee4d2da",
   "metadata": {
    "execution": {
     "iopub.execute_input": "2023-05-13T12:05:46.736268Z",
     "iopub.status.busy": "2023-05-13T12:05:46.735822Z",
     "iopub.status.idle": "2023-05-13T12:05:47.032429Z",
     "shell.execute_reply": "2023-05-13T12:05:47.031491Z"
    },
    "jupyter": {
     "source_hidden": true
    },
    "papermill": {
     "duration": 0.327448,
     "end_time": "2023-05-13T12:05:47.035212",
     "exception": false,
     "start_time": "2023-05-13T12:05:46.707764",
     "status": "completed"
    },
    "tags": []
   },
   "outputs": [
    {
     "data": {
      "image/png": "[encoded data removed]",
      "text/plain": [
       "<Figure size 600x400 with 1 Axes>"
      ]
     },
     "metadata": {},
     "output_type": "display_data"
    }
   ],
   "source": [
    "fig, ax = plt.subplots(figsize=(6, 4))\n",
    "fig.suptitle('Estado de las misiones')\n",
    "\n",
    "sns.countplot(data=df, x='mission_status', ax=ax)\n",
    "ax.set_xlabel('Estado de la misión')\n",
    "ax.set_ylabel('Conteo')\n",
    "\n",
    "plt.tight_layout()"
   ]
  },
  {
   "cell_type": "markdown",
   "id": "c757fda5",
   "metadata": {
    "papermill": {
     "duration": 0.026202,
     "end_time": "2023-05-13T12:05:47.088176",
     "exception": false,
     "start_time": "2023-05-13T12:05:47.061974",
     "status": "completed"
    },
    "tags": []
   },
   "source": [
    "how many launches made every company"
   ]
  },
  {
   "cell_type": "markdown",
   "id": "63f1bd78",
   "metadata": {
    "papermill": {
     "duration": 0.026584,
     "end_time": "2023-05-13T12:05:47.142198",
     "exception": false,
     "start_time": "2023-05-13T12:05:47.115614",
     "status": "completed"
    },
    "tags": []
   },
   "source": [
    "Space Company with the most successful missions"
   ]
  },
  {
   "cell_type": "markdown",
   "id": "a6d445a6",
   "metadata": {
    "papermill": {
     "duration": 0.026188,
     "end_time": "2023-05-13T12:05:47.194969",
     "exception": false,
     "start_time": "2023-05-13T12:05:47.168781",
     "status": "completed"
    },
    "tags": []
   },
   "source": [
    "Space Company with the most failed missions"
   ]
  },
  {
   "cell_type": "markdown",
   "id": "0b27b0d3",
   "metadata": {
    "papermill": {
     "duration": 0.026197,
     "end_time": "2023-05-13T12:05:47.249144",
     "exception": false,
     "start_time": "2023-05-13T12:05:47.222947",
     "status": "completed"
    },
    "tags": []
   },
   "source": [
    "# 6. Análisis de Costo"
   ]
  },
  {
   "cell_type": "code",
   "execution_count": 34,
   "id": "e257d425",
   "metadata": {
    "_kg_hide-input": true,
    "execution": {
     "iopub.execute_input": "2023-05-13T12:05:47.306100Z",
     "iopub.status.busy": "2023-05-13T12:05:47.304967Z",
     "iopub.status.idle": "2023-05-13T12:05:48.730382Z",
     "shell.execute_reply": "2023-05-13T12:05:48.729100Z"
    },
    "papermill": {
     "duration": 1.457351,
     "end_time": "2023-05-13T12:05:48.733659",
     "exception": false,
     "start_time": "2023-05-13T12:05:47.276308",
     "status": "completed"
    },
    "tags": []
   },
   "outputs": [
    {
     "data": {
      "image/png": "[encoded data removed]",
      "text/plain": [
       "<Figure size 1000x1000 with 1 Axes>"
      ]
     },
     "metadata": {},
     "output_type": "display_data"
    }
   ],
   "source": [
    "order = df.groupby('company').sum()['cost'].sort_values(ascending=False).index\n",
    "\n",
    "fig, ax = plt.subplots(figsize=(10, 10))\n",
    "fig.suptitle('Total de dinero invertido por cada compañia')\n",
    "\n",
    "sns.barplot(data=df, y='company', x='cost', ax=ax, estimator='sum', errorbar=None, order=order)\n",
    "ax.set_xlabel('Dinero invertido [Millones de USD]')\n",
    "ax.set_ylabel('Compañia')\n",
    "\n",
    "plt.tight_layout()"
   ]
  },
  {
   "cell_type": "markdown",
   "id": "079642aa",
   "metadata": {
    "papermill": {
     "duration": 0.028169,
     "end_time": "2023-05-13T12:05:48.790836",
     "exception": false,
     "start_time": "2023-05-13T12:05:48.762667",
     "status": "completed"
    },
    "tags": []
   },
   "source": [
    "average price per launch for every yea"
   ]
  },
  {
   "cell_type": "markdown",
   "id": "d0cf65a7",
   "metadata": {
    "papermill": {
     "duration": 0.029033,
     "end_time": "2023-05-13T12:05:48.848069",
     "exception": false,
     "start_time": "2023-05-13T12:05:48.819036",
     "status": "completed"
    },
    "tags": []
   },
   "source": [
    "# X. Conclusiones EDA"
   ]
  },
  {
   "cell_type": "markdown",
   "id": "5129ff72",
   "metadata": {
    "papermill": {
     "duration": 0.028934,
     "end_time": "2023-05-13T12:05:48.906571",
     "exception": false,
     "start_time": "2023-05-13T12:05:48.877637",
     "status": "completed"
    },
    "tags": []
   },
   "source": [
    "- Work in progress\n",
    "-  "
   ]
  }
 ],
 "metadata": {
  "kernelspec": {
   "display_name": "Python 3",
   "language": "python",
   "name": "python3"
  },
  "language_info": {
   "codemirror_mode": {
    "name": "ipython",
    "version": 3
   },
   "file_extension": ".py",
   "mimetype": "text/x-python",
   "name": "python",
   "nbconvert_exporter": "python",
   "pygments_lexer": "ipython3",
   "version": "3.7.12"
  },
  "papermill": {
   "default_parameters": {},
   "duration": 24.853072,
   "end_time": "2023-05-13T12:05:50.062999",
   "environment_variables": {},
   "exception": null,
   "input_path": "__notebook__.ipynb",
   "output_path": "__notebook__.ipynb",
   "parameters": {},
   "start_time": "2023-05-13T12:05:25.209927",
   "version": "2.4.0"
  }
 },
 "nbformat": 4,
 "nbformat_minor": 5
}
